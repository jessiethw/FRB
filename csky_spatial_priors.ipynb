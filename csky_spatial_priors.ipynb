{
 "cells": [
  {
   "cell_type": "code",
   "execution_count": 1,
   "metadata": {},
   "outputs": [],
   "source": [
    "%matplotlib inline\n",
    "import numpy as np\n",
    "import matplotlib as mpl\n",
    "import matplotlib.pyplot as plt\n",
    "\n",
    "import histlite as hl\n",
    "import csky as cy\n",
    "import pandas as pd\n",
    "\n",
    "from astropy.coordinates import SkyCoord\n",
    "from astropy import units as u\n",
    "from astropy.time import Time\n",
    "from scipy import stats\n",
    "#making healpy maps\n",
    "import h5py as h5\n",
    "import healpy as hp\n",
    "import os"
   ]
  },
  {
   "cell_type": "code",
   "execution_count": 2,
   "metadata": {},
   "outputs": [
    {
     "name": "stdout",
     "output_type": "stream",
     "text": [
      "Setting up Analysis for:\n",
      "GFU_for_2011_2012_2013_2014_2015_2016_2017_2018_2019\n",
      "Setting up GFU_for_2011_2012_2013_2014_2015_2016_2017_2018_2019...\n",
      "Reading /data/ana/analyses/gfu/version-002-p06/IC86_2011_MC.npy ...\n",
      "Reading /data/ana/analyses/gfu/version-002-p06/IC86_2011_data.npy ...\n",
      "Reading /data/ana/analyses/gfu/version-002-p06/IC86_2012_data.npy ...\n",
      "Reading /data/ana/analyses/gfu/version-002-p06/IC86_2013_data.npy ...\n",
      "Reading /data/ana/analyses/gfu/version-002-p06/IC86_2014_data.npy ...\n",
      "Reading /data/ana/analyses/gfu/version-002-p06/IC86_2015_data.npy ...\n",
      "Reading /data/ana/analyses/gfu/version-002-p06/IC86_2016_data.npy ...\n",
      "Reading /data/ana/analyses/gfu/version-002-p06/IC86_2017_data.npy ...\n",
      "Reading /data/ana/analyses/gfu/version-002-p06/IC86_2018_data.npy ...\n",
      "Reading /data/ana/analyses/gfu/version-002-p06/IC86_2019_data.npy ...\n",
      "Reading /data/ana/analyses/gfu/version-002-p06/GRL/IC86_2011_data.npy ...\n",
      "Reading /data/ana/analyses/gfu/version-002-p06/GRL/IC86_2012_data.npy ...\n",
      "Reading /data/ana/analyses/gfu/version-002-p06/GRL/IC86_2013_data.npy ...\n",
      "Reading /data/ana/analyses/gfu/version-002-p06/GRL/IC86_2014_data.npy ...\n",
      "Reading /data/ana/analyses/gfu/version-002-p06/GRL/IC86_2015_data.npy ...\n",
      "Reading /data/ana/analyses/gfu/version-002-p06/GRL/IC86_2016_data.npy ...\n",
      "Reading /data/ana/analyses/gfu/version-002-p06/GRL/IC86_2017_data.npy ...\n",
      "Reading /data/ana/analyses/gfu/version-002-p06/GRL/IC86_2018_data.npy ...\n",
      "Reading /data/ana/analyses/gfu/version-002-p06/GRL/IC86_2019_data.npy ...\n",
      "Energy PDF Ratio Model...\n",
      "  * gamma = 4.0000 ...\n",
      "Signal Acceptance Model...\n",
      "  * gamma = 4.0000 ...\n",
      "Done.\n"
     ]
    }
   ],
   "source": [
    "import setup\n",
    "import chime_localizations as loc"
   ]
  },
  {
   "cell_type": "code",
   "execution_count": 12,
   "metadata": {},
   "outputs": [],
   "source": [
    "mpl.rcParams['font.size'] = 20\n",
    "ana=cy.CONF['ana']\n",
    "\n",
    "seed=1\n",
    "new_nside=512"
   ]
  },
  {
   "cell_type": "code",
   "execution_count": 29,
   "metadata": {},
   "outputs": [
    {
     "name": "stdout",
     "output_type": "stream",
     "text": [
      "sum of map probabilities: 1.00000\n",
      "sum of map probabilities: 1.00000\n"
     ]
    }
   ],
   "source": [
    "frbs=setup.load_frbs(spatial_priors=True)\n",
    "#spatial prior: use FRB20190416A, dec=33.3\n",
    "wn=np.where(frbs['src']=='FRB20190416A')\n",
    "wn=wn[0][0] #want only one of the bursts\n",
    "\n",
    "frb_probs, msk=loc.make_healpix_map('FRB20190416A', new_nside=new_nside, max_cl=0.90)\n",
    "frb_probs, msk2=loc.make_healpix_map('FRB20190416A', new_nside=new_nside, max_cl=0.99)"
   ]
  },
  {
   "cell_type": "code",
   "execution_count": 30,
   "metadata": {},
   "outputs": [
    {
     "name": "stdout",
     "output_type": "stream",
     "text": [
      "98\n",
      "153\n"
     ]
    }
   ],
   "source": [
    "print(len(np.where(msk)[0]))\n",
    "print(len(np.where(msk2)[0]))"
   ]
  },
  {
   "cell_type": "code",
   "execution_count": 19,
   "metadata": {},
   "outputs": [],
   "source": [
    "src=setup.sources(10000., frbs['mjd'].values[wn], frbs['ra_deg'].values[wn], \n",
    "                  frbs['dec_deg'].values[wn])\n",
    "#tr = cy.get_spatial_prior_trial_runner(src_tr=src, \n",
    "#                        llh_priors=frb_probs, refine_max=False, get_pixmask=True)"
   ]
  },
  {
   "cell_type": "code",
   "execution_count": 34,
   "metadata": {},
   "outputs": [
    {
     "name": "stdout",
     "output_type": "stream",
     "text": [
      "Scanning 1 locations using 15 cores:\n",
      "          1/1 coordinates complete.   \n",
      "CPU times: user 10.2 s, sys: 4.52 s, total: 14.7 s\n",
      "Wall time: 16.7 s\n"
     ]
    }
   ],
   "source": [
    "sstr = cy.get_sky_scan_trial_runner(ana=ana, nside=new_nside, src_tr=src, pixmask=msk2)\n",
    "\n",
    "%time scan = sstr.get_one_scan(seed = seed, mp_cpus=15, logging=True)"
   ]
  },
  {
   "cell_type": "code",
   "execution_count": 22,
   "metadata": {},
   "outputs": [
    {
     "data": {
      "image/png": "[encoded data removed]",
      "text/plain": [
       "<Figure size 612x388.8 with 2 Axes>"
      ]
     },
     "metadata": {
      "needs_background": "light"
     },
     "output_type": "display_data"
    }
   ],
   "source": [
    "hp.mollview(scan[1], coord='C')"
   ]
  },
  {
   "cell_type": "code",
   "execution_count": null,
   "metadata": {},
   "outputs": [],
   "source": []
  }
 ],
 "metadata": {
  "kernelspec": {
   "display_name": "Python 3",
   "language": "python",
   "name": "python3"
  },
  "language_info": {
   "codemirror_mode": {
    "name": "ipython",
    "version": 3
   },
   "file_extension": ".py",
   "mimetype": "text/x-python",
   "name": "python",
   "nbconvert_exporter": "python",
   "pygments_lexer": "ipython3",
   "version": "3.7.5"
  }
 },
 "nbformat": 4,
 "nbformat_minor": 2
}
