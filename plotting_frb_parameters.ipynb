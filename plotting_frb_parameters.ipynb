{
 "cells": [
  {
   "cell_type": "code",
   "execution_count": 1,
   "metadata": {},
   "outputs": [],
   "source": [
    "%matplotlib inline"
   ]
  },
  {
   "cell_type": "code",
   "execution_count": 2,
   "metadata": {},
   "outputs": [],
   "source": [
    "import numpy as np\n",
    "import pandas as pd\n",
    "import json\n",
    "#import seaborn as sns\n",
    "from astropy.time import Time\n",
    "from astropy.coordinates import SkyCoord\n",
    "from astropy import units as u\n",
    "\n",
    "import matplotlib.pyplot as plt\n",
    "import matplotlib as mpl\n",
    "mpl.rcParams['font.size'] = 20"
   ]
  },
  {
   "cell_type": "markdown",
   "metadata": {},
   "source": [
    "### Importing catalog data from CSV (FRBCat) and JSON (CHIME repeaters)"
   ]
  },
  {
   "cell_type": "code",
   "execution_count": 3,
   "metadata": {},
   "outputs": [
    {
     "name": "stdout",
     "output_type": "stream",
     "text": [
      "(191, 9)\n"
     ]
    },
    {
     "data": {
      "text/html": [
       "<div>\n",
       "<style scoped>\n",
       "    .dataframe tbody tr th:only-of-type {\n",
       "        vertical-align: middle;\n",
       "    }\n",
       "\n",
       "    .dataframe tbody tr th {\n",
       "        vertical-align: top;\n",
       "    }\n",
       "\n",
       "    .dataframe thead th {\n",
       "        text-align: right;\n",
       "    }\n",
       "</style>\n",
       "<table border=\"1\" class=\"dataframe\">\n",
       "  <thead>\n",
       "    <tr style=\"text-align: right;\">\n",
       "      <th></th>\n",
       "      <th>frb_name</th>\n",
       "      <th>utc</th>\n",
       "      <th>telescope</th>\n",
       "      <th>rop_raj</th>\n",
       "      <th>rop_decj</th>\n",
       "      <th>rmp_dm</th>\n",
       "      <th>rmp_width</th>\n",
       "      <th>rmp_snr</th>\n",
       "      <th>rmp_flux</th>\n",
       "    </tr>\n",
       "  </thead>\n",
       "  <tbody>\n",
       "    <tr>\n",
       "      <th>0</th>\n",
       "      <td>FRB20200125A</td>\n",
       "      <td>2020/01/25 12:15:19.600</td>\n",
       "      <td>GBT</td>\n",
       "      <td>14:36:31.580</td>\n",
       "      <td>+07:42:06.84</td>\n",
       "      <td>179.47&amp;plusmn0.05</td>\n",
       "      <td>3.70</td>\n",
       "      <td>8.10</td>\n",
       "      <td>0.368</td>\n",
       "    </tr>\n",
       "    <tr>\n",
       "      <th>1</th>\n",
       "      <td>FRB20190614D</td>\n",
       "      <td>2019/06/14 01:13:02.010</td>\n",
       "      <td>VLA</td>\n",
       "      <td>04:20:18.130</td>\n",
       "      <td>+73:42:24.3</td>\n",
       "      <td>959.2&amp;plusmn5</td>\n",
       "      <td>5.00</td>\n",
       "      <td>8.27</td>\n",
       "      <td>0.124</td>\n",
       "    </tr>\n",
       "    <tr>\n",
       "      <th>2</th>\n",
       "      <td>FRB191108</td>\n",
       "      <td>2019/11/08 19:48:50.471</td>\n",
       "      <td>Apertif</td>\n",
       "      <td>01:33:47.000</td>\n",
       "      <td>+31:51:30</td>\n",
       "      <td>588.1&amp;plusmn0.1</td>\n",
       "      <td>0.34</td>\n",
       "      <td>103.00</td>\n",
       "      <td>27.000</td>\n",
       "    </tr>\n",
       "    <tr>\n",
       "      <th>3</th>\n",
       "      <td>FRB190907.J08+46</td>\n",
       "      <td>2019/09/07 17:02:43.311</td>\n",
       "      <td>CHIME/FRB</td>\n",
       "      <td>08:09:00.000</td>\n",
       "      <td>+46:16</td>\n",
       "      <td>310.9&amp;plusmn0.4</td>\n",
       "      <td>3.00</td>\n",
       "      <td>0.00</td>\n",
       "      <td>0.300</td>\n",
       "    </tr>\n",
       "    <tr>\n",
       "      <th>4</th>\n",
       "      <td>FRB190907.J08+46</td>\n",
       "      <td>2019/09/15 16:27:37.000</td>\n",
       "      <td>CHIME/FRB</td>\n",
       "      <td>08:09:00.000</td>\n",
       "      <td>+46:16</td>\n",
       "      <td>309.5&amp;plusmn0.4</td>\n",
       "      <td>0.54</td>\n",
       "      <td>0.00</td>\n",
       "      <td>0.400</td>\n",
       "    </tr>\n",
       "  </tbody>\n",
       "</table>\n",
       "</div>"
      ],
      "text/plain": [
       "           frb_name                      utc  telescope       rop_raj  \\\n",
       "0      FRB20200125A  2020/01/25 12:15:19.600        GBT  14:36:31.580   \n",
       "1      FRB20190614D  2019/06/14 01:13:02.010        VLA  04:20:18.130   \n",
       "2         FRB191108  2019/11/08 19:48:50.471    Apertif  01:33:47.000   \n",
       "3  FRB190907.J08+46  2019/09/07 17:02:43.311  CHIME/FRB  08:09:00.000   \n",
       "4  FRB190907.J08+46  2019/09/15 16:27:37.000  CHIME/FRB  08:09:00.000   \n",
       "\n",
       "       rop_decj             rmp_dm  rmp_width  rmp_snr  rmp_flux  \n",
       "0  +07:42:06.84  179.47&plusmn0.05       3.70     8.10     0.368  \n",
       "1   +73:42:24.3      959.2&plusmn5       5.00     8.27     0.124  \n",
       "2     +31:51:30    588.1&plusmn0.1       0.34   103.00    27.000  \n",
       "3        +46:16    310.9&plusmn0.4       3.00     0.00     0.300  \n",
       "4        +46:16    309.5&plusmn0.4       0.54     0.00     0.400  "
      ]
     },
     "execution_count": 3,
     "metadata": {},
     "output_type": "execute_result"
    }
   ],
   "source": [
    "frbs_cat = pd.read_csv('./catalog/frbcat_20210519_all.csv') #rel path\n",
    "#frbs = pd.read_csv('/home/jthwaites/frbcat_20210212.csv') #abs path\n",
    "\n",
    "print(frbs_cat.shape)\n",
    "frbs_cat.head() #Look at what the dataframe looks like\n",
    "#frbs_cat.columns #list of columns from csv\n",
    "#'frb_name', 'utc', 'telescope', 'rop_raj', 'rop_decj', 'rop_gl',\n",
    "#       'rop_gb', 'rmp_dm', 'rmp_width', 'rmp_snr', 'rmp_flux'"
   ]
  },
  {
   "cell_type": "code",
   "execution_count": 4,
   "metadata": {},
   "outputs": [],
   "source": [
    "with open('./catalog/repeaters.txt') as json_file:\n",
    "    repeaters = json.load(json_file)\n",
    "#print(repeaters.keys())"
   ]
  },
  {
   "cell_type": "code",
   "execution_count": 5,
   "metadata": {},
   "outputs": [
    {
     "name": "stdout",
     "output_type": "stream",
     "text": [
      "['190907.J08+46', 'FRB20180814A', 'FRB20180908B', 'FRB20180916B', 'FRB20181017A', 'FRB20181030B', 'FRB20181119A', 'FRB20181128A', 'FRB20190116B', 'FRB20190117A', 'FRB20190208A', 'FRB20190209A', 'FRB20190212A', 'FRB20190213A', 'FRB20190222A', 'FRB20190303A', 'FRB20190417A', 'FRB20190604A']\n"
     ]
    }
   ],
   "source": [
    "#making data arrays that are easier to work with: source names and n_bursts\n",
    "rep_num={'source':[],'n_bursts':[]}\n",
    "ra_dec=[[],[]]\n",
    "for source in repeaters:\n",
    "    ra_dec[0].append(repeaters[source]['ra']['value'])\n",
    "    ra_dec[1].append(repeaters[source]['dec']['value'])\n",
    "    \n",
    "    count=0\n",
    "    for key in repeaters[source]:\n",
    "        if key != 'dm' and key !='ymw16' and key!='dec' and key!='gl' and key!='gb' and key!= 'ra' and \\\n",
    "            key!='localized' and key!='last_burst_date' and key!='publication' and key!='ne2001' and \\\n",
    "            key!='previous_name': \n",
    "            count+=1\n",
    "            \n",
    "    rep_num['source'].append(source)\n",
    "    rep_num['n_bursts'].append(count)\n",
    "    \n",
    "#coordinates of repeaters as skycoord obj\n",
    "rep_coord=SkyCoord(ra=ra_dec[0], dec=ra_dec[1], unit=(u.hourangle, u.deg))\n",
    "#for i in range(len(rep_num['source'])):\n",
    "#    print(rep_num['source'][i], rep_num['n_bursts'][i],rep_coord[i])\n",
    "print(rep_num['source'])"
   ]
  },
  {
   "cell_type": "code",
   "execution_count": 6,
   "metadata": {},
   "outputs": [],
   "source": [
    "frbs_rep=pd.DataFrame.from_dict(data=rep_num)"
   ]
  },
  {
   "cell_type": "code",
   "execution_count": 7,
   "metadata": {},
   "outputs": [
    {
     "name": "stdout",
     "output_type": "stream",
     "text": [
      "Number of repeater events:  172\n",
      "2019-09-07 17:02:43.311\n"
     ]
    }
   ],
   "source": [
    "#counting repeater events and getting repeater mjd array\n",
    "rep_utc=[]\n",
    "for source in repeaters:\n",
    "    for event in repeaters[source].keys():\n",
    "        if 'timestamp' in repeaters[source][event].keys():\n",
    "            rep_utc.append(repeaters[source][event]['timestamp']['value'])\n",
    "frbs_rep_mjd = np.asarray([Time(t, format='iso').mjd for t in rep_utc])\n",
    "print('Number of repeater events: ',len(frbs_rep_mjd))\n",
    "print(repeaters['190907.J08+46']['190907']['timestamp']['value'])"
   ]
  },
  {
   "cell_type": "markdown",
   "metadata": {},
   "source": [
    "#### reading in Chime catalog 1"
   ]
  },
  {
   "cell_type": "code",
   "execution_count": 12,
   "metadata": {},
   "outputs": [
    {
     "name": "stdout",
     "output_type": "stream",
     "text": [
      "(599, 55)\n"
     ]
    },
    {
     "data": {
      "text/plain": [
       "Index(['tns_name', 'previous_name', 'repeater_name', 'ra', 'ra_err',\n",
       "       'ra_notes', 'dec', 'dec_err', 'dec_notes', 'gl', 'gb', 'exp_up',\n",
       "       'exp_up_err', 'exp_up_notes', 'exp_low', 'exp_low_err', 'exp_low_notes',\n",
       "       'bonsai_snr', 'bonsai_dm', 'low_ft_68', 'up_ft_68', 'low_ft_95',\n",
       "       'up_ft_95', 'snr_fitb', 'dm_fitb', 'dm_fitb_err', 'dm_exc_ne2001',\n",
       "       'dm_exc_ymw16', 'bc_width', 'scat_time', 'scat_time_err', 'flux',\n",
       "       'flux_err', 'flux_notes', 'fluence', 'fluence_err', 'fluence_notes',\n",
       "       'sub_num', 'mjd_400', 'mjd_400_err', 'mjd_inf', 'mjd_inf_err',\n",
       "       'width_fitb', 'width_fitb_err', 'sp_idx', 'sp_idx_err', 'sp_run',\n",
       "       'sp_run_err', 'high_freq', 'low_freq', 'peak_freq', 'chi_sq', 'dof',\n",
       "       'flag_frac', 'excluded_flag'],\n",
       "      dtype='object')"
      ]
     },
     "execution_count": 12,
     "metadata": {},
     "output_type": "execute_result"
    }
   ],
   "source": [
    "chime_cat1 = pd.read_csv('./catalog/chimefrbcat1.csv') #rel path\n",
    "\n",
    "print(chime_cat1.shape)\n",
    "chime_cat1.columns"
   ]
  },
  {
   "cell_type": "code",
   "execution_count": 13,
   "metadata": {},
   "outputs": [
    {
     "name": "stderr",
     "output_type": "stream",
     "text": [
      "/cvmfs/icecube.opensciencegrid.org/py3-v4.1.0/RHEL_7_x86_64/lib/python3.7/site-packages/ipykernel_launcher.py:6: SettingWithCopyWarning: \n",
      "A value is trying to be set on a copy of a slice from a DataFrame\n",
      "\n",
      "See the caveats in the documentation: http://pandas.pydata.org/pandas-docs/stable/indexing.html#indexing-view-versus-copy\n",
      "  \n"
     ]
    },
    {
     "data": {
      "text/plain": [
       "578"
      ]
     },
     "execution_count": 13,
     "metadata": {},
     "output_type": "execute_result"
    }
   ],
   "source": [
    "cat1_times=[Time('2018-07-25 00:00:00', format='iso').mjd, Time('2019-07-01 00:00:00', format='iso').mjd]\n",
    "remove_rep_duplicates=[]\n",
    "for i in range(len(chime_cat1['repeater_name'])):\n",
    "    name=chime_cat1['repeater_name'][i]\n",
    "    if chime_cat1['previous_name'][i]== '190907.J08+46' or chime_cat1['previous_name'][i]== 'FRB121102':\n",
    "        chime_cat1['tns_name'][i]=chime_cat1['previous_name'][i]\n",
    "    if chime_cat1['tns_name'][i] in rep_num['source']:\n",
    "        if chime_cat1['mjd_400'][i]>cat1_times[0] and chime_cat1['mjd_400'][i]<cat1_times[1]:\n",
    "            remove_rep_duplicates.append(i)\n",
    "            \n",
    "msk_1=cat1_times[0]<frbs_rep_mjd\n",
    "msk_2=cat1_times[1]>frbs_rep_mjd\n",
    "chime_cat1=chime_cat1.drop(remove_rep_duplicates)\n",
    "len(chime_cat1)"
   ]
  },
  {
   "cell_type": "code",
   "execution_count": 14,
   "metadata": {},
   "outputs": [],
   "source": [
    "#for src in rep_num['source']:\n",
    "#src=rep_num['source'][1]\n",
    "#w=np.where(src==chime_cat1['repeater_name'])\n",
    "#print([(chime_cat1['mjd_400'][j],chime_cat1['mjd_400_err'][j]) for j in w])\n",
    "\n",
    "#utc=[]\n",
    "#if w[0].size != 0: \n",
    "#    for event in repeaters[src].keys():\n",
    "#        if 'timestamp' in repeaters[src][event].keys():\n",
    "#            utc.append(repeaters[src][event]['timestamp']['value'])\n",
    "#utc = np.asarray([Time(t, format='iso').mjd for t in utc])\n",
    "#print(chime_cat1['mjd_400'][33])\n",
    "#print(chime_cat1['mjd_400'][34])\n"
   ]
  },
  {
   "cell_type": "code",
   "execution_count": null,
   "metadata": {},
   "outputs": [],
   "source": []
  },
  {
   "cell_type": "code",
   "execution_count": null,
   "metadata": {},
   "outputs": [],
   "source": []
  },
  {
   "cell_type": "code",
   "execution_count": 15,
   "metadata": {},
   "outputs": [
    {
     "data": {
      "text/plain": [
       "(array([147, 151, 153, 155, 156, 157, 158, 159, 160, 161, 162, 163, 164,\n",
       "        165, 166, 167, 168, 169, 170, 171, 172, 173, 174, 175, 176, 178,\n",
       "        179, 180, 182, 183]),)"
      ]
     },
     "execution_count": 15,
     "metadata": {},
     "output_type": "execute_result"
    }
   ],
   "source": [
    "#FRBs from 6-yr analysis (transient tracks)\n",
    "msk1=frbs_cat['frb_name']=='FRB110523'\n",
    "msk2=frbs_cat['frb_name']=='FRB110703'\n",
    "msk3=frbs_cat['frb_name']=='FRB121102' #repeater\n",
    "msk4=frbs_cat['frb_name']=='FRB130628'\n",
    "msk5=frbs_cat['frb_name']=='FRB110220'\n",
    "#msk6=frbs_cat['frb_name']=='FRB110626' #->returns none\n",
    "msk7=frbs_cat['frb_name']=='FRB120127'\n",
    "msk8=frbs_cat['frb_name']=='FRB121002'\n",
    "msk9=frbs_cat['frb_name']=='FRB130626'\n",
    "msk10=frbs_cat['frb_name']=='FRB130729'\n",
    "msk11=frbs_cat['frb_name']=='FRB131104'\n",
    "msk12=frbs_cat['frb_name']=='FRB140514'\n",
    "msk13=frbs_cat['frb_name']=='FRB150418'\n",
    "\n",
    "w121102=np.where(msk3==True)\n",
    "msk=msk1|msk2|msk4|msk3|msk5|msk7|msk8|msk9|msk10|msk11|msk12|msk13\n",
    "#msk=msk1|msk2|msk4|msk3|msk5|msk6|msk7|msk8|msk9|msk10|msk11|msk12|msk13\n",
    "np.where(msk==True)"
   ]
  },
  {
   "cell_type": "code",
   "execution_count": 16,
   "metadata": {},
   "outputs": [
    {
     "data": {
      "text/plain": [
       "(array([107, 108, 118, 124, 126, 132, 135, 136, 137, 139, 140, 141, 145,\n",
       "        146, 147, 148, 151, 153, 155, 156, 157, 158, 159, 160, 161, 162,\n",
       "        163, 164, 165, 166, 167, 168, 169, 170, 171, 172, 173, 174, 175,\n",
       "        176, 178, 179, 180, 182, 183]),)"
      ]
     },
     "execution_count": 16,
     "metadata": {},
     "output_type": "execute_result"
    }
   ],
   "source": [
    "#FRBs from 2020 paper\n",
    "msk14=frbs_cat['frb_name']=='FRB110626'\n",
    "msk15=frbs_cat['frb_name']=='FRB150215'\n",
    "msk16=frbs_cat['frb_name']=='FRB150610'\n",
    "msk17=frbs_cat['frb_name']=='FRB150807'\n",
    "msk18=frbs_cat['frb_name']=='FRB151206'\n",
    "msk19=frbs_cat['frb_name']=='FRB151230'\n",
    "msk20=frbs_cat['frb_name']=='FRB160102'\n",
    "msk21=frbs_cat['frb_name']=='FRB160317'\n",
    "msk22=frbs_cat['frb_name']=='FRB160410'\n",
    "msk23=frbs_cat['frb_name']=='FRB160608'\n",
    "msk24=frbs_cat['frb_name']=='FRB170107'\n",
    "msk25=frbs_cat['frb_name']=='FRB170827'\n",
    "msk26=frbs_cat['frb_name']=='FRB170922'\n",
    "msk27=frbs_cat['frb_name']=='FRB171209'\n",
    "#msk28=frbs_cat['frb_name']=='FRB180301'\n",
    "msk29=frbs_cat['frb_name']=='FRB180309'\n",
    "msk30=frbs_cat['frb_name']=='FRB180311'\n",
    "\n",
    "new_msk=msk|msk14|msk15|msk16|msk17|msk18|msk19|msk20|msk21|msk22|msk23|msk24|msk25|msk26|msk27|msk29|msk30\n",
    "np.where(new_msk==True)"
   ]
  },
  {
   "cell_type": "code",
   "execution_count": 17,
   "metadata": {},
   "outputs": [
    {
     "name": "stdout",
     "output_type": "stream",
     "text": [
      "Initial number of FRBs in FRBCat:  191\n",
      "Number of FRBs from FRBCat, w/out CHIME repeaters:  118\n",
      "Number removed:  73\n"
     ]
    }
   ],
   "source": [
    "#CHIME repeaters: remove repeaters from FRBCat to not double-count events\n",
    "chimes=np.where(frbs_cat['telescope']=='CHIME/FRB')\n",
    "frbcheck=[] #names from frbcat\n",
    "for n in chimes[0]:\n",
    "    frbcheck.append(frbs_cat['frb_name'][n][0:9])\n",
    "    \n",
    "frbcat_format=''\n",
    "rem=[[],[]]\n",
    "for source in rep_num['source']:\n",
    "    if source[0:3]=='FRB':\n",
    "        frbcat_format=source[0:3]+source[5:-1]\n",
    "    else:\n",
    "        frbcat_format='FRB'+source[0:6]\n",
    "    \n",
    "    res = any(ele in frbcat_format for ele in frbcheck)\n",
    "    if bool(res) == 1:\n",
    "        rem[0].append(frbcheck[frbcheck.index(frbcat_format)])\n",
    "    \n",
    "print('Initial number of FRBs in FRBCat: ',len(frbs_cat))\n",
    "\n",
    "for ind in range(len(frbs_cat['frb_name'])):\n",
    "    res = any(ele in frbs_cat['frb_name'][ind] for ele in rem[0])\n",
    "    if bool(res)==1:\n",
    "        rem[1].append(ind)\n",
    "frbs=frbs_cat.drop(rem[1])\n",
    "print('Number of FRBs from FRBCat, w/out CHIME repeaters: ',len(frbs))\n",
    "print('Number removed: ',len(rem[1]))"
   ]
  },
  {
   "cell_type": "code",
   "execution_count": 18,
   "metadata": {},
   "outputs": [],
   "source": [
    "#saving all sources as csv file\n",
    "frbs.to_csv('./catalog/frbs_wout_chime.csv',index=False)"
   ]
  },
  {
   "cell_type": "code",
   "execution_count": 19,
   "metadata": {},
   "outputs": [
    {
     "name": "stdout",
     "output_type": "stream",
     "text": [
      "N unique FRBs:  98\n"
     ]
    }
   ],
   "source": [
    "#still have some which are repeaters from frbcat -> seperate these to not double count the ra,dec\n",
    "rep_ind = []\n",
    "\n",
    "#for i in frbs['frb_name'].index:\n",
    "#    if frbs['frb_name'][i] in frbs['frb_name'].values: print(i)\n",
    "    \n",
    "unique_frbs, frb_ind_all, n_frbs = np.unique(frbs['frb_name'].values, return_index=True, return_counts=True)\n",
    "frb_ind_all=frbs['frb_name'].index[frb_ind_all]\n",
    "print('N unique FRBs: ',len(frb_ind_all))"
   ]
  },
  {
   "cell_type": "code",
   "execution_count": 20,
   "metadata": {},
   "outputs": [],
   "source": [
    "#convert to mjd, switch to iso format\n",
    "frbs_mjd = np.asarray([Time(t.replace('/', '-'), format='iso').mjd for t in frbs['utc']]) \n",
    "frbs_flux= frbs['rmp_flux']"
   ]
  },
  {
   "cell_type": "code",
   "execution_count": 21,
   "metadata": {},
   "outputs": [],
   "source": [
    "#frbs['rop_decj'].reindex(frb_ind_all).values\n",
    "frbs_coord = SkyCoord(ra=frbs['rop_raj'].reindex(frb_ind_all).values, \n",
    "                      dec=frbs['rop_decj'].reindex(frb_ind_all).values, \n",
    "                      unit=(u.hourangle, u.deg))"
   ]
  },
  {
   "cell_type": "code",
   "execution_count": 22,
   "metadata": {},
   "outputs": [
    {
     "data": {
      "image/png": "[encoded data removed]",
      "text/plain": [
       "<Figure size 720x432 with 1 Axes>"
      ]
     },
     "metadata": {
      "needs_background": "light"
     },
     "output_type": "display_data"
    }
   ],
   "source": [
    "year_bins = [Time(f'20{year:02d}-01-01 00:00:00', format='iso').mjd for year in range(8, 22)]\n",
    "\n",
    "#dates hist\n",
    "fig, ax = plt.subplots(figsize=(10,6))\n",
    "plt.hist(frbs_mjd, bins=year_bins, histtype='step', lw=2., label='FRBCat')\n",
    "plt.hist(frbs_rep_mjd, bins=year_bins, histtype='step', lw=2., label='CHIME repeaters')\n",
    "plt.legend(loc=2)\n",
    "plt.xlabel('MJD')\n",
    "plt.ylabel(r'$N$') #r means latex only input\n",
    "ax.set_title(r'Distribution of FRBs by Date', fontsize=20)\n",
    "#ax.ticklabel_format() #fontsizes?\n",
    "plt.savefig('./frb_param_plots/date_distr.png')"
   ]
  },
  {
   "cell_type": "code",
   "execution_count": 23,
   "metadata": {},
   "outputs": [
    {
     "data": {
      "image/png": "[encoded data removed]",
      "text/plain": [
       "<Figure size 720x432 with 1 Axes>"
      ]
     },
     "metadata": {
      "needs_background": "light"
     },
     "output_type": "display_data"
    }
   ],
   "source": [
    "#decl hist\n",
    "fig, ax = plt.subplots(figsize=(10,6))\n",
    "dec_bins = np.linspace(-90,90,num=19) #num=19 for every 10 deg\n",
    "\n",
    "plt.hist(frbs_coord.dec, bins=dec_bins, histtype='step', lw=2., label='FRBCat')\n",
    "plt.hist(rep_coord.dec, bins=dec_bins, histtype='step', lw=2., label='Chimes repeaters')\n",
    "plt.legend(loc=0)\n",
    "ax.set_title(r'$\\delta$ for FRBs', fontsize=18)\n",
    "plt.xlabel(r'$\\delta$ [deg]')\n",
    "plt.ylabel(r'$N$')\n",
    "plt.show()"
   ]
  },
  {
   "cell_type": "code",
   "execution_count": 24,
   "metadata": {},
   "outputs": [],
   "source": [
    "dec=frbs['rop_decj'].reindex(frb_ind_all).values\n",
    "ra=frbs['rop_raj'].reindex(frb_ind_all).values\n",
    "sources_frbcat=frbs['frb_name'].reindex(frb_ind_all).values\n",
    "\n",
    "all_decs=np.concatenate((ra_dec[1],dec))\n",
    "all_ras=np.concatenate((ra_dec[0],ra))\n",
    "de=[]\n",
    "n=0\n",
    "s=0\n",
    "for d in all_decs:\n",
    "    if len(d)<7: \n",
    "        de.append(d+':00.0')\n",
    "    else: de.append(d)\n",
    "    dig=0\n",
    "    if d[0]=='+'or d[0]=='-': \n",
    "        if d[2]==':': dig=2\n",
    "        else: dig=3\n",
    "    else: \n",
    "        if d[1]==':': dig=1\n",
    "        else: dig=2\n",
    "    \n",
    "    if float(d[0:dig])>-5: n+=1\n",
    "    elif float(d[0:dig])<=-5: s+=1\n",
    "    else: print('err')"
   ]
  },
  {
   "cell_type": "code",
   "execution_count": 25,
   "metadata": {},
   "outputs": [
    {
     "data": {
      "image/png": "[encoded data removed]",
      "text/plain": [
       "<Figure size 864x576 with 1 Axes>"
      ]
     },
     "metadata": {
      "needs_background": "light"
     },
     "output_type": "display_data"
    }
   ],
   "source": [
    "fig, ax = plt.subplots(figsize=(12,8))\n",
    "dec_bins = np.linspace(-90,90,num=19) #num=19 for every 10 deg\n",
    "\n",
    "ch_decs=np.concatenate((['-44:44:00'],frbs_cat['rop_decj'][msk].values))\n",
    "ch_ras=np.concatenate((['21:03:00'],frbs_cat['rop_raj'][msk].values))\n",
    "ch_coord=SkyCoord(ra=ch_ras, dec=ch_decs, unit=(u.hourangle, u.deg))\n",
    "\n",
    "new_decs=np.concatenate((['+04:34:00'],frbs_cat['rop_decj'][new_msk].values))\n",
    "new_ras=np.concatenate((['06:13:00'],frbs_cat['rop_raj'][new_msk].values))\n",
    "new_coord=SkyCoord(ra=new_ras, dec=new_decs, unit=(u.hourangle, u.deg))\n",
    "\n",
    "cat_coord=SkyCoord(ra=all_ras, dec=de, unit=(u.hourangle, u.deg))\n",
    "plt.hist(cat_coord.dec, bins=dec_bins, histtype='step', lw=2., label='New dataset')\n",
    "plt.hist(ch_coord.dec, bins=dec_bins, histtype='step', lw=2., label='2018 dataset')\n",
    "plt.hist(new_coord.dec, bins=dec_bins, histtype='step', lw=2., label='2020 dataset')\n",
    "\n",
    "ax.set_title(r'Distribution of FRB sources', fontsize=20)\n",
    "plt.legend(loc=0)\n",
    "plt.xlabel(r'Declination [deg]')\n",
    "plt.ylabel(r'Number of sources')\n",
    "plt.axvline(x=-5, c='red')\n",
    "plt.show()"
   ]
  },
  {
   "cell_type": "code",
   "execution_count": 26,
   "metadata": {},
   "outputs": [],
   "source": [
    "#saving all sources as csv file\n",
    "all_names=np.concatenate((rep_num['source'], sources_frbcat))\n",
    "allfrbs=pd.DataFrame({'frb_name':all_names,'ra':all_ras,'dec':all_decs})\n",
    "allfrbs.to_csv('./frbs_coord.csv',index=False)"
   ]
  },
  {
   "cell_type": "code",
   "execution_count": 20,
   "metadata": {},
   "outputs": [
    {
     "name": "stdout",
     "output_type": "stream",
     "text": [
      "       |frbs | repeaters | repeats | events\n",
      "frbcat | 98  | 3  | 23  | 118 \n",
      "chime  | 18  | 18 | 172 | 172 \n",
      "total  | 116 | 21 | 195 | 290 \n",
      "-----------------------------\n",
      "6yr    | 13  | 1  | 17  | 29 \n",
      "L2     | 29  | 1  | 10  | 39 \n",
      "FRB121102 19\n",
      "FRB151125 2\n",
      "FRB180725.J0613+67 2\n"
     ]
    }
   ],
   "source": [
    "#numbers for table\n",
    "#col: unique frbs, repeaters, repeats, events\n",
    "#rows: chime, frbcat,total || 6yr, L2\n",
    "\n",
    "#unique_frbs, frb_ind_all, n_frbs\n",
    "frbcat_rep=0\n",
    "frbcat_rep_events=0\n",
    "for b in n_frbs:\n",
    "    if b > 1: \n",
    "        frbcat_rep +=1\n",
    "        frbcat_rep_events +=b\n",
    "\n",
    "chime_unique_frbs=len(rep_num['source'])\n",
    "frbcat_unique_frbs=len(unique_frbs)\n",
    "all_chime_events=sum(rep_num['n_bursts'])\n",
    "all_frbcat_events=sum(n_frbs)\n",
    "\n",
    "print('       |frbs | repeaters | repeats | events')\n",
    "print('frbcat | %i  | %i  | %i  | %i '%(frbcat_unique_frbs,frbcat_rep,frbcat_rep_events,all_frbcat_events))\n",
    "print('chime  | %i  | %i | %i | %i '%(chime_unique_frbs,chime_unique_frbs,all_chime_events,all_chime_events))\n",
    "print('total  | %i | %i | %i | %i '%(chime_unique_frbs+frbcat_unique_frbs,chime_unique_frbs+frbcat_rep,\n",
    "                                     all_chime_events+frbcat_rep_events,all_chime_events+all_frbcat_events))\n",
    "print('-----------------------------')\n",
    "print('6yr    | 13  | 1  | 17  | 29 '%(12+17))#%(len(w121102[0]),12+len(w121102[0])))\n",
    "print('L2     | 29  | 1  | 10  | 39 ')#%(len(w121102[0]),12+len(w121102[0])))\n",
    "for i in range(len(unique_frbs)): \n",
    "    if n_frbs[i]>1:print(unique_frbs[i], n_frbs[i])"
   ]
  },
  {
   "cell_type": "code",
   "execution_count": 21,
   "metadata": {},
   "outputs": [
    {
     "name": "stdout",
     "output_type": "stream",
     "text": [
      "6yr events total:  47\n",
      "2020 events total:  56\n",
      "new events total:  270\n"
     ]
    }
   ],
   "source": [
    "#total No. events calc \n",
    "#98 singe-burst sources from FRBCat\n",
    "print('6yr events total: ',16+len(ch_decs))\n",
    "print('2020 events total: ',10+len(new_decs))\n",
    "print('new events total: ',98+sum(rep_num['n_bursts']))"
   ]
  },
  {
   "cell_type": "code",
   "execution_count": 22,
   "metadata": {},
   "outputs": [
    {
     "name": "stdout",
     "output_type": "stream",
     "text": [
      "Max flux: 147.50\n",
      "Min flux: 0.0200\n"
     ]
    },
    {
     "data": {
      "text/plain": [
       "[-1.6989700043360185, 2.1687920203141817]"
      ]
     },
     "execution_count": 22,
     "metadata": {},
     "output_type": "execute_result"
    }
   ],
   "source": [
    "#flux hist\n",
    "#remove nan values\n",
    "frbs_flux=frbs_flux[~np.isnan(frbs_flux)]\n",
    "print('Max flux: %.2f'%max(frbs_flux))\n",
    "print('Min flux: %.4f'%min(frbs_flux))\n",
    "log_bins_range=[np.log(min(frbs_flux))/np.log(10),np.log(max(frbs_flux))/np.log(10)]\n",
    "log_bins_range"
   ]
  },
  {
   "cell_type": "code",
   "execution_count": 23,
   "metadata": {},
   "outputs": [
    {
     "data": {
      "image/png": "[encoded data removed]",
      "text/plain": [
       "<Figure size 720x432 with 1 Axes>"
      ]
     },
     "metadata": {
      "needs_background": "light"
     },
     "output_type": "display_data"
    }
   ],
   "source": [
    "flux_bins=np.logspace(log_bins_range[0]-0.5,log_bins_range[1]+0.5, num=20)\n",
    "fig, ax = plt.subplots(figsize=(10,6))\n",
    "plt.hist(frbs_flux, bins=flux_bins, histtype='step', lw=2., label='FRB')\n",
    "\n",
    "plt.ylabel(r'$N$')\n",
    "plt.semilogx()\n",
    "plt.ylim((0,24))\n",
    "plt.xlabel(r'Flux [Jy]')\n",
    "plt.legend(loc=0)\n",
    "ax.set_title(r'FRB fluxes', fontsize=18)\n",
    "plt.show()"
   ]
  },
  {
   "cell_type": "code",
   "execution_count": 24,
   "metadata": {},
   "outputs": [
    {
     "name": "stdout",
     "output_type": "stream",
     "text": [
      "Min time between:  0.08420983795076609 s\n"
     ]
    }
   ],
   "source": [
    "#calculating the time between repeats of a source\n",
    "deltat=[]\n",
    "for source in repeaters:\n",
    "    times=[]\n",
    "    for event in repeaters[source].keys():\n",
    "        if 'timestamp' in repeaters[source][event].keys():\n",
    "            times.append(repeaters[source][event]['timestamp']['value'])\n",
    "    times = np.asarray([Time(t, format='iso').mjd for t in times])\n",
    "    times=np.sort(times)\n",
    "    for i in range(1,len(times)):\n",
    "        deltat.append(times[i]-times[i-1])\n",
    "deltat=np.asarray(deltat)\n",
    "deltat=deltat[deltat.nonzero()]\n",
    "\n",
    "print('Min time between: ',min(deltat)*365*24*3600,'s')\n",
    "small_t=np.where(deltat<(1/365))\n",
    "#for t in np.sort(deltat[small_t]): print('%.2e'%t)"
   ]
  },
  {
   "cell_type": "code",
   "execution_count": 25,
   "metadata": {},
   "outputs": [
    {
     "data": {
      "image/png": "[encoded data removed]",
      "text/plain": [
       "<Figure size 720x432 with 1 Axes>"
      ]
     },
     "metadata": {
      "needs_background": "light"
     },
     "output_type": "display_data"
    }
   ],
   "source": [
    "log_bins_range=[(np.log(min(deltat))/np.log(10))-0.5,(np.log(max(deltat))/np.log(10))+0.5]\n",
    "dt_bins=np.logspace(log_bins_range[0],log_bins_range[1], num=20)\n",
    "fig, ax = plt.subplots(figsize=(10,6))\n",
    "#np.histogram(deltat, bins=dt_bins)\n",
    "plt.hist(deltat, bins=dt_bins, histtype='step', lw=2., label='Chimes repeaters')\n",
    "\n",
    "plt.ylabel(r'$N$')\n",
    "plt.semilogx()\n",
    "\n",
    "plt.xlabel(r'Time (mjd)')\n",
    "plt.legend(loc=2)\n",
    "ax.set_title(r'Time between repeater events', fontsize=18)\n",
    "plt.show()"
   ]
  },
  {
   "cell_type": "code",
   "execution_count": null,
   "metadata": {},
   "outputs": [],
   "source": []
  }
 ],
 "metadata": {
  "kernelspec": {
   "display_name": "Python 3",
   "language": "python",
   "name": "python3"
  },
  "language_info": {
   "codemirror_mode": {
    "name": "ipython",
    "version": 3
   },
   "file_extension": ".py",
   "mimetype": "text/x-python",
   "name": "python",
   "nbconvert_exporter": "python",
   "pygments_lexer": "ipython3",
   "version": "3.7.5"
  }
 },
 "nbformat": 4,
 "nbformat_minor": 4
}
