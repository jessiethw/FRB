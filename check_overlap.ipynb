{
 "cells": [
  {
   "cell_type": "code",
   "execution_count": 54,
   "metadata": {},
   "outputs": [],
   "source": [
    "%matplotlib inline\n",
    "import numpy as np\n",
    "import matplotlib.pyplot as plt\n",
    "import matplotlib as mpl\n",
    "\n",
    "import h5py as h5\n",
    "import healpy as hp\n",
    "import os\n",
    "\n",
    "import pickle as pkl\n",
    "import pandas as pd\n",
    "import chime_localizations as loc\n",
    "\n",
    "mpl.rcParams['font.size'] = 20"
   ]
  },
  {
   "cell_type": "code",
   "execution_count": 2,
   "metadata": {},
   "outputs": [
    {
     "name": "stdout",
     "output_type": "stream",
     "text": [
      "Setting up Analysis for:\n",
      "GFU_for_2011_2012_2013_2014_2015_2016_2017_2018_2019\n",
      "Setting up GFU_for_2011_2012_2013_2014_2015_2016_2017_2018_2019...\n",
      "Reading /data/ana/analyses/gfu/version-002-p06/IC86_2011_MC.npy ...\n",
      "Reading /data/ana/analyses/gfu/version-002-p06/IC86_2011_data.npy ...\n",
      "Reading /data/ana/analyses/gfu/version-002-p06/IC86_2012_data.npy ...\n",
      "Reading /data/ana/analyses/gfu/version-002-p06/IC86_2013_data.npy ...\n",
      "Reading /data/ana/analyses/gfu/version-002-p06/IC86_2014_data.npy ...\n",
      "Reading /data/ana/analyses/gfu/version-002-p06/IC86_2015_data.npy ...\n",
      "Reading /data/ana/analyses/gfu/version-002-p06/IC86_2016_data.npy ...\n",
      "Reading /data/ana/analyses/gfu/version-002-p06/IC86_2017_data.npy ...\n",
      "Reading /data/ana/analyses/gfu/version-002-p06/IC86_2018_data.npy ...\n",
      "Reading /data/ana/analyses/gfu/version-002-p06/IC86_2019_data.npy ...\n",
      "Reading /data/ana/analyses/gfu/version-002-p06/GRL/IC86_2011_data.npy ...\n",
      "Reading /data/ana/analyses/gfu/version-002-p06/GRL/IC86_2012_data.npy ...\n",
      "Reading /data/ana/analyses/gfu/version-002-p06/GRL/IC86_2013_data.npy ...\n",
      "Reading /data/ana/analyses/gfu/version-002-p06/GRL/IC86_2014_data.npy ...\n",
      "Reading /data/ana/analyses/gfu/version-002-p06/GRL/IC86_2015_data.npy ...\n",
      "Reading /data/ana/analyses/gfu/version-002-p06/GRL/IC86_2016_data.npy ...\n",
      "Reading /data/ana/analyses/gfu/version-002-p06/GRL/IC86_2017_data.npy ...\n",
      "Reading /data/ana/analyses/gfu/version-002-p06/GRL/IC86_2018_data.npy ...\n",
      "Reading /data/ana/analyses/gfu/version-002-p06/GRL/IC86_2019_data.npy ...\n",
      "Energy PDF Ratio Model...\n",
      "  * gamma = 4.0000 ...\n",
      "Signal Acceptance Model...\n",
      "  * gamma = 4.0000 ...\n",
      "Done.\n"
     ]
    }
   ],
   "source": [
    "import setup"
   ]
  },
  {
   "cell_type": "code",
   "execution_count": 3,
   "metadata": {},
   "outputs": [
    {
     "name": "stdout",
     "output_type": "stream",
     "text": [
      "Loading all FRBs from catalogs\n",
      "total CHIME FRBs:  534\n"
     ]
    }
   ],
   "source": [
    "\"\"\"Check for overlap in maps at different time windows\n",
    "use mask for CL > max_cl \"\"\"\n",
    "\n",
    "dat_loc='/data/user/jthwaites/chime_localization_data/'\n",
    "dat_files=sorted(os.listdir(dat_loc))\n",
    "\n",
    "frbs=setup.load_frbs()\n",
    "sp_frbs=frbs[frbs['catalog']=='CHIME_1']\n",
    "\n",
    "names=[d[0:12] for d in dat_files]\n",
    "\n",
    "w=[]\n",
    "for src in sp_frbs['src']:\n",
    "    if src not in names:\n",
    "        #if src not in ['FRB20190213A', 'FRB20181017A', 'FRB20190116B']:\n",
    "        [w.append(k) for k in np.where(sp_frbs['src']==src)[0]]\n",
    "\n",
    "w=np.unique(w)\n",
    "w=sp_frbs.index[w]\n",
    "print('total CHIME FRBs: ',len(sp_frbs['src']))\n",
    "sp_frbs=sp_frbs.drop(w)"
   ]
  },
  {
   "cell_type": "code",
   "execution_count": 4,
   "metadata": {},
   "outputs": [
    {
     "name": "stdout",
     "output_type": "stream",
     "text": [
      "FRBs with spatial prior:  512\n",
      "number of repeater bursts w spatial prior:  41\n",
      "number of repeaters:  16\n",
      "individual FRBs:  487\n",
      "loc files:  487\n"
     ]
    }
   ],
   "source": [
    "print('FRBs with spatial prior: ',len(sp_frbs))\n",
    "n_repbursts=sp_frbs.index[np.where(sp_frbs['repeater']==True)[0]].values\n",
    "\n",
    "n_unique_frbs=len(np.unique(sp_frbs['src'][n_repbursts].values))\n",
    "print('number of repeater bursts w spatial prior: ',len(np.where(sp_frbs['repeater']==True)[0]))\n",
    "print('number of repeaters: ',n_unique_frbs)\n",
    "print('individual FRBs: ',(len(sp_frbs)-(41-16)))\n",
    "print('loc files: ',len(dat_files))"
   ]
  },
  {
   "cell_type": "code",
   "execution_count": 22,
   "metadata": {},
   "outputs": [],
   "source": [
    "def temporal_overlap(tw):\n",
    "    tw=tw/86400.\n",
    "    t_overlap=[]\n",
    "    for i in range(len(dat_files)):\n",
    "        frb_name=dat_files[i][0:12]\n",
    "        f=np.where(sp_frbs['src']==frb_name)[0][0]\n",
    "    \n",
    "        frb_time=frbs['mjd'].values[f]\n",
    "        trange=[frb_time-(tw/2.),frb_time+(tw/2.)]\n",
    "    \n",
    "        for j in [x for x in range(len(dat_files)) if x != i]:\n",
    "            frb_name2= dat_files[j][0:12]\n",
    "            if frb_name == frb_name2: continue\n",
    "                \n",
    "            f2=np.where(sp_frbs['src']==frb_name2)[0]\n",
    "        \n",
    "            frb_time2=frbs['mjd'].values[f2]\n",
    "            \n",
    "            for k in range(len(frb_time2)):\n",
    "                trange2=[frb_time2[k]-(tw/2.),frb_time2[k]+(tw/2.)]\n",
    "        \n",
    "                check1= trange[0]<trange2[0] and trange[1]>trange2[0]\n",
    "                check2= trange[0]<trange2[1] and trange[1]>trange2[1]\n",
    "                if check1 or check2: \n",
    "                    if [frb_name2,frb_name] not in t_overlap:\n",
    "                        t_overlap.append([frb_name, frb_name2])\n",
    "    return t_overlap\n",
    "        \n",
    "def spatial_overlap(names, overlap, new_nside, max_cl):\n",
    "    #names= pairs of overlapping names to check\n",
    "    new_localizations = pd.read_pickle(r'/home/jthwaites/FRB/sp_maps_extent.pkl')\n",
    "    \n",
    "    #start by checking if 90%CLs are within 1 degree from extent of CLs - \n",
    "    #faster than reading in healpix maps\n",
    "    s_overlap=[]\n",
    "\n",
    "    for i in range(len(names)):\n",
    "        index1= np.where(np.asarray(new_localizations['tns_name'])==names[i][0])[0]\n",
    "        index2= np.where(np.asarray(new_localizations['tns_name'])==names[i][1])[0]\n",
    "        if len(index1)!=1:\n",
    "            print('Error: cannot find localization for %s'%(names[i][0]))\n",
    "            break\n",
    "        elif len(index2)!= 1: \n",
    "            print('Error: cannot find localization for %s'%(names[i][1]))\n",
    "            break\n",
    "        index1 = index1[0]\n",
    "        index2 = index2[0]\n",
    "    \n",
    "        ra_max1=new_localizations['ra'][index1]+(new_localizations['ra_unc_90'][index1]/2)+1\n",
    "        ra_min1=new_localizations['ra'][index1]-(new_localizations['ra_unc_90'][index1]/2)-1\n",
    "        ra_max2=new_localizations['ra'][index2]+(new_localizations['ra_unc_90'][index2]/2)+1\n",
    "        ra_min2=new_localizations['ra'][index2]-(new_localizations['ra_unc_90'][index2]/2)-1\n",
    "    \n",
    "        if ra_min1>ra_max2 or ra_max1<ra_min2: continue\n",
    "    \n",
    "        dec_max1=new_localizations['dec'][index1]+(new_localizations['dec_unc_90'][index1]/2)+1\n",
    "        dec_min1=new_localizations['dec'][index1]-(new_localizations['dec_unc_90'][index1]/2)-1\n",
    "        dec_max2=new_localizations['dec'][index2]+(new_localizations['dec_unc_90'][index2]/2)+1\n",
    "        dec_min2=new_localizations['dec'][index2]-(new_localizations['dec_unc_90'][index2]/2)-1\n",
    "    \n",
    "        if dec_min1>dec_max2 or dec_max1<dec_min2: continue\n",
    "        #print(names[i])\n",
    "        #print('ra: [%.2f, %.2f] ; [%.2f, %.2f]'%(ra_max1,ra_min1, ra_max2,ra_min2))\n",
    "        #print('dec: [%.2f, %.2f] ; [%.2f, %.2f]'%(dec_max1,dec_min1, dec_max2,dec_min2))\n",
    "        \n",
    "        #if in previous tw overlap, don't make maps again\n",
    "        if names[i] in overlap: \n",
    "            s_overlap.append(names[i])\n",
    "            continue\n",
    "        \n",
    "        #if they have some contour overlap +/- 1 degree of contour - make healpix map\n",
    "        #print('Making contour maps for %s and %s'%(names[i][0],names[i][1]))\n",
    "        frb_probs, msk1=loc.make_healpix_map(names[i][0], new_nside=new_nside, max_cl=max_cl)\n",
    "        frb_probs, msk2=loc.make_healpix_map(names[i][1], new_nside=new_nside, max_cl=max_cl)\n",
    "        loc1=np.where(msk1)[0]\n",
    "        loc2=np.where(msk2)[0]\n",
    "        \n",
    "        p=0\n",
    "        for pixel in loc2:\n",
    "            if pixel in loc1: p+=1\n",
    "        \n",
    "        if p==0: continue\n",
    "        print('FRBs: %s and %s'%(names[i][0],names[i][1]))\n",
    "        print('Number of overlapping pixels: ',p)\n",
    "        s_overlap.append(names[i])\n",
    "        \n",
    "    return s_overlap"
   ]
  },
  {
   "cell_type": "code",
   "execution_count": 23,
   "metadata": {},
   "outputs": [],
   "source": [
    "def check_overlap(tws=np.logspace(1,6, num=16), new_nside=256, max_cl=0.9997):\n",
    "    overlap_tw={}\n",
    "    s_overlap_prev=[]\n",
    "    for tw in tws:\n",
    "        print('Time window= %i'%tw)\n",
    "        if tw < 10000.: \n",
    "            print('No overlap for tw %is found'%tw)\n",
    "            overlap_tw[int(tw)]=[]\n",
    "            continue\n",
    "            \n",
    "        t_overlap=temporal_overlap(tw)\n",
    "        if t_overlap==[]: return \n",
    "    \n",
    "        s_overlap=spatial_overlap(t_overlap, s_overlap_prev, new_nside, max_cl)\n",
    "        if s_overlap==[]: print('No overlap for tw %is found'%tw)\n",
    "        overlap_tw[int(tw)]=s_overlap\n",
    "        s_overlap_prev=s_overlap\n",
    "    return overlap_tw"
   ]
  },
  {
   "cell_type": "code",
   "execution_count": 27,
   "metadata": {
    "scrolled": true
   },
   "outputs": [
    {
     "name": "stdout",
     "output_type": "stream",
     "text": [
      "Time window= 10\n",
      "No overlap for tw 10s found\n",
      "Time window= 21\n",
      "No overlap for tw 21s found\n",
      "Time window= 46\n",
      "No overlap for tw 46s found\n",
      "Time window= 100\n",
      "No overlap for tw 100s found\n",
      "Time window= 215\n",
      "No overlap for tw 215s found\n",
      "Time window= 464\n",
      "No overlap for tw 464s found\n",
      "Time window= 1000\n",
      "No overlap for tw 1000s found\n",
      "Time window= 2154\n",
      "No overlap for tw 2154s found\n",
      "Time window= 4641\n",
      "No overlap for tw 4641s found\n",
      "Time window= 10000\n",
      "No overlap for tw 10000s found\n",
      "Time window= 21544\n",
      "No overlap for tw 21544s found\n",
      "Time window= 46415\n",
      "No overlap for tw 46415s found\n",
      "Time window= 100000\n",
      "FRBs: FRB20190408A and FRB20190409C\n",
      "Number of overlapping pixels:  14\n",
      "Time window= 215443\n",
      "FRBs: FRB20180906B and FRB20181222D\n",
      "Number of overlapping pixels:  3\n",
      "Time window= 464158\n",
      "FRBs: FRB20180814B and FRB20190220A\n",
      "Number of overlapping pixels:  34\n",
      "Time window= 1000000\n",
      "FRBs: FRB20190128C and FRB20190206B\n",
      "Number of overlapping pixels:  8\n"
     ]
    }
   ],
   "source": [
    "overlap_tw= check_overlap(max_cl=0.9)"
   ]
  },
  {
   "cell_type": "code",
   "execution_count": 28,
   "metadata": {},
   "outputs": [],
   "source": [
    "with open('overlapping_frbs_cl90.pkl', 'wb') as outfile:\n",
    "    pkl.dump(overlap_tw, outfile)"
   ]
  },
  {
   "cell_type": "code",
   "execution_count": 29,
   "metadata": {},
   "outputs": [],
   "source": [
    "overlap_9997 = pd.read_pickle(r'/home/jthwaites/FRB/overlapping_frbs_cl9997.pkl')\n",
    "overlap_99 = pd.read_pickle(r'/home/jthwaites/FRB/overlapping_frbs_cl99.pkl')\n",
    "overlap_90 = pd.read_pickle(r'/home/jthwaites/FRB/overlapping_frbs_cl90.pkl')"
   ]
  },
  {
   "cell_type": "code",
   "execution_count": 50,
   "metadata": {},
   "outputs": [],
   "source": [
    "#fig, ax = plt.subplots(figsize=(9,5))\n",
    "tws=[int(t) for t in np.logspace(1,6, num=16)]\n",
    "keys=sorted([key for key in overlap_9997.keys()])[0:-3]\n",
    "n_frbs_9997=[len(overlap_9997[k]) for k in keys]\n",
    "n_frbs_99=[len(overlap_99[k]) for k in tws]\n",
    "n_frbs_90=[len(overlap_90[k]) for k in tws]"
   ]
  },
  {
   "cell_type": "code",
   "execution_count": 58,
   "metadata": {},
   "outputs": [
    {
     "data": {
      "image/png": "[encoded data removed]",
      "text/plain": [
       "<Figure size 648x360 with 1 Axes>"
      ]
     },
     "metadata": {
      "needs_background": "light"
     },
     "output_type": "display_data"
    }
   ],
   "source": [
    "fig, ax = plt.subplots(figsize=(9,5))\n",
    "plt.plot(keys, n_frbs_9997, '^', color='C3', label='CL=99.97%')\n",
    "plt.plot(keys, n_frbs_99, 'v', color='C2', label='CL=99%')\n",
    "plt.plot(keys, n_frbs_90, '*', color='C1', label='CL=90%')\n",
    "\n",
    "w=np.where(np.asarray(n_frbs_90) == 0)[0]\n",
    "plt.plot([keys[i] for i in w],[n_frbs_90[i] for i in w],'o',color='C0', label='No overlap')\n",
    "\n",
    "plt.ylabel(r'pairs of overlapping FRBs')\n",
    "plt.xlabel(r'time window (sec)')\n",
    "ax.set_title(r'Spatial and temporal overlap of FRBs')\n",
    "plt.xscale('log')\n",
    "plt.legend(fontsize=18)\n",
    "plt.savefig('/home/jthwaites/FRB/plots/overlap_cls.png')"
   ]
  },
  {
   "cell_type": "code",
   "execution_count": null,
   "metadata": {},
   "outputs": [],
   "source": []
  }
 ],
 "metadata": {
  "kernelspec": {
   "display_name": "Python 3",
   "language": "python",
   "name": "python3"
  },
  "language_info": {
   "codemirror_mode": {
    "name": "ipython",
    "version": 3
   },
   "file_extension": ".py",
   "mimetype": "text/x-python",
   "name": "python",
   "nbconvert_exporter": "python",
   "pygments_lexer": "ipython3",
   "version": "3.7.5"
  }
 },
 "nbformat": 4,
 "nbformat_minor": 2
}
