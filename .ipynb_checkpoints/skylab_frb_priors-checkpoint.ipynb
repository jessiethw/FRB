{
 "cells": [
  {
   "cell_type": "code",
   "execution_count": 5,
   "metadata": {},
   "outputs": [
    {
     "name": "stdout",
     "output_type": "stream",
     "text": [
      "Could not import from icecube, coordinate operations will not be possible\n"
     ]
    }
   ],
   "source": [
    "import numpy  as np\n",
    "import healpy as hp\n",
    "import time\n",
    "\n",
    "from skylab.priors        import SpatialPrior\n",
    "from config_GW            import config\n",
    "from scipy.optimize       import curve_fit\n",
    "from skylab.ps_injector   import PointSourceInjector\n",
    "from scipy.stats          import chi2\n",
    "\n",
    "import matplotlib as mpl\n",
    "import matplotlib.pyplot as plt\n",
    "import pandas as pd\n",
    "\n",
    "#import sys\n",
    "#sys.path.append('/home/jthwaites/FRB/skylab_csky_comp/')"
   ]
  },
  {
   "cell_type": "code",
   "execution_count": 8,
   "metadata": {},
   "outputs": [],
   "source": [
    "mpl.rcParams['font.size'] = 20\n",
    "#import setup\n",
    "import chime_localizations as loc"
   ]
  },
  {
   "cell_type": "code",
   "execution_count": 14,
   "metadata": {},
   "outputs": [
    {
     "name": "stdout",
     "output_type": "stream",
     "text": [
      "sum of map probabilities: 1.00000\n"
     ]
    }
   ],
   "source": [
    "###################### CONFIGURE LLH  ########################\n",
    "seasons = ['GFU_v002p06','IC86, 2011-2018']\n",
    "time_window = 20*86400 # in days\n",
    "erange  = [0,10]\n",
    "nside=512\n",
    "\n",
    "############# FRB SKYMAP ###############\n",
    "frbs=setup.load_frbs(spatial_priors=True)\n",
    "#spatial prior: use FRB20190416A, dec=33.3\n",
    "wn=np.where(frbs['src']=='FRB20190416A')\n",
    "wn=wn[0][0] #want only one of the bursts\n",
    "\n",
    "### Read map and get probabilities\n",
    "frb_probs, msk=loc.make_healpix_map('FRB20190416A', new_nside=nside, max_cl=0.9997)\n",
    "\n",
    "src=setup.sources(20*84600., frbs['mjd'].values[wn], frbs['ra_deg'].values[wn], \n",
    "                  frbs['dec_deg'].values[wn])\n",
    "time_mask = [time_window, src['mjd']]"
   ]
  },
  {
   "cell_type": "code",
   "execution_count": 15,
   "metadata": {},
   "outputs": [],
   "source": [
    "### Set up spatial prior to be used in scan\n",
    "spatial_prior = SpatialPrior(frb_probs,allow_neg=True,interpolated_ts_norm=True)\n",
    "\n",
    "llh = config(seasons,ncpu=7, days=5,timescramble=True,\n",
    "             time_mask=time_mask,poisson=True)"
   ]
  },
  {
   "cell_type": "code",
   "execution_count": 16,
   "metadata": {},
   "outputs": [
    {
     "ename": "KeyboardInterrupt",
     "evalue": "",
     "output_type": "error",
     "traceback": [
      "\u001b[0;31m---------------------------------------------------------------------------\u001b[0m",
      "\u001b[0;31mKeyboardInterrupt\u001b[0m                         Traceback (most recent call last)",
      "\u001b[0;32m<ipython-input-16-10429bc7909a>\u001b[0m in \u001b[0;36m<module>\u001b[0;34m\u001b[0m\n\u001b[1;32m      1\u001b[0m val = llh.scan(0.0,0.0, scramble = True, seed = 1,spatial_prior=spatial_prior,\n\u001b[0;32m----> 2\u001b[0;31m                     time_mask = time_mask, pixel_scan=[nside,3.0]) #mask in pixel scan\n\u001b[0m",
      "\u001b[0;32m/mnt/lfs7/user/jthwaites/skylab/skylab/base_llh.py\u001b[0m in \u001b[0;36mscan\u001b[0;34m(self, ra, dec, inject, scramble, spatial_prior, time_mask, pixel_scan, seed, custom_events, **kwargs)\u001b[0m\n\u001b[1;32m   1147\u001b[0m             kwarg_i = dict({'src_ra': ra[i], 'src_dec': dec[i],\n\u001b[1;32m   1148\u001b[0m                             'scramble': False, 'inject': inject_arg},\n\u001b[0;32m-> 1149\u001b[0;31m                            **dict({p: upars[p][i] for p in upars}, **kwargs))\n\u001b[0m\u001b[1;32m   1150\u001b[0m \u001b[0;34m\u001b[0m\u001b[0m\n\u001b[1;32m   1151\u001b[0m             \u001b[0margs\u001b[0m\u001b[0;34m.\u001b[0m\u001b[0mappend\u001b[0m\u001b[0;34m(\u001b[0m\u001b[0;34m[\u001b[0m\u001b[0;34m(\u001b[0m\u001b[0mself\u001b[0m\u001b[0;34m,\u001b[0m \u001b[0;32mNone\u001b[0m\u001b[0;34m,\u001b[0m \u001b[0mseed\u001b[0m\u001b[0;34m)\u001b[0m\u001b[0;34m,\u001b[0m \u001b[0mkwarg_i\u001b[0m\u001b[0;34m]\u001b[0m\u001b[0;34m)\u001b[0m\u001b[0;34m\u001b[0m\u001b[0;34m\u001b[0m\u001b[0m\n",
      "\u001b[0;31mKeyboardInterrupt\u001b[0m: "
     ]
    }
   ],
   "source": [
    "val = llh.scan(0.0,0.0, scramble = True, seed = 1,spatial_prior=spatial_prior,\n",
    "                    time_mask = time_mask, pixel_scan=[nside,3.0]) #mask in pixel scan"
   ]
  },
  {
   "cell_type": "code",
   "execution_count": null,
   "metadata": {},
   "outputs": [],
   "source": [
    "\"\"\"multiple trials: inc later\n",
    "### Set range of for loop so that multiple jobs \n",
    "### on the cluster will still all have unique \n",
    "### seeds\n",
    "#ntrials = args.ntrials\n",
    "ntrials=1000 #raamis default\n",
    "stop = ntrials * (args.pid+1)\n",
    "start = stop-ntrials\n",
    "\n",
    "tsList = []\n",
    "for i in range(start,stop):\n",
    "    val = llh.scan(0.0,0.0, scramble = True, seed = i,spatial_prior=spatial_prior,\n",
    "                    time_mask = time_mask, pixel_scan=[nside,3.0]) #mask in pixel scan\n",
    "    try:\n",
    "        tsList.append(val['TS_spatial_prior_0'].max())\n",
    "    except ValueError:\n",
    "        tsList.append(-np.inf)\n",
    "#np.save('/home/rhussain/icecube/dump/gw%s/bkgTrials/maxTS_%s.npy' \n",
    "    %(args.gw,args.pid), tsList)\"\"\""
   ]
  }
 ],
 "metadata": {
  "kernelspec": {
   "display_name": "Python 3",
   "language": "python",
   "name": "python3"
  },
  "language_info": {
   "codemirror_mode": {
    "name": "ipython",
    "version": 3
   },
   "file_extension": ".py",
   "mimetype": "text/x-python",
   "name": "python",
   "nbconvert_exporter": "python",
   "pygments_lexer": "ipython3",
   "version": "3.7.5"
  }
 },
 "nbformat": 4,
 "nbformat_minor": 2
}
