{
 "cells": [
  {
   "cell_type": "code",
   "execution_count": 1,
   "metadata": {},
   "outputs": [],
   "source": [
    "%matplotlib inline"
   ]
  },
  {
   "cell_type": "code",
   "execution_count": 2,
   "metadata": {},
   "outputs": [],
   "source": [
    "import numpy as np\n",
    "import pandas as pd\n",
    "import json\n",
    "#import seaborn as sns\n",
    "from astropy.time import Time\n",
    "from astropy.coordinates import SkyCoord\n",
    "from astropy import units as u\n",
    "\n",
    "import matplotlib.pyplot as plt\n",
    "import matplotlib as mpl\n",
    "mpl.rcParams['font.size'] = 20"
   ]
  },
  {
   "cell_type": "markdown",
   "metadata": {},
   "source": [
    "### Importing catalog data from CSV (FRBCat) and JSON (CHIME repeaters)"
   ]
  },
  {
   "cell_type": "code",
   "execution_count": 14,
   "metadata": {},
   "outputs": [
    {
     "name": "stdout",
     "output_type": "stream",
     "text": [
      "(118, 11)\n"
     ]
    },
    {
     "data": {
      "text/html": [
       "<div>\n",
       "<style scoped>\n",
       "    .dataframe tbody tr th:only-of-type {\n",
       "        vertical-align: middle;\n",
       "    }\n",
       "\n",
       "    .dataframe tbody tr th {\n",
       "        vertical-align: top;\n",
       "    }\n",
       "\n",
       "    .dataframe thead th {\n",
       "        text-align: right;\n",
       "    }\n",
       "</style>\n",
       "<table border=\"1\" class=\"dataframe\">\n",
       "  <thead>\n",
       "    <tr style=\"text-align: right;\">\n",
       "      <th></th>\n",
       "      <th>frb_name</th>\n",
       "      <th>utc</th>\n",
       "      <th>telescope</th>\n",
       "      <th>rop_raj</th>\n",
       "      <th>rop_decj</th>\n",
       "      <th>rop_gl</th>\n",
       "      <th>rop_gb</th>\n",
       "      <th>rmp_dm</th>\n",
       "      <th>rmp_width</th>\n",
       "      <th>rmp_snr</th>\n",
       "      <th>rmp_flux</th>\n",
       "    </tr>\n",
       "  </thead>\n",
       "  <tbody>\n",
       "    <tr>\n",
       "      <th>0</th>\n",
       "      <td>FRB191108</td>\n",
       "      <td>2019/11/08 19:48:50.471</td>\n",
       "      <td>Apertif</td>\n",
       "      <td>01:33:47</td>\n",
       "      <td>+31:51:30</td>\n",
       "      <td>133.30</td>\n",
       "      <td>-30.100000</td>\n",
       "      <td>588.1&amp;plusmn0.1</td>\n",
       "      <td>0.34</td>\n",
       "      <td>103.0</td>\n",
       "      <td>27.000</td>\n",
       "    </tr>\n",
       "    <tr>\n",
       "      <th>1</th>\n",
       "      <td>FRB121102</td>\n",
       "      <td>2012/11/02 06:35:53.244</td>\n",
       "      <td>arecibo</td>\n",
       "      <td>05:32:09</td>\n",
       "      <td>33:05:13</td>\n",
       "      <td>174.95</td>\n",
       "      <td>-0.225138</td>\n",
       "      <td>557&amp;plusmn2</td>\n",
       "      <td>3.00</td>\n",
       "      <td>14.0</td>\n",
       "      <td>0.400</td>\n",
       "    </tr>\n",
       "    <tr>\n",
       "      <th>2</th>\n",
       "      <td>FRB141113</td>\n",
       "      <td>2014/11/13 07:42:55.220</td>\n",
       "      <td>arecibo</td>\n",
       "      <td>06:13:00.1</td>\n",
       "      <td>18:47:11.2</td>\n",
       "      <td>191.90</td>\n",
       "      <td>0.360000</td>\n",
       "      <td>400.3</td>\n",
       "      <td>2.00</td>\n",
       "      <td>8.4</td>\n",
       "      <td>0.039</td>\n",
       "    </tr>\n",
       "    <tr>\n",
       "      <th>3</th>\n",
       "      <td>FRB170107</td>\n",
       "      <td>2017/01/07 20:05:08.139</td>\n",
       "      <td>ASKAP</td>\n",
       "      <td>11:23.3</td>\n",
       "      <td>-05:00</td>\n",
       "      <td>266.10</td>\n",
       "      <td>51.400000</td>\n",
       "      <td>609.5&amp;plusmn0.5</td>\n",
       "      <td>2.40</td>\n",
       "      <td>16.0</td>\n",
       "      <td>24.100</td>\n",
       "    </tr>\n",
       "    <tr>\n",
       "      <th>4</th>\n",
       "      <td>FRB170416</td>\n",
       "      <td>2017/04/16 23:11:12.799</td>\n",
       "      <td>ASKAP</td>\n",
       "      <td>22:13</td>\n",
       "      <td>-55:02</td>\n",
       "      <td>337.60</td>\n",
       "      <td>-50.000000</td>\n",
       "      <td>523.2&amp;plusmn0.2</td>\n",
       "      <td>5.00</td>\n",
       "      <td>13.0</td>\n",
       "      <td>19.400</td>\n",
       "    </tr>\n",
       "  </tbody>\n",
       "</table>\n",
       "</div>"
      ],
      "text/plain": [
       "    frb_name                      utc telescope     rop_raj    rop_decj  \\\n",
       "0  FRB191108  2019/11/08 19:48:50.471   Apertif    01:33:47   +31:51:30   \n",
       "1  FRB121102  2012/11/02 06:35:53.244   arecibo    05:32:09    33:05:13   \n",
       "2  FRB141113  2014/11/13 07:42:55.220   arecibo  06:13:00.1  18:47:11.2   \n",
       "3  FRB170107  2017/01/07 20:05:08.139     ASKAP     11:23.3      -05:00   \n",
       "4  FRB170416  2017/04/16 23:11:12.799     ASKAP       22:13      -55:02   \n",
       "\n",
       "   rop_gl     rop_gb           rmp_dm  rmp_width  rmp_snr  rmp_flux  \n",
       "0  133.30 -30.100000  588.1&plusmn0.1       0.34    103.0    27.000  \n",
       "1  174.95  -0.225138      557&plusmn2       3.00     14.0     0.400  \n",
       "2  191.90   0.360000            400.3       2.00      8.4     0.039  \n",
       "3  266.10  51.400000  609.5&plusmn0.5       2.40     16.0    24.100  \n",
       "4  337.60 -50.000000  523.2&plusmn0.2       5.00     13.0    19.400  "
      ]
     },
     "execution_count": 14,
     "metadata": {},
     "output_type": "execute_result"
    }
   ],
   "source": [
    "frbs_cat = pd.read_csv('./frbcat_20210212.csv') #rel path\n",
    "#frbs = pd.read_csv('/home/jthwaites/frbcat_20210212.csv') #abs path\n",
    "\n",
    "frbs_rep=pd.DataFrame.from_dict(data=rep_num)\n",
    "print(frbs_cat.shape)\n",
    "frbs_cat.head() #Look at what the dataframe looks like\n",
    "#frbs_cat.columns #list of columns from csv\n",
    "#'frb_name', 'utc', 'telescope', 'rop_raj', 'rop_decj', 'rop_gl',\n",
    "#       'rop_gb', 'rmp_dm', 'rmp_width', 'rmp_snr', 'rmp_flux'"
   ]
  },
  {
   "cell_type": "code",
   "execution_count": 4,
   "metadata": {},
   "outputs": [],
   "source": [
    "with open('./repeaters.txt') as json_file:\n",
    "    repeaters = json.load(json_file)\n",
    "#print(repeaters.keys())"
   ]
  },
  {
   "cell_type": "code",
   "execution_count": 5,
   "metadata": {},
   "outputs": [
    {
     "name": "stdout",
     "output_type": "stream",
     "text": [
      "{'source': ['190907.J08+46', 'FRB20180814A', 'FRB20180908B', 'FRB20180916B', 'FRB20181017A', 'FRB20181030B', 'FRB20181119A', 'FRB20181128A', 'FRB20190116B', 'FRB20190117A', 'FRB20190208A', 'FRB20190209A', 'FRB20190212A', 'FRB20190213A', 'FRB20190222A', 'FRB20190303A', 'FRB20190417A', 'FRB20190604A'], 'n_bursts': [5, 22, 4, 63, 2, 10, 8, 4, 2, 6, 7, 2, 8, 2, 2, 18, 5, 2]}\n"
     ]
    }
   ],
   "source": [
    "#making data arrays that are easier to work with: source names and n_bursts\n",
    "rep_num={'source':[],'n_bursts':[]}\n",
    "ra_dec=[[],[]]\n",
    "for source in repeaters:\n",
    "    ra_dec[0].append(repeaters[source]['ra']['value'])\n",
    "    ra_dec[1].append(repeaters[source]['dec']['value'])\n",
    "    \n",
    "    count=0\n",
    "    for key in repeaters[source]:\n",
    "        if key != 'dm' and key !='ymw16' and key!='dec' and key!='gl' and key!='gb' and key!= 'ra' and \\\n",
    "            key!='localized' and key!='last_burst_date' and key!='publication' and key!='ne2001' and \\\n",
    "            key!='previous_name': \n",
    "            count+=1\n",
    "            \n",
    "    rep_num['source'].append(source)\n",
    "    rep_num['n_bursts'].append(count)\n",
    "    \n",
    "#coordinates of repeaters as skycoord obj\n",
    "rep_coord=SkyCoord(ra=ra_dec[0], dec=ra_dec[1], unit=(u.hourangle, u.deg))\n",
    "print(rep_num)"
   ]
  },
  {
   "cell_type": "code",
   "execution_count": 7,
   "metadata": {},
   "outputs": [
    {
     "name": "stdout",
     "output_type": "stream",
     "text": [
      "Number of repeater events:  172\n"
     ]
    }
   ],
   "source": [
    "#counting repeater events and getting repeater mjd array\n",
    "rep_utc=[]\n",
    "for source in repeaters:\n",
    "    for event in repeaters[source].keys():\n",
    "        if 'timestamp' in repeaters[source][event].keys():\n",
    "            rep_utc.append(repeaters[source][event]['timestamp']['value'])\n",
    "frbs_rep_mjd = np.asarray([Time(t, format='iso').mjd for t in rep_utc])\n",
    "print('Number of repeater events: ',len(frbs_rep_mjd))"
   ]
  },
  {
   "cell_type": "code",
   "execution_count": 11,
   "metadata": {},
   "outputs": [
    {
     "data": {
      "text/plain": [
       "(array([ 1, 67, 75, 77, 78, 79, 80, 81, 82, 83, 84, 86]),)"
      ]
     },
     "execution_count": 11,
     "metadata": {},
     "output_type": "execute_result"
    }
   ],
   "source": [
    "#FRBs from 6-yr analysis (transient tracks)\n",
    "msk1=frbs_cat['frb_name']=='FRB110523'\n",
    "msk2=frbs_cat['frb_name']=='FRB110703'\n",
    "msk3=frbs_cat['frb_name']=='FRB121102'\n",
    "msk4=frbs_cat['frb_name']=='FRB130628'\n",
    "msk5=frbs_cat['frb_name']=='FRB110220'\n",
    "#msk6=frbs_cat['frb_name']=='FRB110626' #->returns none\n",
    "msk7=frbs_cat['frb_name']=='FRB120127'\n",
    "msk8=frbs_cat['frb_name']=='FRB121002'\n",
    "msk9=frbs_cat['frb_name']=='FRB130626'\n",
    "msk10=frbs_cat['frb_name']=='FRB130729'\n",
    "msk11=frbs_cat['frb_name']=='FRB131104'\n",
    "msk12=frbs_cat['frb_name']=='FRB140514'\n",
    "msk13=frbs_cat['frb_name']=='FRB150418'\n",
    "\n",
    "msk=msk1|msk2|msk3|msk4|msk5|msk7|msk8|msk9|msk10|msk11|msk12|msk13\n",
    "np.where(msk==True)"
   ]
  },
  {
   "cell_type": "code",
   "execution_count": 12,
   "metadata": {},
   "outputs": [
    {
     "data": {
      "text/plain": [
       "(array([  1,   3,  67,  75,  76,  77,  78,  79,  80,  81,  82,  83,  84,\n",
       "         85,  86,  87,  88,  89,  90,  91,  92,  93,  94, 108, 109, 110,\n",
       "        111, 112]),)"
      ]
     },
     "execution_count": 12,
     "metadata": {},
     "output_type": "execute_result"
    }
   ],
   "source": [
    "#FRBs from 2020 paper\n",
    "msk14=frbs_cat['frb_name']=='FRB110626'\n",
    "msk15=frbs_cat['frb_name']=='FRB150215'\n",
    "msk16=frbs_cat['frb_name']=='FRB150610'\n",
    "msk17=frbs_cat['frb_name']=='FRB150807'\n",
    "msk18=frbs_cat['frb_name']=='FRB151206'\n",
    "msk19=frbs_cat['frb_name']=='FRB151230'\n",
    "msk20=frbs_cat['frb_name']=='FRB160102'\n",
    "msk21=frbs_cat['frb_name']=='FRB160317'\n",
    "msk22=frbs_cat['frb_name']=='FRB160410'\n",
    "msk23=frbs_cat['frb_name']=='FRB160608'\n",
    "msk24=frbs_cat['frb_name']=='FRB170107'\n",
    "msk25=frbs_cat['frb_name']=='FRB170827'\n",
    "msk26=frbs_cat['frb_name']=='FRB170922'\n",
    "msk27=frbs_cat['frb_name']=='FRB171209'\n",
    "#msk28=frbs_cat['frb_name']=='FRB180301'\n",
    "msk29=frbs_cat['frb_name']=='FRB180309'\n",
    "msk30=frbs_cat['frb_name']=='FRB180311'\n",
    "\n",
    "new_msk=msk|msk14|msk15|msk16|msk17|msk18|msk19|msk20|msk21|msk22|msk23|msk24|msk25|msk26|msk27|msk29|msk30\n",
    "np.where(new_msk==True)"
   ]
  },
  {
   "cell_type": "code",
   "execution_count": 17,
   "metadata": {},
   "outputs": [
    {
     "name": "stdout",
     "output_type": "stream",
     "text": [
      "Initial number of FRBs in FRBCat:  118\n",
      "Number of FRBs from FRBCat, w/out CHIME repeaters:  98\n",
      "Number removed:  20\n"
     ]
    }
   ],
   "source": [
    "#CHIME repeaters: remove repeaters from FRBCat to not double-count events\n",
    "chimes=np.where(frbs_cat['telescope']=='CHIME/FRB')\n",
    "frbcheck=[] #names from frbcat\n",
    "for n in chimes[0]:\n",
    "    frbcheck.append(frbs_cat['frb_name'][n][0:9])\n",
    "    \n",
    "frbcat_format=''\n",
    "rem=[[],[]]\n",
    "for source in rep_num['source']:\n",
    "    if source[0:3]=='FRB':\n",
    "        frbcat_format=source[0:3]+source[5:-1]\n",
    "    else:\n",
    "        frbcat_format='FRB'+source[0:6]\n",
    "    \n",
    "    res = any(ele in frbcat_format for ele in frbcheck)\n",
    "    if bool(res) == 1:\n",
    "        rem[0].append(frbcheck[frbcheck.index(frbcat_format)])\n",
    "    \n",
    "print('Initial number of FRBs in FRBCat: ',len(frbs_cat))\n",
    "\n",
    "for ind in range(len(frbs_cat['frb_name'])):\n",
    "    res = any(ele in frbs_cat['frb_name'][ind] for ele in rem[0])\n",
    "    if bool(res)==1:\n",
    "        rem[1].append(ind)\n",
    "frbs=frbs_cat.drop(rem[1])\n",
    "print('Number of FRBs from FRBCat, w/out CHIME repeaters: ',len(frbs))\n",
    "print('Number removed: ',len(rem[1]))"
   ]
  },
  {
   "cell_type": "code",
   "execution_count": 19,
   "metadata": {},
   "outputs": [],
   "source": [
    "#convert to mjd, switch to iso format\n",
    "frbs_mjd = np.asarray([Time(t.replace('/', '-'), format='iso').mjd for t in frbs['utc']]) \n",
    "#print(frbs_mjd[0:2])\n",
    "frbs_coord = SkyCoord(ra=frbs['rop_raj'], dec=frbs['rop_decj'], unit=(u.hourangle, u.deg))\n",
    "#print(frbs_coord[0:2])\n",
    "frbs_flux= frbs['rmp_flux']\n",
    "#print(frbs_flux[40:60])"
   ]
  },
  {
   "cell_type": "code",
   "execution_count": 20,
   "metadata": {},
   "outputs": [
    {
     "data": {
      "image/png": "[encoded data removed]",
      "text/plain": [
       "<Figure size 720x432 with 1 Axes>"
      ]
     },
     "metadata": {
      "needs_background": "light"
     },
     "output_type": "display_data"
    }
   ],
   "source": [
    "year_bins = [Time(f'20{year:02d}-01-01 00:00:00', format='iso').mjd for year in range(8, 22)]\n",
    "\n",
    "#dates hist\n",
    "fig, ax = plt.subplots(figsize=(10,6))\n",
    "plt.hist(frbs_mjd, bins=year_bins, histtype='step', lw=2., label='FRBCat')\n",
    "plt.hist(frbs_rep_mjd, bins=year_bins, histtype='step', lw=2., label='CHIME repeaters')\n",
    "plt.legend(loc=2)\n",
    "plt.xlabel('MJD')\n",
    "plt.ylabel(r'$N$') #r means latex only input\n",
    "ax.set_title(r'Distribution of FRBs by Date', fontsize=20)\n",
    "#ax.ticklabel_format() #fontsizes?\n",
    "plt.savefig('./frb_param_plots/date_distr.png')"
   ]
  },
  {
   "cell_type": "code",
   "execution_count": 21,
   "metadata": {},
   "outputs": [
    {
     "data": {
      "image/png": "[encoded data removed]",
      "text/plain": [
       "<Figure size 720x432 with 1 Axes>"
      ]
     },
     "metadata": {
      "needs_background": "light"
     },
     "output_type": "display_data"
    }
   ],
   "source": [
    "#decl hist\n",
    "fig, ax = plt.subplots(figsize=(10,6))\n",
    "dec_bins = np.linspace(-90,90,num=19) #num=19 for every 10 deg\n",
    "\n",
    "plt.hist(frbs_coord.dec, bins=dec_bins, histtype='step', lw=2., label='FRBCat')\n",
    "plt.hist(rep_coord.dec, bins=dec_bins, histtype='step', lw=2., label='Chimes repeaters')\n",
    "plt.legend(loc=0)\n",
    "ax.set_title(r'$\\delta$ for FRBs', fontsize=18)\n",
    "plt.xlabel(r'$\\delta$ [deg]')\n",
    "plt.ylabel(r'$N$')\n",
    "plt.show()"
   ]
  },
  {
   "cell_type": "code",
   "execution_count": 22,
   "metadata": {},
   "outputs": [],
   "source": [
    "dec=frbs['rop_decj'].values\n",
    "ra=frbs['rop_raj'].values\n",
    "\n",
    "all_decs=np.concatenate((ra_dec[1],dec))\n",
    "all_ras=np.concatenate((ra_dec[0],ra))\n",
    "de=[]\n",
    "n=0\n",
    "s=0\n",
    "for d in all_decs:\n",
    "    if len(d)<7: \n",
    "        de.append(d+':00.0')\n",
    "    else: de.append(d)\n",
    "    dig=0\n",
    "    if d[0]=='+'or d[0]=='-': dig=3\n",
    "    else: dig=2\n",
    "    \n",
    "    if float(d[0:dig])>-5: n+=1\n",
    "    elif float(d[0:dig])<=-5: s+=1\n",
    "    else: print('err')"
   ]
  },
  {
   "cell_type": "code",
   "execution_count": 23,
   "metadata": {},
   "outputs": [
    {
     "data": {
      "image/png": "[encoded data removed]",
      "text/plain": [
       "<Figure size 864x576 with 1 Axes>"
      ]
     },
     "metadata": {
      "needs_background": "light"
     },
     "output_type": "display_data"
    }
   ],
   "source": [
    "fig, ax = plt.subplots(figsize=(12,8))\n",
    "dec_bins = np.linspace(-90,90,num=19) #num=19 for every 10 deg\n",
    "\n",
    "ch_decs=np.concatenate((['-44:44:00'],frbs_cat['rop_decj'][msk].values))\n",
    "ch_ras=np.concatenate((['21:03:00'],frbs_cat['rop_raj'][msk].values))\n",
    "ch_coord=SkyCoord(ra=ch_ras, dec=ch_decs, unit=(u.hourangle, u.deg))\n",
    "\n",
    "new_decs=np.concatenate((['+04:34:00'],frbs_cat['rop_decj'][new_msk].values))\n",
    "new_ras=np.concatenate((['06:13:00'],frbs_cat['rop_raj'][new_msk].values))\n",
    "new_coord=SkyCoord(ra=new_ras, dec=new_decs, unit=(u.hourangle, u.deg))\n",
    "\n",
    "cat_coord=SkyCoord(ra=all_ras, dec=de, unit=(u.hourangle, u.deg))\n",
    "plt.hist(cat_coord.dec, bins=dec_bins, histtype='step', lw=2., label='New dataset')\n",
    "plt.hist(ch_coord.dec, bins=dec_bins, histtype='step', lw=2., label='2018 dataset')\n",
    "plt.hist(new_coord.dec, bins=dec_bins, histtype='step', lw=2., label='2020 dataset')\n",
    "\n",
    "ax.set_title(r'Distribution of FRB sources', fontsize=20)\n",
    "plt.legend(loc=0)\n",
    "plt.xlabel(r'Declination [deg]')\n",
    "plt.ylabel(r'Number of sources')\n",
    "plt.axvline(x=-5, c='red')\n",
    "plt.show()"
   ]
  },
  {
   "cell_type": "code",
   "execution_count": 24,
   "metadata": {},
   "outputs": [
    {
     "name": "stdout",
     "output_type": "stream",
     "text": [
      "6yr Northern FRBs:  4\n",
      "6yr Southern FRBs:  9\n",
      "6yr total:  13\n",
      " \n",
      "2020 Northern FRBs:  9\n",
      "2020 Southern FRBs:  20\n",
      "2020 total:  29\n",
      " \n",
      "Northern FRBs:  57\n",
      "Southern FRBs:  59\n",
      "Total:  116\n"
     ]
    }
   ],
   "source": [
    "ch_n=0\n",
    "ch_s=0\n",
    "for d in ch_decs:\n",
    "    if d[0]=='-':dig=3\n",
    "    else: dig=2\n",
    "    if float(d[0:dig])>-5: ch_n+=1\n",
    "    elif float(d[0:dig])<=-5: ch_s+=1\n",
    "        \n",
    "new_n=0\n",
    "new_s=0\n",
    "for d in new_decs:\n",
    "    if d[0]=='-':dig=3\n",
    "    else: dig=2\n",
    "    if float(d[0:dig])>-5: new_n+=1\n",
    "    elif float(d[0:dig])<=-5: new_s+=1\n",
    "        \n",
    "print('6yr Northern FRBs: ',ch_n)\n",
    "print('6yr Southern FRBs: ',ch_s)\n",
    "print('6yr total: ',len(ch_decs))\n",
    "print(' ')\n",
    "print('2020 Northern FRBs: ',new_n)\n",
    "print('2020 Southern FRBs: ',new_s)\n",
    "print('2020 total: ',len(new_decs))\n",
    "print(' ')\n",
    "print('Northern FRBs: ',n)\n",
    "print('Southern FRBs: ',s)\n",
    "print('Total: ',len(all_decs))"
   ]
  },
  {
   "cell_type": "code",
   "execution_count": 25,
   "metadata": {},
   "outputs": [
    {
     "name": "stdout",
     "output_type": "stream",
     "text": [
      "6yr events total:  29\n",
      "2020 events total:  39\n",
      "new events total:  270\n"
     ]
    }
   ],
   "source": [
    "#total No. events calc \n",
    "#98 singe-burst sources from FRBCat\n",
    "print('6yr events total: ',16+len(ch_decs))\n",
    "print('2020 events total: ',10+len(new_decs))\n",
    "print('new events total: ',98+sum(rep_num['n_bursts']))"
   ]
  },
  {
   "cell_type": "code",
   "execution_count": 28,
   "metadata": {},
   "outputs": [
    {
     "name": "stdout",
     "output_type": "stream",
     "text": [
      "Max flux: 147.50\n",
      "Min flux: 0.0390\n"
     ]
    },
    {
     "data": {
      "text/plain": [
       "[-1.4089353929735007, 2.1687920203141817]"
      ]
     },
     "execution_count": 28,
     "metadata": {},
     "output_type": "execute_result"
    }
   ],
   "source": [
    "#flux hist\n",
    "#remove nan values\n",
    "frbs_flux=frbs_flux[~np.isnan(frbs_flux)]\n",
    "print('Max flux: %.2f'%max(frbs_flux))\n",
    "print('Min flux: %.4f'%min(frbs_flux))\n",
    "log_bins_range=[np.log(min(frbs_flux))/np.log(10),np.log(max(frbs_flux))/np.log(10)]\n",
    "log_bins_range"
   ]
  },
  {
   "cell_type": "code",
   "execution_count": 34,
   "metadata": {},
   "outputs": [
    {
     "data": {
      "image/png": "[encoded data removed]",
      "text/plain": [
       "<Figure size 720x432 with 1 Axes>"
      ]
     },
     "metadata": {
      "needs_background": "light"
     },
     "output_type": "display_data"
    }
   ],
   "source": [
    "flux_bins=np.logspace(log_bins_range[0]-0.5,log_bins_range[1]+0.5, num=20)\n",
    "fig, ax = plt.subplots(figsize=(10,6))\n",
    "plt.hist(frbs_flux, bins=flux_bins, histtype='step', lw=2., label='FRB')\n",
    "\n",
    "plt.ylabel(r'$N$')\n",
    "plt.semilogx()\n",
    "plt.ylim((0,24))\n",
    "plt.xlabel(r'Flux [Jy]')\n",
    "plt.legend(loc=0)\n",
    "ax.set_title(r'FRB fluxes', fontsize=18)\n",
    "plt.show()"
   ]
  },
  {
   "cell_type": "code",
   "execution_count": 36,
   "metadata": {},
   "outputs": [
    {
     "name": "stdout",
     "output_type": "stream",
     "text": [
      "Min time between:  0.08420983795076609 s\n"
     ]
    }
   ],
   "source": [
    "#calculating the time between repeats of a source\n",
    "deltat=[]\n",
    "for source in repeaters:\n",
    "    times=[]\n",
    "    for event in repeaters[source].keys():\n",
    "        if 'timestamp' in repeaters[source][event].keys():\n",
    "            times.append(repeaters[source][event]['timestamp']['value'])\n",
    "    times = np.asarray([Time(t, format='iso').mjd for t in times])\n",
    "    times=np.sort(times)\n",
    "    for i in range(1,len(times)):\n",
    "        deltat.append(times[i]-times[i-1])\n",
    "deltat=np.asarray(deltat)\n",
    "deltat=deltat[deltat.nonzero()]\n",
    "\n",
    "print('Min time between: ',min(deltat)*365*24*3600,'s')\n",
    "small_t=np.where(deltat<(1/365))\n",
    "#for t in np.sort(deltat[small_t]): print('%.2e'%t)"
   ]
  },
  {
   "cell_type": "code",
   "execution_count": 37,
   "metadata": {},
   "outputs": [
    {
     "data": {
      "image/png": "[encoded data removed]",
      "text/plain": [
       "<Figure size 720x432 with 1 Axes>"
      ]
     },
     "metadata": {
      "needs_background": "light"
     },
     "output_type": "display_data"
    }
   ],
   "source": [
    "log_bins_range=[(np.log(min(deltat))/np.log(10))-0.5,(np.log(max(deltat))/np.log(10))+0.5]\n",
    "dt_bins=np.logspace(log_bins_range[0],log_bins_range[1], num=20)\n",
    "fig, ax = plt.subplots(figsize=(10,6))\n",
    "#np.histogram(deltat, bins=dt_bins)\n",
    "plt.hist(deltat, bins=dt_bins, histtype='step', lw=2., label='Chimes repeaters')\n",
    "\n",
    "plt.ylabel(r'$N$')\n",
    "plt.semilogx()\n",
    "\n",
    "plt.xlabel(r'Time (mjd)')\n",
    "plt.legend(loc=2)\n",
    "ax.set_title(r'Time between repeater events', fontsize=18)\n",
    "plt.show()"
   ]
  },
  {
   "cell_type": "markdown",
   "metadata": {},
   "source": [
    "### using csky for background trials"
   ]
  },
  {
   "cell_type": "code",
   "execution_count": 51,
   "metadata": {},
   "outputs": [],
   "source": [
    "import histlite as hl\n",
    "import csky as cy"
   ]
  },
  {
   "cell_type": "code",
   "execution_count": 42,
   "metadata": {},
   "outputs": [
    {
     "data": {
      "text/html": [
       "<div>\n",
       "<style scoped>\n",
       "    .dataframe tbody tr th:only-of-type {\n",
       "        vertical-align: middle;\n",
       "    }\n",
       "\n",
       "    .dataframe tbody tr th {\n",
       "        vertical-align: top;\n",
       "    }\n",
       "\n",
       "    .dataframe thead th {\n",
       "        text-align: right;\n",
       "    }\n",
       "</style>\n",
       "<table border=\"1\" class=\"dataframe\">\n",
       "  <thead>\n",
       "    <tr style=\"text-align: right;\">\n",
       "      <th></th>\n",
       "      <th>frb_name</th>\n",
       "      <th>utc</th>\n",
       "      <th>telescope</th>\n",
       "      <th>rop_raj</th>\n",
       "      <th>rop_decj</th>\n",
       "      <th>rop_gl</th>\n",
       "      <th>rop_gb</th>\n",
       "      <th>rmp_dm</th>\n",
       "      <th>rmp_width</th>\n",
       "      <th>rmp_snr</th>\n",
       "      <th>rmp_flux</th>\n",
       "    </tr>\n",
       "  </thead>\n",
       "  <tbody>\n",
       "    <tr>\n",
       "      <th>0</th>\n",
       "      <td>FRB191108</td>\n",
       "      <td>2019/11/08 19:48:50.471</td>\n",
       "      <td>Apertif</td>\n",
       "      <td>01:33:47</td>\n",
       "      <td>+31:51:30</td>\n",
       "      <td>133.30</td>\n",
       "      <td>-30.100000</td>\n",
       "      <td>588.1&amp;plusmn0.1</td>\n",
       "      <td>0.34</td>\n",
       "      <td>103.0</td>\n",
       "      <td>27.000</td>\n",
       "    </tr>\n",
       "    <tr>\n",
       "      <th>1</th>\n",
       "      <td>FRB121102</td>\n",
       "      <td>2012/11/02 06:35:53.244</td>\n",
       "      <td>arecibo</td>\n",
       "      <td>05:32:09</td>\n",
       "      <td>33:05:13</td>\n",
       "      <td>174.95</td>\n",
       "      <td>-0.225138</td>\n",
       "      <td>557&amp;plusmn2</td>\n",
       "      <td>3.00</td>\n",
       "      <td>14.0</td>\n",
       "      <td>0.400</td>\n",
       "    </tr>\n",
       "    <tr>\n",
       "      <th>2</th>\n",
       "      <td>FRB141113</td>\n",
       "      <td>2014/11/13 07:42:55.220</td>\n",
       "      <td>arecibo</td>\n",
       "      <td>06:13:00.1</td>\n",
       "      <td>18:47:11.2</td>\n",
       "      <td>191.90</td>\n",
       "      <td>0.360000</td>\n",
       "      <td>400.3</td>\n",
       "      <td>2.00</td>\n",
       "      <td>8.4</td>\n",
       "      <td>0.039</td>\n",
       "    </tr>\n",
       "    <tr>\n",
       "      <th>3</th>\n",
       "      <td>FRB170107</td>\n",
       "      <td>2017/01/07 20:05:08.139</td>\n",
       "      <td>ASKAP</td>\n",
       "      <td>11:23.3</td>\n",
       "      <td>-05:00</td>\n",
       "      <td>266.10</td>\n",
       "      <td>51.400000</td>\n",
       "      <td>609.5&amp;plusmn0.5</td>\n",
       "      <td>2.40</td>\n",
       "      <td>16.0</td>\n",
       "      <td>24.100</td>\n",
       "    </tr>\n",
       "    <tr>\n",
       "      <th>4</th>\n",
       "      <td>FRB170416</td>\n",
       "      <td>2017/04/16 23:11:12.799</td>\n",
       "      <td>ASKAP</td>\n",
       "      <td>22:13</td>\n",
       "      <td>-55:02</td>\n",
       "      <td>337.60</td>\n",
       "      <td>-50.000000</td>\n",
       "      <td>523.2&amp;plusmn0.2</td>\n",
       "      <td>5.00</td>\n",
       "      <td>13.0</td>\n",
       "      <td>19.400</td>\n",
       "    </tr>\n",
       "  </tbody>\n",
       "</table>\n",
       "</div>"
      ],
      "text/plain": [
       "    frb_name                      utc telescope     rop_raj    rop_decj  \\\n",
       "0  FRB191108  2019/11/08 19:48:50.471   Apertif    01:33:47   +31:51:30   \n",
       "1  FRB121102  2012/11/02 06:35:53.244   arecibo    05:32:09    33:05:13   \n",
       "2  FRB141113  2014/11/13 07:42:55.220   arecibo  06:13:00.1  18:47:11.2   \n",
       "3  FRB170107  2017/01/07 20:05:08.139     ASKAP     11:23.3      -05:00   \n",
       "4  FRB170416  2017/04/16 23:11:12.799     ASKAP       22:13      -55:02   \n",
       "\n",
       "   rop_gl     rop_gb           rmp_dm  rmp_width  rmp_snr  rmp_flux  \n",
       "0  133.30 -30.100000  588.1&plusmn0.1       0.34    103.0    27.000  \n",
       "1  174.95  -0.225138      557&plusmn2       3.00     14.0     0.400  \n",
       "2  191.90   0.360000            400.3       2.00      8.4     0.039  \n",
       "3  266.10  51.400000  609.5&plusmn0.5       2.40     16.0    24.100  \n",
       "4  337.60 -50.000000  523.2&plusmn0.2       5.00     13.0    19.400  "
      ]
     },
     "execution_count": 42,
     "metadata": {},
     "output_type": "execute_result"
    }
   ],
   "source": [
    "#all sources, from FRBcat and CHIME\n",
    "frbs.head()\n",
    "#len(frbs['frb_name'])\n",
    "#https://github.com/icecube/wg-nu-sources/blob/2021_GRB_precursors/2021_GRB_precursors/csky_precursors/Setup.py"
   ]
  },
  {
   "cell_type": "code",
   "execution_count": 57,
   "metadata": {},
   "outputs": [
    {
     "name": "stdout",
     "output_type": "stream",
     "text": [
      "{'mp_cpus': 1}\n"
     ]
    },
    {
     "ename": "NameError",
     "evalue": "name 'ana' is not defined",
     "output_type": "error",
     "traceback": [
      "\u001b[0;31m---------------------------------------------------------------------------\u001b[0m",
      "\u001b[0;31mNameError\u001b[0m                                 Traceback (most recent call last)",
      "\u001b[0;32m<ipython-input-57-2a2dbb987a06>\u001b[0m in \u001b[0;36m<module>\u001b[0;34m\u001b[0m\n\u001b[1;32m      1\u001b[0m \u001b[0mprint\u001b[0m\u001b[0;34m(\u001b[0m\u001b[0mcy\u001b[0m\u001b[0;34m.\u001b[0m\u001b[0mCONF\u001b[0m\u001b[0;34m)\u001b[0m\u001b[0;34m\u001b[0m\u001b[0;34m\u001b[0m\u001b[0m\n\u001b[1;32m      2\u001b[0m \u001b[0;34m\u001b[0m\u001b[0m\n\u001b[0;32m----> 3\u001b[0;31m \u001b[0mcy\u001b[0m\u001b[0;34m.\u001b[0m\u001b[0mCONF\u001b[0m\u001b[0;34m[\u001b[0m\u001b[0;34m'ana'\u001b[0m\u001b[0;34m]\u001b[0m \u001b[0;34m=\u001b[0m \u001b[0mana\u001b[0m\u001b[0;34m\u001b[0m\u001b[0;34m\u001b[0m\u001b[0m\n\u001b[0m",
      "\u001b[0;31mNameError\u001b[0m: name 'ana' is not defined"
     ]
    }
   ],
   "source": [
    "print(cy.CONF)\n",
    "\n",
    "cy.CONF['ana'] = ana"
   ]
  },
  {
   "cell_type": "code",
   "execution_count": 56,
   "metadata": {},
   "outputs": [
    {
     "ename": "ValueError",
     "evalue": "must provide 'ana' in cy.CONF, conf argument, or as keyword argument ana=___",
     "output_type": "error",
     "traceback": [
      "\u001b[0;31m---------------------------------------------------------------------------\u001b[0m",
      "\u001b[0;31mValueError\u001b[0m                                Traceback (most recent call last)",
      "\u001b[0;32m<ipython-input-56-0c25069222c2>\u001b[0m in \u001b[0;36m<module>\u001b[0;34m\u001b[0m\n\u001b[1;32m      1\u001b[0m \u001b[0;31m#frbs_coord, rep_coord\u001b[0m\u001b[0;34m\u001b[0m\u001b[0;34m\u001b[0m\u001b[0;34m\u001b[0m\u001b[0m\n\u001b[1;32m      2\u001b[0m \u001b[0msrc\u001b[0m \u001b[0;34m=\u001b[0m \u001b[0mcy\u001b[0m\u001b[0;34m.\u001b[0m\u001b[0msources\u001b[0m\u001b[0;34m(\u001b[0m\u001b[0mfrbs_coord\u001b[0m\u001b[0;34m[\u001b[0m\u001b[0;36m0\u001b[0m\u001b[0;34m]\u001b[0m\u001b[0;34m.\u001b[0m\u001b[0mra\u001b[0m\u001b[0;34m,\u001b[0m \u001b[0mfrbs_coord\u001b[0m\u001b[0;34m[\u001b[0m\u001b[0;36m0\u001b[0m\u001b[0;34m]\u001b[0m\u001b[0;34m.\u001b[0m\u001b[0mdec\u001b[0m\u001b[0;34m,\u001b[0m \u001b[0mdeg\u001b[0m\u001b[0;34m=\u001b[0m\u001b[0;32mTrue\u001b[0m\u001b[0;34m)\u001b[0m\u001b[0;34m\u001b[0m\u001b[0;34m\u001b[0m\u001b[0m\n\u001b[0;32m----> 3\u001b[0;31m \u001b[0mtr\u001b[0m \u001b[0;34m=\u001b[0m \u001b[0mcy\u001b[0m\u001b[0;34m.\u001b[0m\u001b[0mget_trial_runner\u001b[0m\u001b[0;34m(\u001b[0m\u001b[0msrc\u001b[0m\u001b[0;34m=\u001b[0m\u001b[0msrc\u001b[0m\u001b[0;34m)\u001b[0m\u001b[0;34m\u001b[0m\u001b[0;34m\u001b[0m\u001b[0m\n\u001b[0m\u001b[1;32m      4\u001b[0m \u001b[0;31m#frbs_coord[0]\u001b[0m\u001b[0;34m\u001b[0m\u001b[0;34m\u001b[0m\u001b[0;34m\u001b[0m\u001b[0m\n",
      "\u001b[0;32m/mnt/lfs7/user/jthwaites/csky/csky/conf.py\u001b[0m in \u001b[0;36mget_trial_runner\u001b[0;34m(conf, inj_conf, **kw)\u001b[0m\n\u001b[1;32m    243\u001b[0m     \u001b[0;32mif\u001b[0m \u001b[0mana\u001b[0m \u001b[0;32mis\u001b[0m \u001b[0;32mNone\u001b[0m\u001b[0;34m:\u001b[0m\u001b[0;34m\u001b[0m\u001b[0;34m\u001b[0m\u001b[0m\n\u001b[1;32m    244\u001b[0m         raise ValueError(\n\u001b[0;32m--> 245\u001b[0;31m             'must provide \\'ana\\' in cy.CONF, conf argument, or as keyword argument ana=___')\n\u001b[0m\u001b[1;32m    246\u001b[0m     \u001b[0;32mif\u001b[0m \u001b[0;34m'time'\u001b[0m \u001b[0;32min\u001b[0m \u001b[0mconf\u001b[0m\u001b[0;34m:\u001b[0m\u001b[0;34m\u001b[0m\u001b[0;34m\u001b[0m\u001b[0m\n\u001b[1;32m    247\u001b[0m         \u001b[0mconf\u001b[0m\u001b[0;34m.\u001b[0m\u001b[0msetdefault\u001b[0m\u001b[0;34m(\u001b[0m\u001b[0;34m't0_min'\u001b[0m\u001b[0;34m,\u001b[0m \u001b[0mana\u001b[0m\u001b[0;34m.\u001b[0m\u001b[0mmjd_min\u001b[0m\u001b[0;34m)\u001b[0m\u001b[0;34m\u001b[0m\u001b[0;34m\u001b[0m\u001b[0m\n",
      "\u001b[0;31mValueError\u001b[0m: must provide 'ana' in cy.CONF, conf argument, or as keyword argument ana=___"
     ]
    }
   ],
   "source": [
    "#frbs_coord, rep_coord\n",
    "src = cy.sources(frbs_coord[0].ra, frbs_coord[0].dec, deg=True)\n",
    "tr = cy.get_trial_runner(src=src)\n",
    "#frbs_coord[0]"
   ]
  },
  {
   "cell_type": "code",
   "execution_count": null,
   "metadata": {},
   "outputs": [],
   "source": []
  }
 ],
 "metadata": {
  "kernelspec": {
   "display_name": "Python 3",
   "language": "python",
   "name": "python3"
  },
  "language_info": {
   "codemirror_mode": {
    "name": "ipython",
    "version": 3
   },
   "file_extension": ".py",
   "mimetype": "text/x-python",
   "name": "python",
   "nbconvert_exporter": "python",
   "pygments_lexer": "ipython3",
   "version": "3.7.5"
  }
 },
 "nbformat": 4,
 "nbformat_minor": 4
}
