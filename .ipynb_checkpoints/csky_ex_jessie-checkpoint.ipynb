{
 "cells": [
  {
   "cell_type": "markdown",
   "metadata": {},
   "source": [
    "## Using CSky"
   ]
  },
  {
   "cell_type": "markdown",
   "metadata": {},
   "source": [
    "Following Mike Richman's example, 01_getting_started.ipynb"
   ]
  },
  {
   "cell_type": "code",
   "execution_count": 1,
   "metadata": {},
   "outputs": [],
   "source": [
    "import numpy as np\n",
    "import matplotlib.pyplot as plt\n",
    "\n",
    "import histlite as hl\n",
    "import csky as cy\n",
    "\n",
    "%matplotlib inline"
   ]
  },
  {
   "cell_type": "code",
   "execution_count": 2,
   "metadata": {},
   "outputs": [],
   "source": [
    "timer = cy.timing.Timer()\n",
    "time = timer.time"
   ]
  },
  {
   "cell_type": "code",
   "execution_count": 7,
   "metadata": {},
   "outputs": [],
   "source": [
    "? cy.selections.GFUDataSpecs.gfu_3yr"
   ]
  },
  {
   "cell_type": "markdown",
   "metadata": {},
   "source": [
    "Reading in data. Taken directly from example nb"
   ]
  },
  {
   "cell_type": "markdown",
   "metadata": {},
   "source": [
    "Common datasets for tracks: (GFU?)\n",
    "* `cy.selections.PSDataSpecs.ps_7yr` -- Stefan's 7yr dataset\n",
    "* `cy.selections.GFUDataSpecs.gfu_3yr` -- GFU subset used for TXS analysis\n",
    "* `cy.selections.NTDataSpecs.nt_8yr` -- Northern tracks\n",
    "* `cy.selections.PSDataSpecs.ps_10yr` -- Tessa's 10yr dataset"
   ]
  },
  {
   "cell_type": "code",
   "execution_count": 3,
   "metadata": {},
   "outputs": [
    {
     "name": "stdout",
     "output_type": "stream",
     "text": [
      "Setting up Analysis for:\n",
      "MESC_2010_2016_DNN\n",
      "Setting up MESC_2010_2016_DNN...\n",
      "Reading /data/user/mrichman/data/analyses/mese/current/mese_cascades_MC_2013_dnn.npy ...\n",
      "Reading /data/user/mrichman/data/analyses/mese/current/mese_cascades_2010_2016_dnn.npy ...\n",
      "Energy PDF Ratio Model...\n",
      "  * gamma = 4.0000 ...\n",
      "Signal Acceptance Model...\n",
      "  * gamma = 4.0000 ...\n",
      "Done.\n",
      "\n",
      "0:00:12.850715 elapsed.\n"
     ]
    }
   ],
   "source": [
    "with time('ana setup (from scratch)'):\n",
    "    ana = cy.get_analysis(cy.selections.mrichman_repo, cy.selections.MESEDataSpecs.mesc_7yr_dnn)"
   ]
  },
  {
   "cell_type": "code",
   "execution_count": 92,
   "metadata": {},
   "outputs": [
    {
     "name": "stdout",
     "output_type": "stream",
     "text": [
      "{'mp_cpus': 1, 'ana': Analysis(keys=[MESC_2010_2016_DNN])}\n"
     ]
    }
   ],
   "source": [
    "print(cy.CONF)\n",
    "\n",
    "cy.CONF['ana'] = ana\n",
    "#can incr number of cpus here\n",
    "#cy.CONF['mp_cpus'] = 3"
   ]
  },
  {
   "cell_type": "markdown",
   "metadata": {},
   "source": [
    "MR: The hottest spot in my analysis was found at $(\\alpha,\\delta)=(271.23^\\circ,7.78^\\circ)$.  Let's get a trial runner for that position in the sky:"
   ]
  },
  {
   "cell_type": "code",
   "execution_count": 5,
   "metadata": {},
   "outputs": [],
   "source": [
    "src = cy.sources(271.23, 7.78, deg=True)\n",
    "tr = cy.get_trial_runner(src=src)"
   ]
  },
  {
   "cell_type": "markdown",
   "metadata": {},
   "source": [
    "MR: `cy.sources(ra,dec,**kw)` is a convenience function for constructing `cy.utils.Sources(**kw)` instances.  If `ra` and `dec` are arrays, then stacking analysis will be performed.  If nonzero `extension` value(s) are given, Gaussian source extension is assumed."
   ]
  },
  {
   "cell_type": "markdown",
   "metadata": {},
   "source": [
    "JT: default extension is zero. Can also get weighting from this. deg is kw to convert to rad"
   ]
  },
  {
   "cell_type": "markdown",
   "metadata": {},
   "source": [
    "MR: `cy.get_trial_runner(...)` is a powerful function for obtaining `cy.trial.TrialRunner` instances.  A *trial runner* is an object which is capable of working with \"trials\" (basically, event ensembles plus counts of \"excluded\" events pre-emptively counted as purely background, $S/B \\to 0$).  Trial runners not only produce trials, but also invoke likelihood fitting machinery for them; run them in (parallelizable) batches; and perform batches specifically useful for estimating sensitivities and discovery potentials.  They also provide an interface for converting between event rates and fluxes/fluences."
   ]
  },
  {
   "cell_type": "markdown",
   "metadata": {},
   "source": [
    "### Background Characterization"
   ]
  },
  {
   "cell_type": "markdown",
   "metadata": {},
   "source": [
    "MR: The first step in most point source analyses is to characterize the background by running scrambled trials.  In csky, this is done as follows:"
   ]
  },
  {
   "cell_type": "code",
   "execution_count": 6,
   "metadata": {},
   "outputs": [
    {
     "name": "stdout",
     "output_type": "stream",
     "text": [
      "Performing 10000 background trials using 1 core:\n",
      "      10000/10000 trials complete.   \n",
      "\n",
      "0:01:41.897880 elapsed.\n"
     ]
    }
   ],
   "source": [
    "with time('ps bg trials'):\n",
    "    n_trials = 10000\n",
    "    bg = cy.dists.Chi2TSD(tr.get_many_fits(n_trials))"
   ]
  },
  {
   "cell_type": "markdown",
   "metadata": {},
   "source": [
    "Performing a num of background trials. (Takes awhile with only one core.) "
   ]
  },
  {
   "cell_type": "markdown",
   "metadata": {},
   "source": [
    "MR:`Chi2TSD` stores the trials as well as a $\\chi^2$ fit to the nonzero part of the TS distribution.  We can look at a barebones summary or a detailed one:"
   ]
  },
  {
   "cell_type": "code",
   "execution_count": 9,
   "metadata": {},
   "outputs": [
    {
     "name": "stdout",
     "output_type": "stream",
     "text": [
      "Chi2TSD from 10000 trials:\n",
      "           eta = 0.582\n",
      "          ndof = 1.087\n",
      "           loc = 0.000\n",
      "         scale = 1.071\n",
      "Thresholds from trials:\n",
      "        median = 0.044\n",
      "       1 sigma = 1.43\n",
      "       2 sigma = 4.80\n",
      "       3 sigma = 10.24\n",
      "       4 sigma = 17.80\n",
      "       5 sigma = 27.49\n",
      "Thresholds from fit:\n",
      "        median = 0.048\n",
      "       1 sigma = 1.43\n",
      "       2 sigma = 4.80\n",
      "       3 sigma = 10.24\n",
      "       4 sigma = 17.80\n",
      "       5 sigma = 27.49\n"
     ]
    }
   ],
   "source": [
    "#print(bg)\n",
    "print(bg.description)\n",
    "#eta is a fit param for the chi-sq fxn"
   ]
  },
  {
   "cell_type": "code",
   "execution_count": 55,
   "metadata": {},
   "outputs": [
    {
     "data": {
      "image/png": "[encoded data removed]",
      "text/plain": [
       "<Figure size 648x432 with 1 Axes>"
      ]
     },
     "metadata": {
      "needs_background": "light"
     },
     "output_type": "display_data"
    }
   ],
   "source": [
    "#plot bg distr\n",
    "fig, ax = plt.subplots(figsize=(9,6)) #simplest way to return figure and axes\n",
    "\n",
    "# csky uses histlite all over the place for PDF management\n",
    "# the background distribution fit integrates with histlite as well\n",
    "h = bg.get_hist(bins=50)\n",
    "hl.plot1d(ax, h, crosses=True, #label='bg trials')\n",
    "          label='{} bg trials'.format(bg.n_total))\n",
    "\n",
    "# compare with the chi2 fit:\n",
    "x = h.centers[0]\n",
    "norm = h.integrate().values #normalization for chi-sq\n",
    "ax.semilogy(x, norm * bg.pdf(x), lw=1, ls='--', #label=r'$\\chi^2[%.2f$ dof]'%bg.ndof)\n",
    "            label=r'$\\chi^2[{:.2f}$ dof, $\\eta={:.3f}]$'.format(bg.ndof, bg.eta))\n",
    "\n",
    "# always label your plots, folks\n",
    "ax.set_xlabel(r'TS')\n",
    "ax.set_ylabel(r'number of trials')\n",
    "ax.legend()\n",
    "plt.tight_layout() #what does this do?"
   ]
  },
  {
   "cell_type": "code",
   "execution_count": 38,
   "metadata": {},
   "outputs": [
    {
     "name": "stdout",
     "output_type": "stream",
     "text": [
      "Start time: 2021-02-11 16:24:43.301711\n",
      "Using 1 cores.\n",
      "* Starting initial scan for 90% of 50 trials with TS >= 0.044...\n",
      "  n_sig = 5.000 ... frac = 0.92000\n",
      "* Generating batches of 500 trials...\n",
      "n_trials | n_inj    0.00    2.00    4.00    6.00    8.00   10.00  |  n_sig(relative error)\n",
      "500      |         51.4%   75.0%   88.0%   93.6%   98.2%   99.6%  |      4.586 (+/-  7.5%) [spline]\n",
      "1000     |         52.0%   73.2%   87.2%   92.7%   97.2%   98.9%  |      4.876 (+/-  5.8%) [spline]\n",
      "1500     |         52.1%   73.5%   87.2%   93.1%   96.9%   98.9%  |      4.799 (+/-  4.7%) [spline]\n",
      "End time: 2021-02-11 16:26:56.396470\n",
      "Elapsed time: 0:02:13.094759\n",
      "\n",
      "0:02:13.095918 elapsed.\n"
     ]
    }
   ],
   "source": [
    "with time('ps sensitivity'):\n",
    "    sens = tr.find_n_sig( #tr is trial runner, as defn above\n",
    "        # ts, threshold\n",
    "        bg.median(),\n",
    "        # beta, fraction of trials which should exceed the threshold\n",
    "        0.9,\n",
    "        # n_inj step size for initial scan\n",
    "        n_sig_step=5,\n",
    "        # this many trials at a time\n",
    "        batch_size=500,\n",
    "        # tolerance, as estimated relative error\n",
    "        tol=.05\n",
    "    )"
   ]
  },
  {
   "cell_type": "code",
   "execution_count": 39,
   "metadata": {},
   "outputs": [
    {
     "name": "stdout",
     "output_type": "stream",
     "text": [
      "Start time: 2021-02-11 16:27:53.535291\n",
      "Using 1 cores.\n",
      "* Starting initial scan for 50% of 50 trials with TS >= 27.488...\n",
      "  n_sig = 5.000 ... frac = 0.00000\n",
      "  n_sig = 10.000 ... frac = 0.10000\n",
      "  n_sig = 15.000 ... frac = 0.26000\n",
      "  n_sig = 20.000 ... frac = 0.40000\n",
      "  n_sig = 25.000 ... frac = 0.82000\n",
      "* Generating batches of 500 trials...\n",
      "n_trials | n_inj    0.00   10.00   20.00   30.00   40.00   50.00  |  n_sig(relative error)\n",
      "500      |          0.0%    4.4%   47.0%   91.0%   99.8%  100.0%  |     20.664 (+/-  2.2%) [spline]\n",
      "End time: 2021-02-11 16:28:45.645552\n",
      "Elapsed time: 0:00:52.110261\n",
      "\n",
      "0:00:52.113080 elapsed.\n"
     ]
    }
   ],
   "source": [
    "with time('ps discovery potential'):\n",
    "    disc = tr.find_n_sig(bg.isf_nsigma(5), 0.5, n_sig_step=5, batch_size=500, tol=.05)\n",
    "    #same fxn as before, 5 sigma 50% dp"
   ]
  },
  {
   "cell_type": "markdown",
   "metadata": {},
   "source": [
    "Now `sens` and `disc` are `dict` objects including various information about the calculation, as well as the result under the key `n_sig`:"
   ]
  },
  {
   "cell_type": "code",
   "execution_count": 43,
   "metadata": {},
   "outputs": [
    {
     "name": "stdout",
     "output_type": "stream",
     "text": [
      "4.798524403588972 20.663749932004993\n"
     ]
    }
   ],
   "source": [
    "print(sens['n_sig'], disc['n_sig'])\n",
    "#print(sens) #lots of information here\n",
    "#print(disc)"
   ]
  },
  {
   "cell_type": "markdown",
   "metadata": {},
   "source": [
    "MR: So far, we've just found the Poisson event rates that correspond to the sensitivity and discovery potential fluxes.  These can be converted to fluxes as follows:"
   ]
  },
  {
   "cell_type": "code",
   "execution_count": 45,
   "metadata": {},
   "outputs": [
    {
     "name": "stdout",
     "output_type": "stream",
     "text": [
      "Sensitivity flux:  4.746e-12  TeV/cm2/s @ 100 TeV\n",
      "Disc potential flux:  2.044e-11  TeV/cm2/s @ 100 TeV\n"
     ]
    }
   ],
   "source": [
    "fmt = '{:.3e}  TeV/cm2/s @ 100 TeV'\n",
    "# either the number of events or the whole dict will work\n",
    "print('Sensitivity flux: ',fmt.format(tr.to_E2dNdE(sens, E0=100, unit=1e3)))\n",
    "print('Disc potential flux: ',fmt.format(tr.to_E2dNdE(disc['n_sig'], E0=100, unit=1e3)))"
   ]
  },
  {
   "cell_type": "markdown",
   "metadata": {},
   "source": [
    "### Test for fit bias"
   ]
  },
  {
   "cell_type": "markdown",
   "metadata": {},
   "source": [
    "One powerful test of analysis readiness is to demonstrate that we can properly fit the parameters of an injected signal.  For this we start by getting some batches of signal trials:"
   ]
  },
  {
   "cell_type": "code",
   "execution_count": 46,
   "metadata": {},
   "outputs": [
    {
     "name": "stdout",
     "output_type": "stream",
     "text": [
      "\n",
      "0:00:18.173873 elapsed.\n"
     ]
    }
   ],
   "source": [
    "n_sigs = np.r_[:101:10] #simple way to build arr quickly\n",
    "with time('ps fit bias trials'):\n",
    "    trials = [tr.get_many_fits(100, n_sig=n_sig, logging=False, seed=n_sig) for n_sig in n_sigs]"
   ]
  },
  {
   "cell_type": "code",
   "execution_count": 75,
   "metadata": {},
   "outputs": [
    {
     "data": {
      "text/plain": [
       "Arrays(1100 items | columns: gamma, ns, ntrue, ts)"
      ]
     },
     "execution_count": 75,
     "metadata": {},
     "output_type": "execute_result"
    }
   ],
   "source": [
    "#add true number of injected for bookkeeping\n",
    "for (n_sig, t) in zip(n_sigs, trials):\n",
    "    t['ntrue'] = np.repeat(n_sig, len(t))\n",
    "allt = cy.utils.Arrays.concatenate(trials) #concatenate trial batches\n",
    "allt "
   ]
  },
  {
   "cell_type": "code",
   "execution_count": 81,
   "metadata": {},
   "outputs": [
    {
     "data": {
      "image/png": "[encoded data removed]",
      "text/plain": [
       "<Figure size 864x432 with 2 Axes>"
      ]
     },
     "metadata": {
      "needs_background": "light"
     },
     "output_type": "display_data"
    }
   ],
   "source": [
    "#Make plots!\n",
    "fig, axs = plt.subplots(1, 2, figsize=(12,6))\n",
    "\n",
    "dns = np.mean(np.diff(n_sigs))\n",
    "ns_bins = np.r_[n_sigs - 0.5*dns, n_sigs[-1] + 0.5*dns]\n",
    "expect_kw = dict(color='C0', ls='--', lw=1, zorder=-10)\n",
    "expect_gamma = tr.sig_injs[0].flux[0].gamma\n",
    "\n",
    "ax = axs[0]\n",
    "h = hl.hist((allt.ntrue, allt.ns), bins=(ns_bins, 100))\n",
    "hl.plot1d(ax, h.contain_project(1),errorbands=True, drawstyle='default')\n",
    "\n",
    "lim = ns_bins[[0, -1]]\n",
    "ax.set_xlim(ax.set_ylim(lim))\n",
    "ax.plot(lim, lim, **expect_kw) #plot y=x line\n",
    "ax.set_aspect('equal')\n",
    "\n",
    "ax = axs[1]\n",
    "h = hl.hist((allt.ntrue, allt.gamma), bins=(ns_bins, 100))\n",
    "hl.plot1d(ax, h.contain_project(1),errorbands=True, drawstyle='default')\n",
    "ax.axhline(expect_gamma, **expect_kw) #expected gamma line: gamma=2\n",
    "ax.set_xlim(axs[0].get_xlim())\n",
    "\n",
    "for ax in axs:\n",
    "    ax.set_xlabel(r'$n_{inj}$', fontsize=16)\n",
    "    #ax.grid()\n",
    "\n",
    "axs[0].set_ylabel(r'$n_s$', fontsize=16)\n",
    "axs[1].set_ylabel(r'$\\gamma$', fontsize=16)\n",
    "\n",
    "plt.tight_layout()"
   ]
  },
  {
   "cell_type": "markdown",
   "metadata": {},
   "source": [
    "### Results"
   ]
  },
  {
   "cell_type": "code",
   "execution_count": 82,
   "metadata": {},
   "outputs": [
    {
     "name": "stdout",
     "output_type": "stream",
     "text": [
      "TS                  9.143492682999423\n",
      "ns                  32.296582725805045\n",
      "gamma               2.9952806162350294\n"
     ]
    }
   ],
   "source": [
    "print(tr.format_result(tr.get_one_fit(TRUTH=True)))"
   ]
  },
  {
   "cell_type": "markdown",
   "metadata": {},
   "source": [
    "Ok, now finally, we use the pre-computed `bg` to calculate the p-value:"
   ]
  },
  {
   "cell_type": "code",
   "execution_count": 88,
   "metadata": {},
   "outputs": [
    {
     "name": "stdout",
     "output_type": "stream",
     "text": [
      "[9.143492682999423, 32.296582725805045, 2.9952806162350294]\n"
     ]
    }
   ],
   "source": [
    "result = ts, ns, gamma = tr.get_one_fit(TRUTH=True)\n",
    "print(result)"
   ]
  },
  {
   "cell_type": "code",
   "execution_count": 89,
   "metadata": {},
   "outputs": [
    {
     "name": "stdout",
     "output_type": "stream",
     "text": [
      "p = 2.36e-03 (2.83 sigma)\n"
     ]
    }
   ],
   "source": [
    "print('p = {:.2e} ({:.2f} sigma)'.format(bg.sf(ts), bg.sf_nsigma(ts)))"
   ]
  },
  {
   "cell_type": "markdown",
   "metadata": {},
   "source": [
    "## All Sky Scan"
   ]
  },
  {
   "cell_type": "markdown",
   "metadata": {},
   "source": [
    "In many analyses, we aren't just interested in specific sky coordinates, but instead a scan over the whole sky.  In csky we can do this using a `cy.trial.SkyScanTrialRunner`, obtained like so:"
   ]
  },
  {
   "cell_type": "code",
   "execution_count": 93,
   "metadata": {},
   "outputs": [],
   "source": [
    "sstr = cy.get_sky_scan_trial_runner(mp_scan_cpus=1, nside=32)"
   ]
  },
  {
   "cell_type": "code",
   "execution_count": 94,
   "metadata": {},
   "outputs": [
    {
     "name": "stdout",
     "output_type": "stream",
     "text": [
      "Scanning 12288 locations using 1 cores:\n",
      "      12288/12288 coordinates complete.   \n",
      "\n",
      "0:01:44.211049 elapsed.\n"
     ]
    }
   ],
   "source": [
    "with time('ps all-sky scan'):\n",
    "    scan = sstr.get_one_scan(TRUTH=True, logging=True)"
   ]
  },
  {
   "cell_type": "code",
   "execution_count": 95,
   "metadata": {},
   "outputs": [
    {
     "data": {
      "text/plain": [
       "(4, 12288)"
      ]
     },
     "execution_count": 95,
     "metadata": {},
     "output_type": "execute_result"
    }
   ],
   "source": [
    "scan.shape #what the scan looks like"
   ]
  },
  {
   "cell_type": "markdown",
   "metadata": {},
   "source": [
    "The second axis is npix for the selected healpy nside.  The first axis has items $(-\\log_{10}(p),\\text{TS},n_s,\\gamma)$.  In this example we haven't bothered to characterize the background in detail, so the `scan[0]` is simply a copy of `scan[1]`.  To obtain proper p-values, pass an argument `get_sky_scan_trial_runner(..., ts_to_p=[function])`, where `[function]` should accept `dec[radians],ts` and return `p`, typically by using `cy.dists.ts_to_p`."
   ]
  },
  {
   "cell_type": "code",
   "execution_count": 96,
   "metadata": {},
   "outputs": [
    {
     "data": {
      "image/png": "[encoded data removed]",
      "text/plain": [
       "<Figure size 432x288 with 2 Axes>"
      ]
     },
     "metadata": {
      "needs_background": "light"
     },
     "output_type": "display_data"
    }
   ],
   "source": [
    "#plot of all sky scan!\n",
    "fig, ax = plt.subplots (subplot_kw=dict (projection='aitoff'))\n",
    "sp = cy.plotting.SkyPlotter(pc_kw=dict(cmap=cy.plotting.skymap_cmap, vmin=0, vmax=10))\n",
    "mesh, cb = sp.plot_map(ax, scan[1], n_ticks=2)\n",
    "kw = dict(color='.5', alpha=.5)\n",
    "sp.plot_gp(ax, lw=.5, **kw)\n",
    "sp.plot_gc(ax, **kw)\n",
    "ax.grid(**kw)\n",
    "cb.set_label(r'TS')\n",
    "plt.tight_layout()"
   ]
  },
  {
   "cell_type": "markdown",
   "metadata": {},
   "source": [
    "### Template analysis - ?"
   ]
  },
  {
   "cell_type": "markdown",
   "metadata": {},
   "source": [
    "csky provides two types of template analysis: space-only templates, and per-pixel energy-binned spectra.  In the former, more common type, we provide a space-only healpix map describing the signal distribution across the sky.  My `mrichman_repo` provides the *Fermi*-LAT $\\pi^0$-decay template:"
   ]
  },
  {
   "cell_type": "code",
   "execution_count": 97,
   "metadata": {},
   "outputs": [
    {
     "name": "stdout",
     "output_type": "stream",
     "text": [
      "Reading /data/user/mrichman/data/analyses/templates/Fermi-LAT_pi0_map.npy ...\n"
     ]
    }
   ],
   "source": [
    "pi0_map = cy.selections.mrichman_repo.get_template ('Fermi-LAT_pi0_map')"
   ]
  },
  {
   "cell_type": "markdown",
   "metadata": {},
   "source": [
    "The desired template analysis can be expressed as a configuration dict, which will ultimately be overlayed on top of `cy.CONF`:"
   ]
  },
  {
   "cell_type": "code",
   "execution_count": 99,
   "metadata": {},
   "outputs": [],
   "source": [
    "pi0_conf = {\n",
    "    # desired template\n",
    "    'template': pi0_map,\n",
    "    # desired baseline spectrum\n",
    "    'flux':     cy.hyp.PowerLawFlux(2.5),\n",
    "    # desired fixed spectrum in likelihood\n",
    "    'fitter_args': dict(gamma=2.5),\n",
    "    # use signal subtracting likelihood\n",
    "    'sigsub': True,\n",
    "    # fastest construction:\n",
    "    # weight from acceptance parameterization rather\n",
    "    # than pixel-by-pixel directly from MC\n",
    "    'fast_weight': True,\n",
    "    # cache angular-resolution-smeared maps to disk\n",
    "   # 'dir': cy.utils.ensure_dir('{}/templates/pi0'.format(ana_dir))\n",
    "}"
   ]
  },
  {
   "cell_type": "code",
   "execution_count": 100,
   "metadata": {},
   "outputs": [
    {
     "name": "stdout",
     "output_type": "stream",
     "text": [
      "MESC_2010_2016_DNN        | Acceptance weighting complete.                    \n",
      "MESC_2010_2016_DNN        | Smearing complete.                              \n",
      "\n",
      "0:00:17.409861 elapsed.\n"
     ]
    }
   ],
   "source": [
    "with time('pi0 template construction'):\n",
    "    pi0_tr = cy.get_trial_runner(pi0_conf)"
   ]
  },
  {
   "cell_type": "markdown",
   "metadata": {},
   "source": [
    "`mrichman_repo` also provides the KRAγ templates: (diff decay?)"
   ]
  },
  {
   "cell_type": "code",
   "execution_count": 101,
   "metadata": {},
   "outputs": [
    {
     "name": "stdout",
     "output_type": "stream",
     "text": [
      "Reading /data/user/mrichman/data/analyses/templates/KRA-gamma_5PeV_maps_energies.tuple.npy ...\n"
     ]
    }
   ],
   "source": [
    "krag5_map, krag5_energy_bins = cy.selections.mrichman_repo.get_template(\n",
    "    'KRA-gamma_5PeV_maps_energies', per_pixel_flux=True)"
   ]
  },
  {
   "cell_type": "code",
   "execution_count": 102,
   "metadata": {},
   "outputs": [],
   "source": [
    "krag5_conf = {\n",
    "    'template': krag5_map,\n",
    "    'bins_energy': krag5_energy_bins,\n",
    "    'fitter_args': dict(gamma=2.5),\n",
    "    'update_bg' : True,\n",
    "    'sigsub': True,\n",
    "    #'dir': cy.utils.ensure_dir('{}/templates/kra'.format(ana_dir))\n",
    "}"
   ]
  },
  {
   "cell_type": "code",
   "execution_count": 103,
   "metadata": {},
   "outputs": [
    {
     "name": "stdout",
     "output_type": "stream",
     "text": [
      "MESC_2010_2016_DNN        | Acceptance weighting complete.                    \n",
      "MESC_2010_2016_DNN        | Smearing complete.                              \n",
      "\n",
      "0:00:30.054092 elapsed.\n"
     ]
    }
   ],
   "source": [
    "with time('KRAγ5 template construction'):\n",
    "    krag5_tr = cy.get_trial_runner(krag5_conf)"
   ]
  },
  {
   "cell_type": "markdown",
   "metadata": {},
   "source": [
    "### Background characterization"
   ]
  },
  {
   "cell_type": "code",
   "execution_count": 104,
   "metadata": {},
   "outputs": [
    {
     "name": "stdout",
     "output_type": "stream",
     "text": [
      "Performing 10000 background trials using 1 core:\n",
      "      10000/10000 trials complete.   \n",
      "\n",
      "0:01:07.277574 elapsed.\n"
     ]
    }
   ],
   "source": [
    "with time('pi0 bg trials'):\n",
    "    n_trials = 10000\n",
    "    pi0_bg = cy.dists.Chi2TSD(pi0_tr.get_many_fits(n_trials))"
   ]
  },
  {
   "cell_type": "code",
   "execution_count": 105,
   "metadata": {},
   "outputs": [
    {
     "name": "stdout",
     "output_type": "stream",
     "text": [
      "Performing 10000 background trials using 1 core:\n",
      "      10000/10000 trials complete.   \n",
      "\n",
      "0:00:30.731071 elapsed.\n"
     ]
    }
   ],
   "source": [
    "with time('KRAγ5 bg trials'):\n",
    "    n_trials = 10000\n",
    "    krag5_bg = cy.dists.Chi2TSD(krag5_tr.get_many_fits(n_trials))"
   ]
  },
  {
   "cell_type": "code",
   "execution_count": 106,
   "metadata": {},
   "outputs": [
    {
     "data": {
      "image/png": "[encoded data removed]",
      "text/plain": [
       "<Figure size 432x288 with 1 Axes>"
      ]
     },
     "metadata": {
      "needs_background": "light"
     },
     "output_type": "display_data"
    },
    {
     "data": {
      "image/png": "[encoded data removed]",
      "text/plain": [
       "<Figure size 432x288 with 1 Axes>"
      ]
     },
     "metadata": {
      "needs_background": "light"
     },
     "output_type": "display_data"
    }
   ],
   "source": [
    "bgs = pi0_bg, krag5_bg\n",
    "titles = '$\\pi^0$-decay', 'KRA$_\\gamma^5$'\n",
    "for (b, title) in zip(bgs, titles):\n",
    "    fig, ax = plt.subplots()\n",
    "    h = b.get_hist(bins=30)\n",
    "    hl.plot1d(ax, h, crosses=True,\n",
    "              label='{} bg trials'.format(bg.n_total))\n",
    "    x = h.centers[0]\n",
    "    norm = h.integrate().values\n",
    "    ax.semilogy(x, norm * b.pdf(x), lw=1, ls='--',\n",
    "                label=r'$\\chi^2[{:.2f}$ dof, $\\eta={:.3f}]$'.format(b.ndof, b.eta))\n",
    "    ax.set_xlabel(r'TS')\n",
    "    ax.set_ylabel(r'number of trials')\n",
    "    ax.set_title(title)\n",
    "    ax.legend()\n",
    "    plt.tight_layout()"
   ]
  },
  {
   "cell_type": "markdown",
   "metadata": {},
   "source": [
    "Sensitivity and Discovery Potential: same as for pt source above "
   ]
  },
  {
   "cell_type": "code",
   "execution_count": 107,
   "metadata": {},
   "outputs": [
    {
     "name": "stdout",
     "output_type": "stream",
     "text": [
      "Start time: 2021-02-11 17:26:31.391257\n",
      "Using 1 cores.\n",
      "* Starting initial scan for 90% of 50 trials with TS >= 0.000...\n",
      "  n_sig = 10.000 ... frac = 0.68000\n",
      "  n_sig = 20.000 ... frac = 0.76000\n",
      "  n_sig = 30.000 ... frac = 0.90000\n",
      "* Generating batches of 500 trials...\n",
      "n_trials | n_inj    0.00   12.00   24.00   36.00   48.00   60.00  |  n_sig(relative error)\n",
      "500      |         49.6%   68.0%   81.8%   92.6%   95.8%   99.2%  |     32.039 (+/-  5.3%) [spline]\n",
      "1000     |         50.1%   67.8%   82.6%   91.6%   96.2%   99.0%  |     33.214 (+/-  3.4%) [spline]\n",
      "End time: 2021-02-11 17:35:25.028649\n",
      "Elapsed time: 0:08:53.637392\n",
      "\n",
      "0:08:53.638464 elapsed.\n"
     ]
    }
   ],
   "source": [
    "with time('pi0 sensitivity'):\n",
    "    pi0_sens = pi0_tr.find_n_sig(pi0_bg.median(), 0.9, n_sig_step=10, batch_size=500, tol=.05)"
   ]
  },
  {
   "cell_type": "code",
   "execution_count": 108,
   "metadata": {},
   "outputs": [
    {
     "name": "stdout",
     "output_type": "stream",
     "text": [
      "Start time: 2021-02-11 17:35:25.043092\n",
      "Using 1 cores.\n",
      "* Starting initial scan for 50% of 50 trials with TS >= 25.114...\n",
      "  n_sig = 20.000 ... frac = 0.00000\n",
      "  n_sig = 40.000 ... frac = 0.00000\n",
      "  n_sig = 60.000 ... frac = 0.00000\n",
      "  n_sig = 80.000 ... frac = 0.00000\n",
      "  n_sig = 100.000 ... frac = 0.16000\n",
      "  n_sig = 120.000 ... frac = 0.26000\n",
      "  n_sig = 140.000 ... frac = 0.38000\n",
      "  n_sig = 160.000 ... frac = 0.56000\n",
      "* Generating batches of 500 trials...\n",
      "n_trials | n_inj    0.00   64.00  128.00  192.00  256.00  320.00  |  n_sig(relative error)\n",
      "500      |          0.0%    0.8%   27.6%   79.4%   94.0%   97.2%  |    154.883 (+/-  1.0%) [spline]\n",
      "End time: 2021-02-11 17:40:28.943822\n",
      "Elapsed time: 0:05:03.900730\n",
      "\n",
      "0:05:03.908239 elapsed.\n"
     ]
    }
   ],
   "source": [
    "with time('pi0 discovery potential'):\n",
    "    pi0_disc = pi0_tr.find_n_sig(pi0_bg.isf_nsigma(5), 0.5, n_sig_step=20, batch_size=500, tol=.05)"
   ]
  },
  {
   "cell_type": "code",
   "execution_count": 109,
   "metadata": {},
   "outputs": [
    {
     "name": "stdout",
     "output_type": "stream",
     "text": [
      "Start time: 2021-02-11 17:40:28.952703\n",
      "Using 1 cores.\n",
      "* Starting initial scan for 90% of 50 trials with TS >= 0.000...\n",
      "  n_sig = 10.000 ... frac = 0.72000\n",
      "  n_sig = 20.000 ... frac = 0.90000\n",
      "* Generating batches of 500 trials...\n",
      "n_trials | n_inj    0.00    8.00   16.00   24.00   32.00   40.00  |  n_sig(relative error)\n",
      "500      |         47.4%   73.2%   83.8%   94.2%   97.6%   99.4%  |     20.226 (+/-  4.2%) [spline]\n",
      "End time: 2021-02-11 17:47:06.433730\n",
      "Elapsed time: 0:06:37.481027\n",
      "\n",
      "0:06:37.482202 elapsed.\n"
     ]
    }
   ],
   "source": [
    "with time('KRAγ5 sensitivity'):\n",
    "    krag5_sens = krag5_tr.find_n_sig(krag5_bg.median(), 0.9, n_sig_step=10, batch_size=500, tol=.05)"
   ]
  },
  {
   "cell_type": "code",
   "execution_count": 110,
   "metadata": {},
   "outputs": [
    {
     "name": "stdout",
     "output_type": "stream",
     "text": [
      "Start time: 2021-02-11 17:47:06.443626\n",
      "Using 1 cores.\n",
      "* Starting initial scan for 50% of 50 trials with TS >= 24.049...\n",
      "  n_sig = 20.000 ... frac = 0.00000\n",
      "  n_sig = 40.000 ... frac = 0.00000\n",
      "  n_sig = 60.000 ... frac = 0.10000\n",
      "  n_sig = 80.000 ... frac = 0.38000\n",
      "  n_sig = 100.000 ... frac = 0.66000\n",
      "* Generating batches of 500 trials...\n",
      "n_trials | n_inj    0.00   40.00   80.00  120.00  160.00  200.00  |  n_sig(relative error)\n",
      "500      |          0.0%    2.6%   38.4%   92.8%   99.6%  100.0%  |     88.509 (+/-  1.5%) [spline]\n",
      "End time: 2021-02-11 17:54:06.134117\n",
      "Elapsed time: 0:06:59.690491\n",
      "\n",
      "0:06:59.694263 elapsed.\n"
     ]
    }
   ],
   "source": [
    "with time('KRAγ5 discovery potential'):\n",
    "    krag5_disc = krag5_tr.find_n_sig(krag5_bg.isf_nsigma(5), 0.5, n_sig_step=20, batch_size=500, tol=.05)"
   ]
  },
  {
   "cell_type": "code",
   "execution_count": 111,
   "metadata": {},
   "outputs": [
    {
     "name": "stdout",
     "output_type": "stream",
     "text": [
      "pi0-decay: \n",
      "   Sensitivity:  2.263e-11  TeV/cm2/s @ 100 TeV\n",
      "   Discovery potential:  1.055e-10  TeV/cm2/s @ 100 TeV\n",
      "KRAγ: \n",
      "   Sensitivity: 0.5503836743434186 x KRAγ5\n",
      "   Discovery potential: 2.408461313101727 x KRAγ5\n"
     ]
    }
   ],
   "source": [
    "print('pi0-decay: ')\n",
    "print('   Sensitivity: ',fmt.format(pi0_tr.to_E2dNdE(pi0_sens, E0=100, unit=1e3)))\n",
    "print('   Discovery potential: ',fmt.format(pi0_tr.to_E2dNdE(pi0_disc, E0=100, unit=1e3)))\n",
    "print('KRAγ: ')\n",
    "print('   Sensitivity: {} x KRAγ5'.format(krag5_tr.to_model_norm(krag5_sens, E0=100, unit=1e3)))\n",
    "print('   Discovery potential: {} x KRAγ5'.format(krag5_tr.to_model_norm(krag5_disc, E0=100, unit=1e3)))"
   ]
  },
  {
   "cell_type": "code",
   "execution_count": null,
   "metadata": {},
   "outputs": [],
   "source": []
  }
 ],
 "metadata": {
  "kernelspec": {
   "display_name": "Python 3",
   "language": "python",
   "name": "python3"
  },
  "language_info": {
   "codemirror_mode": {
    "name": "ipython",
    "version": 3
   },
   "file_extension": ".py",
   "mimetype": "text/x-python",
   "name": "python",
   "nbconvert_exporter": "python",
   "pygments_lexer": "ipython3",
   "version": "3.7.5"
  }
 },
 "nbformat": 4,
 "nbformat_minor": 2
}
