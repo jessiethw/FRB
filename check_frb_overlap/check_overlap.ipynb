{
 "cells": [
  {
   "cell_type": "code",
   "execution_count": 66,
   "metadata": {},
   "outputs": [],
   "source": [
    "%matplotlib inline\n",
    "import numpy as np\n",
    "import matplotlib.pyplot as plt\n",
    "import matplotlib as mpl\n",
    "\n",
    "import h5py as h5\n",
    "import healpy as hp\n",
    "import os\n",
    "\n",
    "import pickle as pkl\n",
    "import pandas as pd\n",
    "import chime_localizations as loc\n",
    "\n",
    "mpl.rcParams['font.size'] = 20"
   ]
  },
  {
   "cell_type": "code",
   "execution_count": 4,
   "metadata": {},
   "outputs": [
    {
     "name": "stdout",
     "output_type": "stream",
     "text": [
      "Setting up Analysis for:\n",
      "GFU_for_2011_2012_2013_2014_2015_2016_2017_2018_2019\n",
      "Setting up GFU_for_2011_2012_2013_2014_2015_2016_2017_2018_2019...\n",
      "Reading /data/ana/analyses/gfu/version-002-p06/IC86_2011_MC.npy ...\n",
      "Reading /data/ana/analyses/gfu/version-002-p06/IC86_2011_data.npy ...\n",
      "Reading /data/ana/analyses/gfu/version-002-p06/IC86_2012_data.npy ...\n",
      "Reading /data/ana/analyses/gfu/version-002-p06/IC86_2013_data.npy ...\n",
      "Reading /data/ana/analyses/gfu/version-002-p06/IC86_2014_data.npy ...\n",
      "Reading /data/ana/analyses/gfu/version-002-p06/IC86_2015_data.npy ...\n",
      "Reading /data/ana/analyses/gfu/version-002-p06/IC86_2016_data.npy ...\n",
      "Reading /data/ana/analyses/gfu/version-002-p06/IC86_2017_data.npy ...\n",
      "Reading /data/ana/analyses/gfu/version-002-p06/IC86_2018_data.npy ...\n",
      "Reading /data/ana/analyses/gfu/version-002-p06/IC86_2019_data.npy ...\n",
      "Reading /data/ana/analyses/gfu/version-002-p06/GRL/IC86_2011_data.npy ...\n",
      "Reading /data/ana/analyses/gfu/version-002-p06/GRL/IC86_2012_data.npy ...\n",
      "Reading /data/ana/analyses/gfu/version-002-p06/GRL/IC86_2013_data.npy ...\n",
      "Reading /data/ana/analyses/gfu/version-002-p06/GRL/IC86_2014_data.npy ...\n",
      "Reading /data/ana/analyses/gfu/version-002-p06/GRL/IC86_2015_data.npy ...\n",
      "Reading /data/ana/analyses/gfu/version-002-p06/GRL/IC86_2016_data.npy ...\n",
      "Reading /data/ana/analyses/gfu/version-002-p06/GRL/IC86_2017_data.npy ...\n",
      "Reading /data/ana/analyses/gfu/version-002-p06/GRL/IC86_2018_data.npy ...\n",
      "Reading /data/ana/analyses/gfu/version-002-p06/GRL/IC86_2019_data.npy ...\n",
      "Energy PDF Ratio Model...\n",
      "  * gamma = 4.0000 ...\n",
      "Signal Acceptance Model...\n",
      "  * gamma = 4.0000 ...\n",
      "Done.\n"
     ]
    }
   ],
   "source": [
    "import setup"
   ]
  },
  {
   "cell_type": "code",
   "execution_count": 5,
   "metadata": {},
   "outputs": [
    {
     "name": "stdout",
     "output_type": "stream",
     "text": [
      "Loading all FRBs from catalogs\n",
      "total CHIME FRBs:  534\n"
     ]
    }
   ],
   "source": [
    "\"\"\"Check for overlap in maps at different time windows\n",
    "use mask for CL > max_cl \"\"\"\n",
    "\n",
    "dat_loc='/data/user/jthwaites/chime_localization_data/'\n",
    "dat_files=sorted(os.listdir(dat_loc))\n",
    "\n",
    "frbs=setup.load_frbs()\n",
    "sp_frbs=frbs[frbs['catalog']=='CHIME_1']\n",
    "\n",
    "names=[d[0:12] for d in dat_files]\n",
    "\n",
    "w=[]\n",
    "for src in sp_frbs['src']:\n",
    "    if src not in names:\n",
    "        #if src not in ['FRB20190213A', 'FRB20181017A', 'FRB20190116B']:\n",
    "        [w.append(k) for k in np.where(sp_frbs['src']==src)[0]]\n",
    "\n",
    "w=np.unique(w)\n",
    "w=sp_frbs.index[w]\n",
    "print('total CHIME FRBs: ',len(sp_frbs['src']))\n",
    "sp_frbs=sp_frbs.drop(w)"
   ]
  },
  {
   "cell_type": "code",
   "execution_count": 6,
   "metadata": {},
   "outputs": [
    {
     "name": "stdout",
     "output_type": "stream",
     "text": [
      "FRBs with spatial prior:  512\n",
      "number of repeater bursts w spatial prior:  41\n",
      "number of repeaters:  16\n",
      "individual FRBs:  487\n",
      "loc files:  487\n"
     ]
    }
   ],
   "source": [
    "print('FRBs with spatial prior: ',len(sp_frbs))\n",
    "n_repbursts=sp_frbs.index[np.where(sp_frbs['repeater']==True)[0]].values\n",
    "\n",
    "n_unique_frbs=len(np.unique(sp_frbs['src'][n_repbursts].values))\n",
    "print('number of repeater bursts w spatial prior: ',len(np.where(sp_frbs['repeater']==True)[0]))\n",
    "print('number of repeaters: ',n_unique_frbs)\n",
    "print('individual FRBs: ',(len(sp_frbs)-(41-16)))\n",
    "print('loc files: ',len(dat_files))"
   ]
  },
  {
   "cell_type": "code",
   "execution_count": 7,
   "metadata": {},
   "outputs": [],
   "source": [
    "def temporal_overlap(tw):\n",
    "    tw=tw/86400.\n",
    "    t_overlap=[]\n",
    "    for i in range(len(dat_files)):\n",
    "        frb_name=dat_files[i][0:12]\n",
    "        f=np.where(sp_frbs['src']==frb_name)[0] \n",
    "    \n",
    "        frb_time=sp_frbs['mjd'].values[f] #if this is a repeater, will have multiple times\n",
    "        for m in range(len(frb_time)): \n",
    "            trange=[frb_time[m]-(tw/2.),frb_time[m]+(tw/2.)]\n",
    "        \n",
    "            for j in [x for x in range(len(dat_files)) if x != i]: #check all other frbs for overlap\n",
    "                frb_name2= dat_files[j][0:12]\n",
    "                if frb_name == frb_name2: continue\n",
    "                \n",
    "                f2=np.where(sp_frbs['src']==frb_name2)[0]\n",
    "        \n",
    "                frb_time2=sp_frbs['mjd'].values[f2] #if repeater, will have multiple values\n",
    "            \n",
    "                for k in range(len(frb_time2)): \n",
    "                    trange2=[frb_time2[k]-(tw/2.),frb_time2[k]+(tw/2.)]\n",
    "        \n",
    "                    check1= trange[0]<trange2[0] and trange[1]>trange2[0] #check for temporal overlap\n",
    "                    check2= trange[0]<trange2[1] and trange[1]>trange2[1]\n",
    "                    if check1 or check2: \n",
    "                        if [frb_name2,frb_name] not in t_overlap:\n",
    "                            t_overlap.append([frb_name, frb_name2])\n",
    "    return t_overlap\n",
    "        \n",
    "def spatial_overlap(names, overlap, new_nside, max_cl):\n",
    "    #names= pairs of overlapping names to check\n",
    "    new_localizations = pd.read_pickle(r'/home/jthwaites/FRB/sp_maps_extent.pkl')\n",
    "    \n",
    "    #start by checking if 90%CLs are within 1 degree from extent of CLs - \n",
    "    #faster than reading in healpix maps\n",
    "    s_overlap=[]\n",
    "\n",
    "    for i in range(len(names)):\n",
    "        index1= np.where(np.asarray(new_localizations['tns_name'])==names[i][0])[0]\n",
    "        index2= np.where(np.asarray(new_localizations['tns_name'])==names[i][1])[0]\n",
    "        if len(index1)!=1:\n",
    "            print('Error: cannot find localization for %s'%(names[i][0]))\n",
    "            break\n",
    "        elif len(index2)!= 1: \n",
    "            print('Error: cannot find localization for %s'%(names[i][1]))\n",
    "            break\n",
    "        index1 = index1[0]\n",
    "        index2 = index2[0]\n",
    "    \n",
    "        ra_max1=new_localizations['ra'][index1]+(new_localizations['ra_unc_90'][index1]/2)+1\n",
    "        ra_min1=new_localizations['ra'][index1]-(new_localizations['ra_unc_90'][index1]/2)-1\n",
    "        ra_max2=new_localizations['ra'][index2]+(new_localizations['ra_unc_90'][index2]/2)+1\n",
    "        ra_min2=new_localizations['ra'][index2]-(new_localizations['ra_unc_90'][index2]/2)-1\n",
    "    \n",
    "        if ra_min1>ra_max2 or ra_max1<ra_min2: continue\n",
    "    \n",
    "        dec_max1=new_localizations['dec'][index1]+(new_localizations['dec_unc_90'][index1]/2)+1\n",
    "        dec_min1=new_localizations['dec'][index1]-(new_localizations['dec_unc_90'][index1]/2)-1\n",
    "        dec_max2=new_localizations['dec'][index2]+(new_localizations['dec_unc_90'][index2]/2)+1\n",
    "        dec_min2=new_localizations['dec'][index2]-(new_localizations['dec_unc_90'][index2]/2)-1\n",
    "    \n",
    "        if dec_min1>dec_max2 or dec_max1<dec_min2: continue\n",
    "        #print(names[i])\n",
    "        #print('ra: [%.2f, %.2f] ; [%.2f, %.2f]'%(ra_max1,ra_min1, ra_max2,ra_min2))\n",
    "        #print('dec: [%.2f, %.2f] ; [%.2f, %.2f]'%(dec_max1,dec_min1, dec_max2,dec_min2))\n",
    "        \n",
    "        #if in previous tw overlap, don't make maps again\n",
    "        if names[i] in overlap: \n",
    "            s_overlap.append(names[i])\n",
    "            continue\n",
    "        \n",
    "        #if they have some contour overlap +/- 1 degree of contour - make healpix map\n",
    "        #print('Making contour maps for %s and %s'%(names[i][0],names[i][1]))\n",
    "        frb_probs, msk1=loc.make_healpix_map(names[i][0], new_nside=new_nside, max_cl=max_cl)\n",
    "        frb_probs, msk2=loc.make_healpix_map(names[i][1], new_nside=new_nside, max_cl=max_cl)\n",
    "        loc1=np.where(msk1)[0]\n",
    "        loc2=np.where(msk2)[0]\n",
    "        \n",
    "        p=0\n",
    "        for pixel in loc2:\n",
    "            if pixel in loc1: p+=1\n",
    "        \n",
    "        if p==0: continue\n",
    "        print('FRBs: %s and %s'%(names[i][0],names[i][1]))\n",
    "        #print('Number of overlapping pixels: ',p)\n",
    "        s_overlap.append(names[i])\n",
    "        \n",
    "    return s_overlap"
   ]
  },
  {
   "cell_type": "code",
   "execution_count": 8,
   "metadata": {},
   "outputs": [],
   "source": [
    "def check_overlap(tws=np.logspace(1,6, num=16), new_nside=256, max_cl=0.9997):\n",
    "    overlap_tw={}\n",
    "    s_overlap_prev=[]\n",
    "    for tw in tws:\n",
    "        print('Time window= %i'%tw)\n",
    "        if tw < 10000.: \n",
    "            print('No overlap for tw %is found'%tw)\n",
    "            overlap_tw[int(tw)]=[]\n",
    "            continue\n",
    "            \n",
    "        t_overlap=temporal_overlap(tw)\n",
    "        if t_overlap==[]: return \n",
    "    \n",
    "        s_overlap=spatial_overlap(t_overlap, s_overlap_prev, new_nside, max_cl)\n",
    "        if s_overlap==[]: print('No overlap for tw %is found'%tw)\n",
    "        overlap_tw[int(tw)]=s_overlap\n",
    "        s_overlap_prev=s_overlap\n",
    "    return overlap_tw"
   ]
  },
  {
   "cell_type": "code",
   "execution_count": 22,
   "metadata": {
    "scrolled": true
   },
   "outputs": [
    {
     "name": "stdout",
     "output_type": "stream",
     "text": [
      "Time window= 100\n",
      "No overlap for tw 100s found\n",
      "Time window= 215\n",
      "No overlap for tw 215s found\n",
      "Time window= 464\n",
      "No overlap for tw 464s found\n",
      "Time window= 1000\n",
      "No overlap for tw 1000s found\n",
      "Time window= 2154\n",
      "No overlap for tw 2154s found\n",
      "Time window= 4641\n",
      "No overlap for tw 4641s found\n",
      "Time window= 10000\n",
      "No overlap for tw 10000s found\n",
      "Time window= 21544\n",
      "No overlap for tw 21544s found\n",
      "Time window= 46415\n",
      "No overlap for tw 46415s found\n",
      "Time window= 100000\n",
      "FRBs: FRB20190408A and FRB20190409C\n",
      "Time window= 215443\n",
      "Time window= 464158\n",
      "Time window= 1000000\n",
      "FRBs: FRB20181015A and FRB20181022C\n",
      "FRBs: FRB20181222E and FRB20181230E\n",
      "FRBs: FRB20190128C and FRB20190206B\n"
     ]
    }
   ],
   "source": [
    "overlap_tw= check_overlap(tws=np.logspace(2,6, num=13),max_cl=0.9)"
   ]
  },
  {
   "cell_type": "code",
   "execution_count": 23,
   "metadata": {},
   "outputs": [
    {
     "data": {
      "text/plain": [
       "{100: [],\n",
       " 215: [],\n",
       " 464: [],\n",
       " 1000: [],\n",
       " 2154: [],\n",
       " 4641: [],\n",
       " 10000: [],\n",
       " 21544: [],\n",
       " 46415: [],\n",
       " 100000: [['FRB20190408A', 'FRB20190409C']],\n",
       " 215443: [['FRB20190408A', 'FRB20190409C']],\n",
       " 464158: [['FRB20190408A', 'FRB20190409C']],\n",
       " 1000000: [['FRB20181015A', 'FRB20181022C'],\n",
       "  ['FRB20181222E', 'FRB20181230E'],\n",
       "  ['FRB20190128C', 'FRB20190206B'],\n",
       "  ['FRB20190408A', 'FRB20190409C']]}"
      ]
     },
     "execution_count": 23,
     "metadata": {},
     "output_type": "execute_result"
    }
   ],
   "source": [
    "overlap_tw"
   ]
  },
  {
   "cell_type": "code",
   "execution_count": 24,
   "metadata": {},
   "outputs": [],
   "source": [
    "with open('overlapping_frbs_cl90.pkl', 'wb') as outfile:\n",
    "    pkl.dump(overlap_tw, outfile)"
   ]
  },
  {
   "cell_type": "code",
   "execution_count": 29,
   "metadata": {
    "scrolled": false
   },
   "outputs": [
    {
     "name": "stdout",
     "output_type": "stream",
     "text": [
      "Time window:  10.0\n",
      "Time window:  21.544346900318832\n",
      "Time window:  46.41588833612777\n",
      "Time window:  100.0\n",
      "Time window:  215.44346900318823\n",
      "Time window:  464.15888336127773\n",
      "Time window:  1000.0\n",
      "Time window:  2154.4346900318824\n",
      "Time window:  4641.588833612777\n",
      "Time window:  10000.0\n",
      "Time window:  21544.346900318822\n",
      "Time window:  46415.888336127726\n",
      "Time window:  100000.0\n",
      "Time window:  215443.46900318822\n",
      "Time window:  464158.8833612772\n",
      "Time window:  1000000.0\n"
     ]
    }
   ],
   "source": [
    "def repeater_selfoverlap(tw=1000., document=False):\n",
    "    tw=tw/86400.\n",
    "    overlap=[]\n",
    "    for i in range(len(dat_files)):\n",
    "        frb_name=dat_files[i][0:12]\n",
    "        f=np.where(sp_frbs['src']==frb_name)[0] \n",
    "    \n",
    "        frb_time=sp_frbs['mjd'].values[f] #if this is a repeater, will have multiple times\n",
    "        if len(frb_time)==1: continue\n",
    "        \n",
    "        for m in range(len(frb_time)): \n",
    "            trange=[frb_time[m]-(tw/2.),frb_time[m]+(tw/2.)]\n",
    "        \n",
    "            for k in [x for x in range(len(frb_time)) if x != i]:  \n",
    "                trange2=[frb_time[k]-(tw/2.),frb_time[k]+(tw/2.)]\n",
    "        \n",
    "                check1= trange[0]<trange2[0] and trange[1]>trange2[0] #check for temporal overlap\n",
    "                check2= trange[0]<trange2[1] and trange[1]>trange2[1]\n",
    "                if check1 or check2: \n",
    "                    if [frb_name, frb_time[k],frb_time[m]] not in overlap:\n",
    "                        overlap.append([frb_name, frb_time[m], frb_time[k]])\n",
    "                        if document==True: print('    ',frb_name, frb_time[m], frb_time[k])\n",
    "    return overlap\n",
    "\n",
    "tws=np.logspace(1,6,num=16)\n",
    "rep_overlap={}\n",
    "for tw in tws:\n",
    "    print('Time window: ',tw)\n",
    "    overlap=repeater_selfoverlap(tw=tw)\n",
    "    if len(overlap)!=0:\n",
    "        rep_overlap[int(tw)]=overlap\n",
    "    else: rep_overlap[int(tw)]=[None]"
   ]
  },
  {
   "cell_type": "code",
   "execution_count": 30,
   "metadata": {},
   "outputs": [
    {
     "data": {
      "text/plain": [
       "{10: [None],\n",
       " 21: [None],\n",
       " 46: [None],\n",
       " 100: [['FRB20190116B', 58499.54692066, 58499.54745883701]],\n",
       " 215: [['FRB20181030A', 58421.17584521, 58421.17802826],\n",
       "  ['FRB20190116B', 58499.54692066, 58499.54745883701]],\n",
       " 464: [['FRB20181030A', 58421.17584521, 58421.17802826],\n",
       "  ['FRB20190116B', 58499.54692066, 58499.54745883701]],\n",
       " 1000: [['FRB20181030A', 58421.17584521, 58421.17802826],\n",
       "  ['FRB20190116B', 58499.54692066, 58499.54745883701]],\n",
       " 2154: [['FRB20181030A', 58421.17584521, 58421.17802826],\n",
       "  ['FRB20190116B', 58499.54692066, 58499.54745883701]],\n",
       " 4641: [['FRB20181030A', 58421.17584521, 58421.17802826],\n",
       "  ['FRB20190116B', 58499.54692066, 58499.54745883701]],\n",
       " 10000: [['FRB20181030A', 58421.17584521, 58421.17802826],\n",
       "  ['FRB20190116B', 58499.54692066, 58499.54745883701]],\n",
       " 21544: [['FRB20181030A', 58421.17584521, 58421.17802826],\n",
       "  ['FRB20190116B', 58499.54692066, 58499.54745883701]],\n",
       " 46415: [['FRB20181030A', 58421.17584521, 58421.17802826],\n",
       "  ['FRB20190116B', 58499.54692066, 58499.54745883701]],\n",
       " 100000: [['FRB20181030A', 58421.17584521, 58421.17802826],\n",
       "  ['FRB20190116B', 58499.54692066, 58499.54745883701],\n",
       "  ['FRB20190209A', 58523.34746555, 58524.34529982],\n",
       "  ['FRB20190212A', 58526.678744, 58527.714962027]],\n",
       " 215443: [['FRB20180814A', 58378.032385833, 58380.52513717],\n",
       "  ['FRB20180814A', 58440.364464050996, 58442.35102095],\n",
       "  ['FRB20181030A', 58421.17584521, 58421.17802826],\n",
       "  ['FRB20190116B', 58499.54692066, 58499.54745883701],\n",
       "  ['FRB20190209A', 58523.34746555, 58524.34529982],\n",
       "  ['FRB20190212A', 58526.678744, 58527.714962027],\n",
       "  ['FRB20190604A', 58638.243023695, 58640.232309365994]],\n",
       " 464158: [['FRB20180814A', 58378.032385833, 58380.52513717],\n",
       "  ['FRB20180814A', 58440.364464050996, 58442.35102095],\n",
       "  ['FRB20181030A', 58421.17584521, 58421.17802826],\n",
       "  ['FRB20190116B', 58499.54692066, 58499.54745883701],\n",
       "  ['FRB20190209A', 58523.34746555, 58524.34529982],\n",
       "  ['FRB20190212A', 58526.678744, 58527.714962027],\n",
       "  ['FRB20190604A', 58638.243023695, 58640.232309365994]],\n",
       " 1000000: [['FRB20180814A', 58372.54116263, 58378.032385833],\n",
       "  ['FRB20180814A', 58372.54116263, 58380.52513717],\n",
       "  ['FRB20180814A', 58378.032385833, 58380.52513717],\n",
       "  ['FRB20180814A', 58440.364464050996, 58442.35102095],\n",
       "  ['FRB20181030A', 58421.17584521, 58421.17802826],\n",
       "  ['FRB20190116B', 58499.54692066, 58499.54745883701],\n",
       "  ['FRB20190209A', 58523.34746555, 58524.34529982],\n",
       "  ['FRB20190212A', 58526.678744, 58527.714962027],\n",
       "  ['FRB20190222A', 58536.781960874, 58543.752111965994],\n",
       "  ['FRB20190604A', 58638.243023695, 58640.232309365994]]}"
      ]
     },
     "execution_count": 30,
     "metadata": {},
     "output_type": "execute_result"
    }
   ],
   "source": [
    "rep_overlap"
   ]
  },
  {
   "cell_type": "code",
   "execution_count": 31,
   "metadata": {},
   "outputs": [],
   "source": [
    "with open('overlapping_repeats.pkl', 'wb') as outfile:\n",
    "    pkl.dump(rep_overlap, outfile)"
   ]
  },
  {
   "cell_type": "code",
   "execution_count": 24,
   "metadata": {},
   "outputs": [],
   "source": [
    "overlap_9997 = pd.read_pickle(r'/home/jthwaites/FRB/overlapping_frbs_cl9997.pkl')\n",
    "overlap_99 = pd.read_pickle(r'/home/jthwaites/FRB/overlapping_frbs_cl99.pkl')\n",
    "overlap_90 = pd.read_pickle(r'/home/jthwaites/FRB/overlapping_frbs_cl90.pkl')"
   ]
  },
  {
   "cell_type": "code",
   "execution_count": 32,
   "metadata": {},
   "outputs": [],
   "source": [
    "selfoverlap = pd.read_pickle(r'/home/jthwaites/FRB/overlapping_repeats.pkl')"
   ]
  },
  {
   "cell_type": "code",
   "execution_count": 61,
   "metadata": {},
   "outputs": [
    {
     "data": {
      "text/plain": [
       "{100: [],\n",
       " 215: [],\n",
       " 464: [],\n",
       " 1000: [],\n",
       " 2154: [],\n",
       " 4641: [],\n",
       " 10000: [['FRB20190124B', 'FRB20190124C']],\n",
       " 21544: [['FRB20190124B', 'FRB20190124C']],\n",
       " 46415: [['FRB20190124B', 'FRB20190124C'], ['FRB20190519H', 'FRB20190519J']],\n",
       " 100000: [['FRB20190124B', 'FRB20190124C'],\n",
       "  ['FRB20190408A', 'FRB20190409C'],\n",
       "  ['FRB20190519H', 'FRB20190519J'],\n",
       "  ['FRB20190630C', 'FRB20190701C']],\n",
       " 215443: [['FRB20190124B', 'FRB20190124C'],\n",
       "  ['FRB20190408A', 'FRB20190409C'],\n",
       "  ['FRB20190519H', 'FRB20190519J'],\n",
       "  ['FRB20190630C', 'FRB20190701C']],\n",
       " 464158: [['FRB20190124B', 'FRB20190124C'],\n",
       "  ['FRB20190408A', 'FRB20190409C'],\n",
       "  ['FRB20190519H', 'FRB20190519J'],\n",
       "  ['FRB20190609B', 'FRB20190614A'],\n",
       "  ['FRB20190630C', 'FRB20190701C']],\n",
       " 1000000: [['FRB20181015A', 'FRB20181022C'],\n",
       "  ['FRB20181222E', 'FRB20181230E'],\n",
       "  ['FRB20190124B', 'FRB20190124C'],\n",
       "  ['FRB20190128C', 'FRB20190206B'],\n",
       "  ['FRB20190209A', 'FRB20190218C'],\n",
       "  ['FRB20190209A', 'FRB20190218C'],\n",
       "  ['FRB20190217B', 'FRB20190226C'],\n",
       "  ['FRB20190328B', 'FRB20190403E'],\n",
       "  ['FRB20190408A', 'FRB20190409C'],\n",
       "  ['FRB20190519H', 'FRB20190519J'],\n",
       "  ['FRB20190609B', 'FRB20190614A'],\n",
       "  ['FRB20190630C', 'FRB20190701C']]}"
      ]
     },
     "execution_count": 61,
     "metadata": {},
     "output_type": "execute_result"
    }
   ],
   "source": [
    "overlap_99"
   ]
  },
  {
   "cell_type": "code",
   "execution_count": 64,
   "metadata": {},
   "outputs": [
    {
     "name": "stdout",
     "output_type": "stream",
     "text": [
      "{90: [0, 0, 0, 0, 0, 0, 0, 0, 0, 2, 2, 2, 8], 99: [0, 0, 0, 0, 0, 0, 2, 2, 4, 8, 8, 10, 22], 99.97: [0, 0, 0, 0, 0, 0, 2, 2, 4, 8, 12, 18, 38]}\n"
     ]
    }
   ],
   "source": [
    "tws=[int(t) for t in np.logspace(2,6, num=13)]\n",
    "n_frbs={90:[],99:[],99.97:[]}\n",
    "for tw in tws:\n",
    "    n_99=[]\n",
    "    for i in range(len(overlap_99[tw])):\n",
    "        n_99.append(overlap_99[tw][i][0])\n",
    "        n_99.append(overlap_99[tw][i][1])\n",
    "    n_frbs[99].append(len(np.unique(n_99)))\n",
    "    \n",
    "    n_90=[]\n",
    "    for i in range(len(overlap_90[tw])):\n",
    "        n_90.append(overlap_90[tw][i][0])\n",
    "        n_90.append(overlap_90[tw][i][1])\n",
    "    n_frbs[90].append(len(np.unique(n_90)))\n",
    "    \n",
    "    n_9997=[]\n",
    "    for i in range(len(overlap_9997[tw])):\n",
    "        n_9997.append(overlap_9997[tw][i][0])\n",
    "        n_9997.append(overlap_9997[tw][i][1])\n",
    "    n_frbs[99.97].append(len(np.unique(n_9997)))\n",
    "    \n",
    "print(n_frbs)"
   ]
  },
  {
   "cell_type": "code",
   "execution_count": 26,
   "metadata": {},
   "outputs": [],
   "source": [
    "#fig, ax = plt.subplots(figsize=(9,5))\n",
    "tws=[int(t) for t in np.logspace(2,6, num=13)]\n",
    "\n",
    "n_frbs_9997=[len(overlap_9997[k])*2 for k in tws] #no 3-way or more overlap until higher tw than 10^6\n",
    "n_frbs_9997[-1]=n_frbs_9997[-1]-3 \n",
    "#one repeated frb: 2 repeats of the same frb with 1 non-rep\n",
    "#and one 3-way overlap\n",
    "\n",
    "n_frbs_99=[(len(overlap_99[k]))*2 for k in tws] \n",
    "n_frbs_99[-1]=n_frbs_99[-1]-2 #same 2 rep as above\n",
    "\n",
    "n_frbs_90=[len(overlap_90[k])*2 for k in tws] "
   ]
  },
  {
   "cell_type": "code",
   "execution_count": 67,
   "metadata": {},
   "outputs": [
    {
     "data": {
      "image/png": "[encoded data removed]",
      "text/plain": [
       "<Figure size 648x360 with 1 Axes>"
      ]
     },
     "metadata": {
      "needs_background": "light"
     },
     "output_type": "display_data"
    }
   ],
   "source": [
    "fig, ax = plt.subplots(figsize=(9,5))\n",
    "plt.plot(tws, n_frbs[99.97], '^', color='C3', label='CL=99.97%')\n",
    "plt.plot(tws, n_frbs[99], 'v', color='C2', label='CL=99%')\n",
    "plt.plot(tws, n_frbs[90], '*', color='C1', label='CL=90%')\n",
    "\n",
    "plt.plot(tws, np.zeros(13),'--',color='C0', label='No overlap')\n",
    "\n",
    "plt.ylabel(r'number of FRBs with overlap')\n",
    "plt.xlabel(r'time window (sec)')\n",
    "ax.set_title(r'Spatial and temporal overlap of FRBs')\n",
    "plt.xscale('log')\n",
    "plt.legend(fontsize=18)\n",
    "plt.savefig('/home/jthwaites/FRB/plots/overlap_cls.png')"
   ]
  },
  {
   "cell_type": "code",
   "execution_count": null,
   "metadata": {},
   "outputs": [],
   "source": []
  }
 ],
 "metadata": {
  "kernelspec": {
   "display_name": "Python 3",
   "language": "python",
   "name": "python3"
  },
  "language_info": {
   "codemirror_mode": {
    "name": "ipython",
    "version": 3
   },
   "file_extension": ".py",
   "mimetype": "text/x-python",
   "name": "python",
   "nbconvert_exporter": "python",
   "pygments_lexer": "ipython3",
   "version": "3.7.5"
  }
 },
 "nbformat": 4,
 "nbformat_minor": 2
}
