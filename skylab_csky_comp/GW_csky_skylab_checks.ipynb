{
 "cells": [
  {
   "cell_type": "code",
   "execution_count": 1,
   "metadata": {},
   "outputs": [
    {
     "name": "stdout",
     "output_type": "stream",
     "text": [
      "Could not import from icecube, coordinate operations will not be possible\n"
     ]
    }
   ],
   "source": [
    "import numpy  as np\n",
    "import healpy as hp\n",
    "import time\n",
    "\n",
    "from skylab.priors        import SpatialPrior\n",
    "from config_GW            import config\n",
    "from scipy.optimize       import curve_fit\n",
    "from skylab.ps_injector   import PointSourceInjector\n",
    "from scipy.stats          import chi2\n",
    "\n",
    "import matplotlib as mpl\n",
    "import matplotlib.pyplot as plt\n",
    "import pandas as pd"
   ]
  },
  {
   "cell_type": "code",
   "execution_count": 2,
   "metadata": {},
   "outputs": [],
   "source": [
    "mpl.rcParams['font.size'] = 20"
   ]
  },
  {
   "cell_type": "code",
   "execution_count": 3,
   "metadata": {},
   "outputs": [],
   "source": [
    "tsList= pd.read_csv('./maxTS_151226.csv') \n",
    "tsList=tsList.values\n",
    "ts_csky=pd.read_csv('./maxTS_151226_csky.csv')\n",
    "ts_csky=ts_csky.values"
   ]
  },
  {
   "cell_type": "code",
   "execution_count": null,
   "metadata": {},
   "outputs": [],
   "source": [
    "\"\"\" Original code, from Raamis\n",
    "######################### CONFIGURE ARGUEMENTS #############################\n",
    "p = argparse.ArgumentParser(description=\"Calculates Sensitivity and Discovery\"\n",
    "                            \" Potential Fluxes for Background Gravitational wave/Neutrino Coincidence study\",\n",
    "                            formatter_class=argparse.RawTextHelpFormatter)\n",
    "p.add_argument(\"--ntrials\", default=1000, type=int,\n",
    "                help=\"Number of trials (default=1000\")\n",
    "p.add_argument(\"--pid\", default=0, type=int,\n",
    "                help=\"Process ID to save unique numpy array after running (Default=0)\")\n",
    "p.add_argument(\"--gw\", default=151226, type=int,\n",
    "                help=\"Date of GW event (yr-m-d) (default=151226)\")\n",
    "p.add_argument('--tw', default=3., type=float,\n",
    "                help='Log10(time_window) to perform search in (default=3 which corresponds to 10^3 seconds)')\n",
    "args = p.parse_args()\n",
    "###########################################################################\n",
    "\n",
    "###################### CONFIGURE LLH  ########################\n",
    "seasons = ['GFU_v002p05','IC86, 2011-2018']\n",
    "erange  = [0,10]\n",
    "index = 2.\n",
    "GW_time_dict = dict({150914:57279.41024306,151226:57382.152001999784,\n",
    "                     151012:57307.4130028,170104:57757.42498380,\n",
    "                     170608:57912.08421863,170729:57963.78922801,\n",
    "                     170809:57974.35303009,170814:57979.43800382,\n",
    "                     170817:57982.52852350,170818:57983.10079977,\n",
    "                     170823:57988.55137153,})\n",
    "GW_time = GW_time_dict[args.gw]\n",
    "time_window = 10**args.tw/2/86400 #500 seconds in days\n",
    "time_mask = [time_window,GW_time]\n",
    "\n",
    "# For 2 week analysis\n",
    "#time_window = 7.05 #half of 14+0.1 day time window\n",
    "#time_mask = [time_window,GW_time+6.95] #[-0.1,14] day time window\n",
    "\n",
    "#############################################################\n",
    "\n",
    "############# LIGO SKYMAP ###############\n",
    "fitsFile = '/data/user/rhussain/fitsFiles/GW%s_skymap.fits' % args.gw\n",
    "\n",
    "### Read map and get probabilities\n",
    "probs = hp.read_map(fitsFile)\n",
    "nside = hp.pixelfunc.get_nside(probs)\n",
    "probs = hp.pixelfunc.ud_grade(probs,nside_out=256,power=-2)\n",
    "nside = 256\n",
    "\n",
    "\n",
    "### Set up spatial prior to be used in scan\n",
    "spatial_prior = SpatialPrior(probs,allow_neg=True,interpolated_ts_norm=True)\n",
    "##########################################\n",
    "\n",
    "llh = config(seasons,ncpu=7, days=5,timescramble=True,\n",
    "             time_mask=time_mask,poisson=True)\n",
    "\n",
    "### Set range of for loop so that multiple jobs \n",
    "### on the cluster will still all have unique \n",
    "### seedse\n",
    "ntrials = args.ntrials\n",
    "stop = ntrials * (args.pid+1)\n",
    "start = stop-ntrials\n",
    "\n",
    "tsList = []\n",
    "for i in range(start,stop):\n",
    "    val = llh.scan(0.0,0.0, scramble = True, seed = i,spatial_prior=spatial_prior,\n",
    "                    time_mask = time_mask, pixel_scan=[nside,3.0]) #mask in pixel scan\n",
    "    try:\n",
    "        tsList.append(val['TS_spatial_prior_0'].max())\n",
    "    except ValueError:\n",
    "        tsList.append(-np.inf)\n",
    "#np.save('/home/rhussain/icecube/dump/gw%s/bkgTrials/maxTS_%s.npy' % (args.gw,args.pid), tsList)\"\"\""
   ]
  },
  {
   "cell_type": "code",
   "execution_count": 4,
   "metadata": {},
   "outputs": [
    {
     "name": "stdout",
     "output_type": "stream",
     "text": [
      "NSIDE = 256\n",
      "ORDERING = NESTED in fits file\n",
      "INDXSCHM = IMPLICIT\n",
      "Ordering converted to RING\n"
     ]
    }
   ],
   "source": [
    "seasons = ['GFU_v002p05','IC86, 2011-2018']\n",
    "erange  = [0,10]\n",
    "index = 2.\n",
    "GW_time_dict = dict({150914:57279.41024306,151226:57382.152001999784,\n",
    "                     151012:57307.4130028,170104:57757.42498380,\n",
    "                     170608:57912.08421863,170729:57963.78922801,\n",
    "                     170809:57974.35303009,170814:57979.43800382,\n",
    "                     170817:57982.52852350,170818:57983.10079977,\n",
    "                     170823:57988.55137153,})\n",
    "\n",
    "#parser not working for me?\n",
    "gw=151226\n",
    "pid=0\n",
    "tw=3. #Log10(time_window) to perform search in (default=3 for 10^3 seconds)\n",
    "\n",
    "GW_time = GW_time_dict[gw]\n",
    "time_window = 10**tw/2/86400 #500 seconds in days\n",
    "time_mask = [time_window,GW_time]\n",
    "\n",
    "############# LIGO SKYMAP ###############\n",
    "fitsFile = '/data/user/rhussain/fitsFiles/GW%s_skymap.fits' % gw\n",
    "\n",
    "### Read map and get probabilities\n",
    "probs = hp.read_map(fitsFile)\n",
    "nside = hp.pixelfunc.get_nside(probs)\n",
    "probs = hp.pixelfunc.ud_grade(probs,nside_out=256,power=-2)\n",
    "nside = 256"
   ]
  },
  {
   "cell_type": "code",
   "execution_count": 3,
   "metadata": {},
   "outputs": [],
   "source": [
    "\"\"\"Skylab parts\"\"\"\n",
    "### Set up spatial prior to be used in scan\n",
    "spatial_prior = SpatialPrior(probs,allow_neg=True,interpolated_ts_norm=True)\n",
    "\n",
    "llh = config(seasons,ncpu=7, days=5,timescramble=True,\n",
    "             time_mask=time_mask,poisson=True)"
   ]
  },
  {
   "cell_type": "code",
   "execution_count": 6,
   "metadata": {
    "scrolled": true
   },
   "outputs": [
    {
     "name": "stdout",
     "output_type": "stream",
     "text": [
      "0 / 500 trials done.\n",
      "20 / 500 trials done.\n",
      "40 / 500 trials done.\n",
      "60 / 500 trials done.\n",
      "80 / 500 trials done.\n",
      "100 / 500 trials done.\n",
      "120 / 500 trials done.\n",
      "140 / 500 trials done.\n",
      "160 / 500 trials done.\n",
      "180 / 500 trials done.\n",
      "200 / 500 trials done.\n",
      "220 / 500 trials done.\n",
      "240 / 500 trials done.\n",
      "260 / 500 trials done.\n",
      "280 / 500 trials done.\n",
      "300 / 500 trials done.\n",
      "320 / 500 trials done.\n",
      "340 / 500 trials done.\n",
      "360 / 500 trials done.\n",
      "380 / 500 trials done.\n",
      "400 / 500 trials done.\n",
      "420 / 500 trials done.\n",
      "440 / 500 trials done.\n",
      "460 / 500 trials done.\n",
      "480 / 500 trials done.\n",
      "Done.\n"
     ]
    }
   ],
   "source": [
    "ntrials=500\n",
    "mod=20\n",
    "stop = ntrials * (pid+1)\n",
    "start = stop-ntrials\n",
    "\n",
    "#tsList = []\n",
    "for i in range(start,stop):\n",
    "    val = llh.scan(0.0,0.0, scramble = True, seed = i,spatial_prior=spatial_prior,\n",
    "                    time_mask = time_mask, pixel_scan=[nside,3.0])\n",
    "    try:\n",
    "        tsList.append(val['TS_spatial_prior_0'].max())\n",
    "    except ValueError:\n",
    "        tsList.append(-np.inf)\n",
    "    if i%mod==0: print('%i / %i trials done.'%(i, ntrials))\n",
    "print('Done.')"
   ]
  },
  {
   "cell_type": "code",
   "execution_count": 9,
   "metadata": {},
   "outputs": [
    {
     "data": {
      "image/png": "[encoded data removed]",
      "text/plain": [
       "<Figure size 648x432 with 1 Axes>"
      ]
     },
     "metadata": {
      "needs_background": "light"
     },
     "output_type": "display_data"
    }
   ],
   "source": [
    "ts=[]\n",
    "for i in range(0,len(tsList)):\n",
    "    if tsList[i]<0: ts.append(0.)\n",
    "    else: ts.append(tsList[i])\n",
    "fig, ax = plt.subplots(figsize=(9,6))\n",
    "mpl.rcParams['font.size'] = 20\n",
    "ax.hist(ts, bins=50,histtype='step', lw=2., color='C0', \n",
    "        label='bg trials (skylab, ntrials=%i)'%(ntrials*2))\n",
    "\n",
    "ax.set_title('GW%i, 1000s time window'%gw)\n",
    "ax.semilogy()\n",
    "ax.set_xlabel(r'TS')\n",
    "ax.set_ylabel(r'$N$')\n",
    "ax.legend()\n",
    "plt.show()"
   ]
  },
  {
   "cell_type": "code",
   "execution_count": 106,
   "metadata": {},
   "outputs": [
    {
     "data": {
      "image/png": "[encoded data removed]",
      "text/plain": [
       "<Figure size 648x432 with 1 Axes>"
      ]
     },
     "metadata": {
      "needs_background": "light"
     },
     "output_type": "display_data"
    }
   ],
   "source": [
    "ts=[]\n",
    "for i in range(len(tsList)):\n",
    "    if tsList[i]<-100.: ts.append(-100.)\n",
    "    else: ts.append(float(tsList[i]))\n",
    "fig, ax = plt.subplots(figsize=(9,6))\n",
    "mpl.rcParams['font.size'] = 20\n",
    "ax.hist(ts, bins=80,histtype='step', lw=2.,# color='C0', \n",
    "        label='bg trials (skylab, ntrials=%i)'%(len(tsList)))\n",
    "\n",
    "ax.set_title('GW%i, 1000s time window'%gw)\n",
    "ax.semilogy()\n",
    "ax.set_xlabel(r'TS')\n",
    "ax.set_ylabel(r'$N$')\n",
    "#plt.xlim([-75,25])\n",
    "ax.legend()\n",
    "plt.show()"
   ]
  },
  {
   "cell_type": "code",
   "execution_count": 88,
   "metadata": {},
   "outputs": [],
   "source": [
    "#np.save('/home/jthwaites/FRB/maxTS_%s.npy'%(gw), tsList)\n",
    "ts_data=pd.DataFrame.from_dict(data={'ts':tsList})\n",
    "ts_data.to_csv('./maxTS_%s.csv'%(gw),index=False)"
   ]
  },
  {
   "cell_type": "code",
   "execution_count": 5,
   "metadata": {},
   "outputs": [
    {
     "name": "stdout",
     "output_type": "stream",
     "text": [
      "Setting up Analysis for:\n",
      "GFU_for_2011_2012_2013_2014_2015_2016_2017_2018\n",
      "Setting up GFU_for_2011_2012_2013_2014_2015_2016_2017_2018...\n",
      "Reading /data/ana/analyses/gfu/version-002-p05/IC86_2011_MC.npy ...\n",
      "Reading /data/ana/analyses/gfu/version-002-p05/IC86_2011_data.npy ...\n",
      "Reading /data/ana/analyses/gfu/version-002-p05/IC86_2012_data.npy ...\n",
      "Reading /data/ana/analyses/gfu/version-002-p05/IC86_2013_data.npy ...\n",
      "Reading /data/ana/analyses/gfu/version-002-p05/IC86_2014_data.npy ...\n",
      "Reading /data/ana/analyses/gfu/version-002-p05/IC86_2015_data.npy ...\n",
      "Reading /data/ana/analyses/gfu/version-002-p05/IC86_2016_data.npy ...\n",
      "Reading /data/ana/analyses/gfu/version-002-p05/IC86_2017_data.npy ...\n",
      "Reading /data/ana/analyses/gfu/version-002-p05/IC86_2018_data.npy ...\n",
      "Reading /data/ana/analyses/gfu/version-002-p05/GRL/IC86_2011_data.npy ...\n",
      "Reading /data/ana/analyses/gfu/version-002-p05/GRL/IC86_2012_data.npy ...\n",
      "Reading /data/ana/analyses/gfu/version-002-p05/GRL/IC86_2013_data.npy ...\n",
      "Reading /data/ana/analyses/gfu/version-002-p05/GRL/IC86_2014_data.npy ...\n",
      "Reading /data/ana/analyses/gfu/version-002-p05/GRL/IC86_2015_data.npy ...\n",
      "Reading /data/ana/analyses/gfu/version-002-p05/GRL/IC86_2016_data.npy ...\n",
      "Reading /data/ana/analyses/gfu/version-002-p05/GRL/IC86_2017_data.npy ...\n",
      "Reading /data/ana/analyses/gfu/version-002-p05/GRL/IC86_2018_data.npy ...\n",
      "Energy PDF Ratio Model...\n",
      "  * gamma = 4.0000 ...\n",
      "Signal Acceptance Model...\n",
      "  * gamma = 4.0000 ...\n",
      "Done.\n"
     ]
    }
   ],
   "source": [
    "\"\"\"Csky parts\"\"\"\n",
    "import csky as cy\n",
    "\n",
    "ana_dir = cy.utils.ensure_dir('/home/jthwaites/csky_cache')\n",
    "ana = cy.get_analysis(cy.selections.repo, 'version-002-p05', #use p6, check p5 for GW\n",
    "                      cy.selections.GFUDataSpecs.GFU_IC86_2011_2018, dir=ana_dir)\n",
    "\n",
    "conf = {'extended': True, #use extended LLH due to low time window\n",
    "        'space': \"ps\",\n",
    "        'time': \"transient\",\n",
    "        'sig': 'transient',\n",
    "        'ana':ana,\n",
    "        'mp_cpus': 3\n",
    "        }\n",
    "cy.CONF.update(conf)"
   ]
  },
  {
   "cell_type": "code",
   "execution_count": 6,
   "metadata": {},
   "outputs": [
    {
     "name": "stderr",
     "output_type": "stream",
     "text": [
      "/mnt/lfs7/user/jthwaites/csky/csky/trial.py:1119: RuntimeWarning: divide by zero encountered in log\n",
      "  pt = np.log(pt)\n"
     ]
    }
   ],
   "source": [
    "###probs (map), nside already defined above for spatial prior\n",
    "src=cy.utils.Sources(mjd=GW_time_dict[151226],\n",
    "                     t_100=1000/84600., sigma_t=0.)\n",
    "tr = cy.get_spatial_prior_trial_runner(conf, ana=ana,llh_priors=probs, \n",
    "                     src_tr=src, refine_max=False, get_pixmask=True)"
   ]
  },
  {
   "cell_type": "code",
   "execution_count": 7,
   "metadata": {},
   "outputs": [
    {
     "name": "stdout",
     "output_type": "stream",
     "text": [
      "Scanning 9018 locations using 1 cores:\n",
      "       9018/9018 coordinates complete.   \n",
      "TS, ns, gamma (ra,dec) = 6.73, 0.99, 2.09 (99.59, 56.06)\n"
     ]
    },
    {
     "data": {
      "text/plain": [
       "array([6.72556751, 6.72556751, 0.99085751, 2.09358807, 1.73817626,\n",
       "       0.97850938])"
      ]
     },
     "execution_count": 7,
     "metadata": {},
     "output_type": "execute_result"
    }
   ],
   "source": [
    "result=tr.get_one_fit(poisson=True, logging=True)\n",
    "print('TS, ns, gamma (ra,dec) = {:.2f}, {:.2f}, {:.2f} ({:.2f}, {:.2f})'.format(\n",
    "    result[1], result[2], result[3], *np.degrees(result[-2:])))"
   ]
  },
  {
   "cell_type": "code",
   "execution_count": 57,
   "metadata": {},
   "outputs": [
    {
     "name": "stdout",
     "output_type": "stream",
     "text": [
      "Performing 100 background trials using 3 cores:\n",
      "        100/100 trials complete.   \n"
     ]
    }
   ],
   "source": [
    "#trial=tr.get_one_trial(poisson=True)\n",
    "result = tr.get_many_fits(100,poisson=True, logging=True)\n",
    "ts_csky=list(result.ts)"
   ]
  },
  {
   "cell_type": "code",
   "execution_count": 70,
   "metadata": {},
   "outputs": [
    {
     "name": "stdout",
     "output_type": "stream",
     "text": [
      "Performing 500 background trials using 3 cores:\n",
      "        500/500 trials complete.   \n"
     ]
    }
   ],
   "source": [
    "result = tr.get_many_fits(500,poisson=True, logging=True)\n",
    "for ts in result.ts:\n",
    "    ts_csky.append(ts)"
   ]
  },
  {
   "cell_type": "code",
   "execution_count": 111,
   "metadata": {},
   "outputs": [
    {
     "data": {
      "image/png": "[encoded data removed]",
      "text/plain": [
       "<Figure size 648x432 with 1 Axes>"
      ]
     },
     "metadata": {
      "needs_background": "light"
     },
     "output_type": "display_data"
    }
   ],
   "source": [
    "plot_both=True\n",
    "\n",
    "fig, ax = plt.subplots(figsize=(9,6))\n",
    "mpl.rcParams['font.size'] = 20\n",
    "bins=np.linspace(0,22,num=50)\n",
    "ax.hist(ts_csky, bins=bins,histtype='step', lw=2., color='C1', \n",
    "        label='bg trials (csky, ntrials=%i)'%(len(ts_csky)))\n",
    "\n",
    "if plot_both==True:\n",
    "    ts=[]\n",
    "    for i in range(len(tsList)):\n",
    "        if tsList[i]<0.: ts.append(0.)\n",
    "        else: ts.append(float(tsList[i]))\n",
    "    ax.hist(ts, bins=bins,histtype='step', lw=2., color='C0', \n",
    "        label='bg trials (skylab, ntrials=%i)'%(len(tsList)))\n",
    "\n",
    "ax.set_title('GW%i, 1000s time window'%gw)\n",
    "ax.semilogy()\n",
    "ax.set_xlabel(r'TS')\n",
    "ax.set_ylabel(r'$N$')\n",
    "#plt.xlim([-75,25])\n",
    "ax.legend()\n",
    "plt.savefig('./bg_dist.png')"
   ]
  },
  {
   "cell_type": "code",
   "execution_count": 136,
   "metadata": {},
   "outputs": [],
   "source": [
    "ts_cd=pd.DataFrame.from_dict(data={'ts':ts_csky})\n",
    "ts_cd.to_csv('./maxTS_%s_csky.csv'%(gw),index=False)"
   ]
  },
  {
   "cell_type": "code",
   "execution_count": 7,
   "metadata": {},
   "outputs": [],
   "source": [
    "\"\"\"Sensitivity\"\"\"\n",
    "tr=cy.get_spatial_prior_trial_runner(conf,ana=ana,src_tr=src, get_pixmask=True,\n",
    "        inj_conf={'flux':cy.hyp.PowerLawFlux(2.)},llh_priors=probs, refine_max=False)"
   ]
  },
  {
   "cell_type": "code",
   "execution_count": 8,
   "metadata": {},
   "outputs": [
    {
     "name": "stdout",
     "output_type": "stream",
     "text": [
      "Scanning 1124 locations using 1 cores:\n",
      "       1124/1124 coordinates complete.   \n",
      "TS, ns, gamma (ra,dec) = 0.00, 0.00, 0.00 (215.61, -42.21)\n"
     ]
    }
   ],
   "source": [
    "result=tr.get_one_fit(poisson=True, logging=True)\n",
    "print('TS, ns, gamma (ra,dec) = {:.2f}, {:.2f}, {:.2f} ({:.2f}, {:.2f})'.format(\n",
    "    result[1], result[2], result[3], *np.degrees(result[-2:])))"
   ]
  },
  {
   "cell_type": "code",
   "execution_count": null,
   "metadata": {},
   "outputs": [
    {
     "name": "stdout",
     "output_type": "stream",
     "text": [
      "Start time: 2021-08-13 14:01:44.546626\n",
      "Using 3 cores.\n",
      "* Starting initial scan for 90% of 50 trials with TS >= 0.000...\n",
      "  n_sig = 1.000 ..."
     ]
    },
    {
     "name": "stderr",
     "output_type": "stream",
     "text": [
      "Process Process-2:\n",
      "Traceback (most recent call last):\n",
      "  File \"/cvmfs/icecube.opensciencegrid.org/py3-v4.1.0/RHEL_7_x86_64/lib/python3.7/multiprocessing/process.py\", line 297, in _bootstrap\n",
      "    self.run()\n",
      "  File \"/cvmfs/icecube.opensciencegrid.org/py3-v4.1.0/RHEL_7_x86_64/lib/python3.7/multiprocessing/process.py\", line 99, in run\n",
      "    self._target(*self._args, **self._kwargs)\n",
      "  File \"/mnt/lfs7/user/jthwaites/csky/csky/trial.py\", line 310, in _get_some_fits\n",
      "    fit = self.get_one_fit(n_sig=n_sig, poisson=poisson, seed=seeds[i], **kw)\n",
      "Process Process-1:\n",
      "  File \"/mnt/lfs7/user/jthwaites/csky/csky/trial.py\", line 289, in get_one_fit\n",
      "    return self.get_one_fit_from_trial(evss_ns_excluded_tuple, flat=flat, **fitter_args)\n",
      "Traceback (most recent call last):\n",
      "  File \"/mnt/lfs7/user/jthwaites/csky/csky/trial.py\", line 1218, in get_one_fit_from_trial\n",
      "    scan = self.get_one_scan_from_trial(trial, logging=logging, mp_cpus=mp_cpus, **fitter_args)\n",
      "  File \"/cvmfs/icecube.opensciencegrid.org/py3-v4.1.0/RHEL_7_x86_64/lib/python3.7/multiprocessing/process.py\", line 297, in _bootstrap\n",
      "    self.run()\n",
      "  File \"/mnt/lfs7/user/jthwaites/csky/csky/trial.py\", line 1205, in get_one_scan_from_trial\n",
      "    trial, logging=logging, mp_cpus=mp_cpus, **fitter_args)\n",
      "  File \"/cvmfs/icecube.opensciencegrid.org/py3-v4.1.0/RHEL_7_x86_64/lib/python3.7/multiprocessing/process.py\", line 99, in run\n",
      "    self._target(*self._args, **self._kwargs)\n",
      "  File \"/mnt/lfs7/user/jthwaites/csky/csky/trial.py\", line 1029, in get_one_scan_from_trial\n",
      "    ev = utils.Arrays.concatenate(flat_evss)\n",
      "  File \"/mnt/lfs7/user/jthwaites/csky/csky/trial.py\", line 310, in _get_some_fits\n",
      "    fit = self.get_one_fit(n_sig=n_sig, poisson=poisson, seed=seeds[i], **kw)\n",
      "  File \"/mnt/lfs7/user/jthwaites/csky/csky/utils.py\", line 269, in concatenate\n",
      "    raise ValueError('keys do not match:\\n{}\\nvs\\n{}'.format(k1, k2))\n",
      "  File \"/mnt/lfs7/user/jthwaites/csky/csky/trial.py\", line 289, in get_one_fit\n",
      "    return self.get_one_fit_from_trial(evss_ns_excluded_tuple, flat=flat, **fitter_args)\n",
      "ValueError: keys do not match:\n",
      "['azimuth', 'dec', 'energy', 'idx', 'inj', 'log10energy', 'mjd', 'ra', 'sigma', 'sindec']\n",
      "vs\n",
      "['azimuth', 'dec', 'idx', 'inj', 'log10energy', 'mjd', 'ra', 'sigma', 'sindec']\n",
      "  File \"/mnt/lfs7/user/jthwaites/csky/csky/trial.py\", line 1218, in get_one_fit_from_trial\n",
      "    scan = self.get_one_scan_from_trial(trial, logging=logging, mp_cpus=mp_cpus, **fitter_args)\n",
      "  File \"/mnt/lfs7/user/jthwaites/csky/csky/trial.py\", line 1205, in get_one_scan_from_trial\n",
      "    trial, logging=logging, mp_cpus=mp_cpus, **fitter_args)\n",
      "  File \"/mnt/lfs7/user/jthwaites/csky/csky/trial.py\", line 1029, in get_one_scan_from_trial\n",
      "    ev = utils.Arrays.concatenate(flat_evss)\n",
      "  File \"/mnt/lfs7/user/jthwaites/csky/csky/utils.py\", line 269, in concatenate\n",
      "    raise ValueError('keys do not match:\\n{}\\nvs\\n{}'.format(k1, k2))\n",
      "ValueError: keys do not match:\n",
      "['azimuth', 'dec', 'energy', 'idx', 'inj', 'log10energy', 'mjd', 'ra', 'sigma', 'sindec']\n",
      "vs\n",
      "['azimuth', 'dec', 'idx', 'inj', 'log10energy', 'mjd', 'ra', 'sigma', 'sindec']\n",
      "Process Process-3:\n",
      "Traceback (most recent call last):\n",
      "  File \"/cvmfs/icecube.opensciencegrid.org/py3-v4.1.0/RHEL_7_x86_64/lib/python3.7/multiprocessing/process.py\", line 297, in _bootstrap\n",
      "    self.run()\n",
      "  File \"/cvmfs/icecube.opensciencegrid.org/py3-v4.1.0/RHEL_7_x86_64/lib/python3.7/multiprocessing/process.py\", line 99, in run\n",
      "    self._target(*self._args, **self._kwargs)\n",
      "  File \"/mnt/lfs7/user/jthwaites/csky/csky/trial.py\", line 310, in _get_some_fits\n",
      "    fit = self.get_one_fit(n_sig=n_sig, poisson=poisson, seed=seeds[i], **kw)\n",
      "  File \"/mnt/lfs7/user/jthwaites/csky/csky/trial.py\", line 289, in get_one_fit\n",
      "    return self.get_one_fit_from_trial(evss_ns_excluded_tuple, flat=flat, **fitter_args)\n",
      "  File \"/mnt/lfs7/user/jthwaites/csky/csky/trial.py\", line 1218, in get_one_fit_from_trial\n",
      "    scan = self.get_one_scan_from_trial(trial, logging=logging, mp_cpus=mp_cpus, **fitter_args)\n",
      "  File \"/mnt/lfs7/user/jthwaites/csky/csky/trial.py\", line 1205, in get_one_scan_from_trial\n",
      "    trial, logging=logging, mp_cpus=mp_cpus, **fitter_args)\n",
      "  File \"/mnt/lfs7/user/jthwaites/csky/csky/trial.py\", line 1029, in get_one_scan_from_trial\n",
      "    ev = utils.Arrays.concatenate(flat_evss)\n",
      "  File \"/mnt/lfs7/user/jthwaites/csky/csky/utils.py\", line 269, in concatenate\n",
      "    raise ValueError('keys do not match:\\n{}\\nvs\\n{}'.format(k1, k2))\n",
      "ValueError: keys do not match:\n",
      "['azimuth', 'dec', 'energy', 'idx', 'inj', 'log10energy', 'mjd', 'ra', 'sigma', 'sindec']\n",
      "vs\n",
      "['azimuth', 'dec', 'idx', 'inj', 'log10energy', 'mjd', 'ra', 'sigma', 'sindec']\n"
     ]
    }
   ],
   "source": [
    "sens=tr.find_n_sig(np.median(ts_csky),0.9, tol=0.03,n_sig_step=1)"
   ]
  },
  {
   "cell_type": "code",
   "execution_count": null,
   "metadata": {},
   "outputs": [],
   "source": []
  }
 ],
 "metadata": {
  "kernelspec": {
   "display_name": "Python 3",
   "language": "python",
   "name": "python3"
  },
  "language_info": {
   "codemirror_mode": {
    "name": "ipython",
    "version": 3
   },
   "file_extension": ".py",
   "mimetype": "text/x-python",
   "name": "python",
   "nbconvert_exporter": "python",
   "pygments_lexer": "ipython3",
   "version": "3.7.5"
  }
 },
 "nbformat": 4,
 "nbformat_minor": 2
}
