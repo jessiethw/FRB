{
 "cells": [
  {
   "cell_type": "code",
   "execution_count": 36,
   "metadata": {},
   "outputs": [],
   "source": [
    "%matplotlib inline\n",
    "import numpy as np\n",
    "import matplotlib as mpl\n",
    "import matplotlib.pyplot as plt\n",
    "import histlite as hl\n",
    "import csky as cy\n",
    "import pandas as pd\n",
    "from astropy.coordinates import SkyCoord\n",
    "from astropy import units as u\n",
    "mpl.rcParams['font.size'] = 20"
   ]
  },
  {
   "cell_type": "code",
   "execution_count": 3,
   "metadata": {},
   "outputs": [],
   "source": [
    "ana_dir = cy.utils.ensure_dir('/home/jthwaites/csky_cache')"
   ]
  },
  {
   "cell_type": "code",
   "execution_count": 5,
   "metadata": {},
   "outputs": [
    {
     "name": "stdout",
     "output_type": "stream",
     "text": [
      "Setting up Analysis for:\n",
      "GFU_for_2011_2012_2013_2014_2015_2016_2017_2018\n",
      "Setting up GFU_for_2011_2012_2013_2014_2015_2016_2017_2018...\n",
      "Reading /data/ana/analyses/gfu/version-002-p05/IC86_2011_MC.npy ...\n",
      "Reading /data/ana/analyses/gfu/version-002-p05/IC86_2011_data.npy ...\n",
      "Reading /data/ana/analyses/gfu/version-002-p05/IC86_2012_data.npy ...\n",
      "Reading /data/ana/analyses/gfu/version-002-p05/IC86_2013_data.npy ...\n",
      "Reading /data/ana/analyses/gfu/version-002-p05/IC86_2014_data.npy ...\n",
      "Reading /data/ana/analyses/gfu/version-002-p05/IC86_2015_data.npy ...\n",
      "Reading /data/ana/analyses/gfu/version-002-p05/IC86_2016_data.npy ...\n",
      "Reading /data/ana/analyses/gfu/version-002-p05/IC86_2017_data.npy ...\n",
      "Reading /data/ana/analyses/gfu/version-002-p05/IC86_2018_data.npy ...\n",
      "Reading /data/ana/analyses/gfu/version-002-p05/GRL/IC86_2011_data.npy ...\n",
      "Reading /data/ana/analyses/gfu/version-002-p05/GRL/IC86_2012_data.npy ...\n",
      "Reading /data/ana/analyses/gfu/version-002-p05/GRL/IC86_2013_data.npy ...\n",
      "Reading /data/ana/analyses/gfu/version-002-p05/GRL/IC86_2014_data.npy ...\n",
      "Reading /data/ana/analyses/gfu/version-002-p05/GRL/IC86_2015_data.npy ...\n",
      "Reading /data/ana/analyses/gfu/version-002-p05/GRL/IC86_2016_data.npy ...\n",
      "Reading /data/ana/analyses/gfu/version-002-p05/GRL/IC86_2017_data.npy ...\n",
      "Reading /data/ana/analyses/gfu/version-002-p05/GRL/IC86_2018_data.npy ...\n",
      "Energy PDF Ratio Model...\n",
      "  * gamma = 4.0000 ...\n",
      "Signal Acceptance Model...\n",
      "  * gamma = 4.0000 ...\n",
      "Done.\n"
     ]
    }
   ],
   "source": [
    "ana = cy.get_analysis(cy.selections.repo, 'version-002-p05', cy.selections.GFUDataSpecs.gfu_IC86, dir=ana_dir)"
   ]
  },
  {
   "cell_type": "code",
   "execution_count": 27,
   "metadata": {},
   "outputs": [],
   "source": [
    "cy.CONF['ana'] = ana"
   ]
  },
  {
   "cell_type": "code",
   "execution_count": 15,
   "metadata": {},
   "outputs": [
    {
     "data": {
      "text/html": [
       "<div>\n",
       "<style scoped>\n",
       "    .dataframe tbody tr th:only-of-type {\n",
       "        vertical-align: middle;\n",
       "    }\n",
       "\n",
       "    .dataframe tbody tr th {\n",
       "        vertical-align: top;\n",
       "    }\n",
       "\n",
       "    .dataframe thead th {\n",
       "        text-align: right;\n",
       "    }\n",
       "</style>\n",
       "<table border=\"1\" class=\"dataframe\">\n",
       "  <thead>\n",
       "    <tr style=\"text-align: right;\">\n",
       "      <th></th>\n",
       "      <th>frb_name</th>\n",
       "      <th>ra</th>\n",
       "      <th>dec</th>\n",
       "    </tr>\n",
       "  </thead>\n",
       "  <tbody>\n",
       "    <tr>\n",
       "      <th>0</th>\n",
       "      <td>190907.J08+46</td>\n",
       "      <td>08:09</td>\n",
       "      <td>+46:16</td>\n",
       "    </tr>\n",
       "    <tr>\n",
       "      <th>1</th>\n",
       "      <td>FRB20180814A</td>\n",
       "      <td>04:22</td>\n",
       "      <td>+73:40</td>\n",
       "    </tr>\n",
       "    <tr>\n",
       "      <th>2</th>\n",
       "      <td>FRB20180908B</td>\n",
       "      <td>12:32</td>\n",
       "      <td>+74:12</td>\n",
       "    </tr>\n",
       "    <tr>\n",
       "      <th>3</th>\n",
       "      <td>FRB20180916B</td>\n",
       "      <td>01:58</td>\n",
       "      <td>+65:44</td>\n",
       "    </tr>\n",
       "    <tr>\n",
       "      <th>4</th>\n",
       "      <td>FRB20181017A</td>\n",
       "      <td>17:05</td>\n",
       "      <td>+68:17</td>\n",
       "    </tr>\n",
       "  </tbody>\n",
       "</table>\n",
       "</div>"
      ],
      "text/plain": [
       "        frb_name     ra     dec\n",
       "0  190907.J08+46  08:09  +46:16\n",
       "1   FRB20180814A  04:22  +73:40\n",
       "2   FRB20180908B  12:32  +74:12\n",
       "3   FRB20180916B  01:58  +65:44\n",
       "4   FRB20181017A  17:05  +68:17"
      ]
     },
     "execution_count": 15,
     "metadata": {},
     "output_type": "execute_result"
    }
   ],
   "source": [
    "frbs = pd.read_csv('./frbs_coord.csv')\n",
    "frbs.head()"
   ]
  },
  {
   "cell_type": "code",
   "execution_count": 24,
   "metadata": {},
   "outputs": [
    {
     "data": {
      "text/plain": [
       "<SkyCoord (ICRS): (ra, dec) in deg\n",
       "    [(83.0375, 33.08694444)]>"
      ]
     },
     "execution_count": 24,
     "metadata": {},
     "output_type": "execute_result"
    }
   ],
   "source": [
    "#start with one frb first, then more later: FRB121102\n",
    "frbs_coord = SkyCoord(ra=frbs['ra'], dec=frbs['dec'], unit=(u.hourangle, u.deg))\n",
    "w=np.where(frbs['frb_name']=='FRB121102')\n",
    "frbs_coord[w]"
   ]
  },
  {
   "cell_type": "code",
   "execution_count": 28,
   "metadata": {},
   "outputs": [],
   "source": [
    "src = cy.sources(frbs_coord[w].ra, frbs_coord[w].dec, deg=True)\n",
    "tr = cy.get_trial_runner(src=src)"
   ]
  },
  {
   "cell_type": "code",
   "execution_count": 29,
   "metadata": {},
   "outputs": [
    {
     "name": "stdout",
     "output_type": "stream",
     "text": [
      "Performing 10000 background trials using 1 core:\n",
      "      10000/10000 trials complete.   \n"
     ]
    }
   ],
   "source": [
    "#do bg trials and store\n",
    "#`Chi2TSD` stores the trials as well as a $\\chi^2$ fit to the nonzero part of the TS distribution\n",
    "n_trials = 10000\n",
    "bg = cy.dists.Chi2TSD(tr.get_many_fits(n_trials))"
   ]
  },
  {
   "cell_type": "code",
   "execution_count": 30,
   "metadata": {},
   "outputs": [
    {
     "name": "stdout",
     "output_type": "stream",
     "text": [
      "Chi2TSD from 10000 trials:\n",
      "           eta = 0.645\n",
      "          ndof = 1.121\n",
      "           loc = 0.000\n",
      "         scale = 1.179\n",
      "Thresholds from trials:\n",
      "        median = 0.133\n",
      "       1 sigma = 1.81\n",
      "       2 sigma = 5.59\n",
      "       3 sigma = 11.63\n",
      "       4 sigma = 19.98\n",
      "       5 sigma = 30.67\n",
      "Thresholds from fit:\n",
      "        median = 0.138\n",
      "       1 sigma = 1.81\n",
      "       2 sigma = 5.59\n",
      "       3 sigma = 11.63\n",
      "       4 sigma = 19.98\n",
      "       5 sigma = 30.67\n"
     ]
    }
   ],
   "source": [
    "print(bg.description)\n",
    "#eta is a fit param for the chi-sq fxn"
   ]
  },
  {
   "cell_type": "code",
   "execution_count": 47,
   "metadata": {},
   "outputs": [
    {
     "data": {
      "image/png": "[encoded data removed]",
      "text/plain": [
       "<Figure size 648x432 with 1 Axes>"
      ]
     },
     "metadata": {
      "needs_background": "light"
     },
     "output_type": "display_data"
    }
   ],
   "source": [
    "#plot bg distr\n",
    "fig, ax = plt.subplots(figsize=(9,6))\n",
    "\n",
    "# csky uses histlite all over the place for PDF management\n",
    "# the background distribution fit integrates with histlite as well\n",
    "h = bg.get_hist(bins=50)\n",
    "hl.plot1d(ax, h, crosses=True, label='%i bg trials'%(bg.n_total))\n",
    "\n",
    "# compare with the chi2 fit:\n",
    "x = h.centers[0]\n",
    "norm = h.integrate().values #normalization for chi-sq\n",
    "ax.semilogy(x, norm * bg.pdf(x), lw=1, label=r'$\\chi^2$[%.2f dof, $\\eta$=%.3f]'%(bg.ndof, bg.eta))\n",
    "\n",
    "# always label your plots, folks\n",
    "ax.set_xlabel(r'TS')\n",
    "ax.set_ylabel(r'$N$')\n",
    "ax.legend()\n",
    "plt.savefig('./plots/%s_bg_ts.png'%frbs['frb_name'][w[0]].values[0])"
   ]
  },
  {
   "cell_type": "code",
   "execution_count": null,
   "metadata": {},
   "outputs": [],
   "source": []
  }
 ],
 "metadata": {
  "kernelspec": {
   "display_name": "Python 3",
   "language": "python",
   "name": "python3"
  },
  "language_info": {
   "codemirror_mode": {
    "name": "ipython",
    "version": 3
   },
   "file_extension": ".py",
   "mimetype": "text/x-python",
   "name": "python",
   "nbconvert_exporter": "python",
   "pygments_lexer": "ipython3",
   "version": "3.7.5"
  }
 },
 "nbformat": 4,
 "nbformat_minor": 2
}
